{
 "cells": [
  {
   "cell_type": "code",
   "execution_count": 1,
   "metadata": {},
   "outputs": [],
   "source": [
    "import numpy as np\n",
    "import pandas as pd\n",
    "\n",
    "import requests\n",
    "from bs4 import BeautifulSoup as BS\n",
    "\n",
    "import time"
   ]
  },
  {
   "cell_type": "code",
   "execution_count": 2,
   "metadata": {},
   "outputs": [],
   "source": [
    "arte_cultura = []\n",
    "scienze_naturali = []\n",
    "medicina = []\n",
    "economia = []\n",
    "politica = []\n",
    "sport = []"
   ]
  },
  {
   "cell_type": "code",
   "execution_count": 3,
   "metadata": {},
   "outputs": [],
   "source": [
    "def extend_topic_pages(topic_list, string_list):\n",
    "    topic_list.extend(string_list.split(\" · \"))"
   ]
  },
  {
   "cell_type": "markdown",
   "metadata": {},
   "source": [
    "# Arte e cultura"
   ]
  },
  {
   "cell_type": "code",
   "execution_count": 4,
   "metadata": {},
   "outputs": [],
   "source": [
    "extend_topic_pages(arte_cultura, \"Abbazia di Leno · Abbazia di San Michele Arcangelo a Passignano · Architettura neoclassica · Arco dei Gavi · Arena di Verona · Basilica di San Barnaba · Basilica di San Magno · Biblioteca Malatestiana · Bosco Verticale · Cappella Colleoni · Castello di Barletta · Castello di Fénis · Castello di Issogne · Castello di Verrès · Chiesa di San Bernardino da Siena (Amantea) · Chiesa dei Santi Faustino e Giovita · Chiesa dei Santi Nazaro e Celso (Verona) · Chiesa di Santo Stefano (Verona) · Basilica minore del Santissimo Rosario · Collegiata di Santa Maria Assunta (Ariccia) · Forte Montecchio Nord · Liberty a Milano · Liberty a Torino · Monastero delle Clarisse (Cerreto Sannita) · Mura di Asti · Museo nazionale di Capodimonte · Palazzo Colonna (Marino) · Palazzo Ducale (Genova) · Palazzo Ducale (Venezia) · Palazzo Pamphilj (Albano) · Palazzo Reale (Napoli) · Pantheon (Roma) · Piazza Bra · Pieve di San Giorgio di Valpolicella · Santuario di Nostra Signora di Montallegro · Santuario di Santa Maria dell'Acquasanta · Santuario di Santa Maria della Rotonda · Stadio Artemio Franchi · Stadio Renzo Barbera · Torri e palazzi dei Roero · Vittoriano\")"
   ]
  },
  {
   "cell_type": "code",
   "execution_count": 5,
   "metadata": {},
   "outputs": [],
   "source": [
    "extend_topic_pages(arte_cultura, \"Trittico del Giardino delle delizie · La zattera della Medusa · Libro di Kells · Porcellana Ginori a Doccia · Tesoro delle Sante Croci\")"
   ]
  },
  {
   "cell_type": "code",
   "execution_count": 6,
   "metadata": {},
   "outputs": [],
   "source": [
    "extend_topic_pages(arte_cultura, \"American Beauty · Cinema di fantascienza · L'Impero colpisce ancora · La vita è meravigliosa · Notting Hill (film) · Per un pugno di dollari · Star Wars: Episodio III - La vendetta dei Sith · Toy Story 3 - La grande fuga\")"
   ]
  },
  {
   "cell_type": "code",
   "execution_count": 7,
   "metadata": {},
   "outputs": [],
   "source": [
    "extend_topic_pages(arte_cultura, \"All Star Superman · Batman: Il lungo Halloween · Death Note · Doraemon · Seraphim 266613336Wings · Soltanto un altro giorno · Watchmen\")"
   ]
  },
  {
   "cell_type": "code",
   "execution_count": 8,
   "metadata": {},
   "outputs": [],
   "source": [
    "extend_topic_pages(arte_cultura, \"Alchemy: Dire Straits Live · Beastie Boys · Black Sabbath · Icona di contenuto parlato Concerti per clavicembalo di Johann Sebastian Bach · The Dark Side of the Moon · Deftones · Dire Straits · Dream Theater · E Street Band · Girls Aloud · Hardcore punk · Il Canto degli Italiani · Immortal · L'arte della fuga · Led Zeppelin · Metallica · The Offspring · Pink Floyd · Queen · Ramones · Rancid · Sex Pistols · Status Quo · Violino barocco · W.A.S.P. · What'd I Say · Yes\")"
   ]
  },
  {
   "cell_type": "code",
   "execution_count": 9,
   "metadata": {},
   "outputs": [],
   "source": [
    "extend_topic_pages(arte_cultura, \"Anime · Asuka Sōryū Langley · Chi ha sparato al signor Burns? · Cowboy Bebop · Homer Simpson · Kaworu Nagisa · Le avventure del giovane Indiana Jones · Misato Katsuragi · Neon Genesis Evangelion · Non è la Rai · Orgoglio e pregiudizio (miniserie televisiva 1995) · Rei Ayanami · Shinji Ikari · Star Trek\")"
   ]
  },
  {
   "cell_type": "code",
   "execution_count": 10,
   "metadata": {},
   "outputs": [],
   "source": [
    "extend_topic_pages(arte_cultura, \"Filippo Brunelleschi · Gasparo Cairano · Leonardo da Vinci · Antoon van Dyck · Pisanello · Tiziano Vecellio\")"
   ]
  },
  {
   "cell_type": "code",
   "execution_count": 11,
   "metadata": {},
   "outputs": [],
   "source": [
    "extend_topic_pages(arte_cultura, \"Christian Bale · Frank Capra · Groucho Marx · Orson Welles\")"
   ]
  },
  {
   "cell_type": "code",
   "execution_count": 12,
   "metadata": {},
   "outputs": [],
   "source": [
    "extend_topic_pages(arte_cultura, \"Vittorio Alfieri · Dante Alighieri · Livio Andronico · Giovanni Boccaccio · Marco Tullio Cicerone · Howard Phillips Lovecraft · Alessandro Manzoni · Francesco Petrarca · Lucio Orbilio Pupillo · Gaio Sallustio Crispo · Cecilio Stazio · Lev Tolstoj · Sof'ja Tolstaja\")"
   ]
  },
  {
   "cell_type": "code",
   "execution_count": 13,
   "metadata": {},
   "outputs": [],
   "source": [
    "extend_topic_pages(arte_cultura, \"Dietrich Buxtehude · Lucio Dalla · Sandy Denny · Guillaume Dufay · Francesco Guccini · Mark Knopfler · Freddie Mercury · Olivier Messiaen · The Notorious B.I.G. · Bruce Springsteen\")"
   ]
  },
  {
   "cell_type": "code",
   "execution_count": 14,
   "metadata": {},
   "outputs": [],
   "source": [
    "extend_topic_pages(arte_cultura, \"Commissario Maigret\")"
   ]
  },
  {
   "cell_type": "code",
   "execution_count": 15,
   "metadata": {},
   "outputs": [],
   "source": [
    "extend_topic_pages(arte_cultura, \"De Catilinae coniuratione · La dodicesima notte · La signorina Julie · Molto rumore per nulla · Trattato sull'astrolabio\")"
   ]
  },
  {
   "cell_type": "code",
   "execution_count": 16,
   "metadata": {},
   "outputs": [
    {
     "data": {
      "text/plain": [
       "141"
      ]
     },
     "execution_count": 16,
     "metadata": {},
     "output_type": "execute_result"
    }
   ],
   "source": [
    "len(arte_cultura)"
   ]
  },
  {
   "cell_type": "markdown",
   "metadata": {},
   "source": [
    "# Scienze Naturali"
   ]
  },
  {
   "cell_type": "code",
   "execution_count": 17,
   "metadata": {},
   "outputs": [],
   "source": [
    "extend_topic_pages(scienze_naturali, \"433 Eros · Alfa Centauri · Ammasso aperto · Ammasso globulare · Arco della Carena · Atmosfera di Giove · Betelgeuse · Canopo · Capella · Cometa Hyakutake · Cometa Shoemaker-Levy 9 · Complesso nebuloso molecolare del Cigno · Complesso nebuloso molecolare di Cefeo · Complesso nebuloso molecolare di Orione · Definizione di pianeta · Eventi d'impatto su Giove · Fobos · Formazione stellare · Galassia · Ganimede · Giove · Grande Nube di Magellano · IK Pegasi · Marte (astronomia) · Nana bianca · Nebulosa Aquila · Nebulosa della Carena · Nebulosa di Orione · Nebulosa Occhio di Gatto · Nebulosa solare · Icona di contenuto parlato Nettuno · Nube di Perseo · Oggetto di Herbig-Haro · Pleiadi · Pleiadi del Sud · Plutone (astronomia) · Presepe (astronomia) · Proxima Centauri · Regione di formazione stellare delle nebulose Cuore e Anima · Regioni di formazione stellare delle Vele · Regioni di formazione stellare di Cassiopea · Saturno · Sirio · Sole · Stella · Stella binaria · Stella di Barnard · Storia dell'astronomia · Urano · Vega · Vela Molecular Ridge · Via Lattea\")"
   ]
  },
  {
   "cell_type": "code",
   "execution_count": 18,
   "metadata": {},
   "outputs": [],
   "source": [
    "extend_topic_pages(scienze_naturali, \"Posidonia oceanica\")"
   ]
  },
  {
   "cell_type": "code",
   "execution_count": 19,
   "metadata": {},
   "outputs": [],
   "source": [
    "extend_topic_pages(scienze_naturali, \"Acqua · Enzima · Glicolisi\")"
   ]
  },
  {
   "cell_type": "code",
   "execution_count": 20,
   "metadata": {},
   "outputs": [],
   "source": [
    "extend_topic_pages(scienze_naturali, \"Esperimento dello Schiehallion · Fisica classica · Massa (fisica)\")"
   ]
  },
  {
   "cell_type": "code",
   "execution_count": 21,
   "metadata": {},
   "outputs": [],
   "source": [
    "extend_topic_pages(scienze_naturali, \"Integrale multiplo · Numero primo · Poliedro\")"
   ]
  },
  {
   "cell_type": "code",
   "execution_count": 22,
   "metadata": {},
   "outputs": [],
   "source": [
    "extend_topic_pages(scienze_naturali, \"Acqua alta · Delta fluviale · Massimo termico del Paleocene-Eocene · Pedogenesi · Terra\")"
   ]
  },
  {
   "cell_type": "code",
   "execution_count": 23,
   "metadata": {},
   "outputs": [],
   "source": [
    "extend_topic_pages(scienze_naturali, \"Ammoniti · Cetacei · Insetti · Leone · Nautiloidi · Ragni · Squali · Tartaruga di terra · Tartaruga greca · Tursiope\")"
   ]
  },
  {
   "cell_type": "code",
   "execution_count": 24,
   "metadata": {},
   "outputs": [
    {
     "data": {
      "text/plain": [
       "77"
      ]
     },
     "execution_count": 24,
     "metadata": {},
     "output_type": "execute_result"
    }
   ],
   "source": [
    "len(scienze_naturali)"
   ]
  },
  {
   "cell_type": "markdown",
   "metadata": {},
   "source": [
    "# Medicina"
   ]
  },
  {
   "cell_type": "code",
   "execution_count": 25,
   "metadata": {},
   "outputs": [],
   "source": [
    "extend_topic_pages(medicina, \"AIDS · Broncopneumopatia cronica ostruttiva · Cefalea a grappolo · Contusione polmonare · Elettrocardiogramma · Endometriosi · Glioblastoma · Infarto miocardico acuto · Lupus eritematoso sistemico · Malattia di Parkinson · Mononucleosi infettiva · Poliomielite · Polmonite · Schizofrenia · Sclerosi multipla\")"
   ]
  },
  {
   "cell_type": "code",
   "execution_count": 26,
   "metadata": {},
   "outputs": [],
   "source": [
    "extend_topic_pages(medicina, \"Alcolismo · Anafilassi · Apoplessia pituitaria · Apparato circolatorio · Aterosclerosi · Batterioterapia fecale · Bristol stool scale · Carcinoma del polmone · Carcinoma della prostata · Ciclo di Krebs · Circoncisione · Cirrosi epatica · Cistifellea · Colangiocarcinoma · Colangite acuta · Colesterolo · Croup · Cuore umano · Dengue · Disturbo depressivo · Emicrania · Emorragia subaracnoidea · Emorroidi · Epatite B · Epatite C · Esame della saliva · Faringite streptococcica · Frattura del pene · Gastroenterite · Gotta · Infezione delle vie urinarie · Malattia di Crohn · Malattia di Wilson · Meningite · Metadone · Obesità · Peste · Picnodisostosi · Primidone · Raffreddore comune · Sifilide · Sindrome da prolasso valvolare mitralico · Sindrome di Behçet · Sindrome di Down · Sindrome di Klinefelter · Sindrome di Tourette · Sindrome emolitico-uremica · Sindrome epatorenale · Sindrome metabolica · Tomografia computerizzata cone beam · Trombofilia · Trombosi del seno venoso cerebrale · Trombosi venosa profonda · Tumore del pancreas · Ustione · Vaiolo\")"
   ]
  },
  {
   "cell_type": "code",
   "execution_count": 27,
   "metadata": {},
   "outputs": [
    {
     "data": {
      "text/plain": [
       "71"
      ]
     },
     "execution_count": 27,
     "metadata": {},
     "output_type": "execute_result"
    }
   ],
   "source": [
    "len(medicina)"
   ]
  },
  {
   "cell_type": "markdown",
   "metadata": {},
   "source": [
    "# Politica"
   ]
  },
  {
   "cell_type": "code",
   "execution_count": 28,
   "metadata": {},
   "outputs": [],
   "source": [
    "extend_topic_pages(politica, \"Enrico Berlinguer\")"
   ]
  },
  {
   "cell_type": "code",
   "execution_count": 29,
   "metadata": {},
   "outputs": [],
   "source": [
    "extend_topic_pages(politica, \"Aaron Burr · Marco Celio Rufo · Renzo Ravenna · Bernie Sanders\")"
   ]
  },
  {
   "cell_type": "code",
   "execution_count": 30,
   "metadata": {},
   "outputs": [],
   "source": [
    "politica.extend([\"Lega Nord\", \"Elezioni politiche italiane del 2018\", \"Parlamento della Repubblica Italiana\", \"Costituzione della Repubblica Italiana\", \"Promulgazione\", \"Partito Democratico (Italia)\", \"Europeismo\", \"Unione europea\", \"Corte suprema degli Stati Uniti d'America\"])"
   ]
  },
  {
   "cell_type": "code",
   "execution_count": 31,
   "metadata": {},
   "outputs": [],
   "source": [
    "politica.extend([\"Barack Obama\", \"Partito Comunista Cinese\"])"
   ]
  },
  {
   "cell_type": "code",
   "execution_count": 32,
   "metadata": {},
   "outputs": [
    {
     "data": {
      "text/plain": [
       "16"
      ]
     },
     "execution_count": 32,
     "metadata": {},
     "output_type": "execute_result"
    }
   ],
   "source": [
    "len(politica)"
   ]
  },
  {
   "cell_type": "markdown",
   "metadata": {},
   "source": [
    "# Economia"
   ]
  },
  {
   "cell_type": "code",
   "execution_count": 33,
   "metadata": {},
   "outputs": [],
   "source": [
    "extend_topic_pages(economia, \"Struttura del capitale · Teoria generale dell'occupazione, dell'interesse e della moneta\")"
   ]
  },
  {
   "cell_type": "code",
   "execution_count": 34,
   "metadata": {},
   "outputs": [],
   "source": [
    "economia.extend([\"Economia mista\", \"Prezzo\", \"Marketing\", \"Settore primario\", \"Economia di mercato\", \"Anticapitalismo\", \"Azione (Finanza)\"])"
   ]
  },
  {
   "cell_type": "code",
   "execution_count": 35,
   "metadata": {},
   "outputs": [
    {
     "data": {
      "text/plain": [
       "9"
      ]
     },
     "execution_count": 35,
     "metadata": {},
     "output_type": "execute_result"
    }
   ],
   "source": [
    "len(economia)"
   ]
  },
  {
   "cell_type": "markdown",
   "metadata": {},
   "source": [
    "# Sport"
   ]
  },
  {
   "cell_type": "code",
   "execution_count": 36,
   "metadata": {},
   "outputs": [],
   "source": [
    "extend_topic_pages(sport, \"Michele Alboreto · Jean Alesi · Fernando Alonso · Alberto Ascari · Duncan Edwards · Roger Federer · Garrincha · Béla Guttmann · Magic Johnson · Valentino Mazzola · Giuseppe Moro · Rafael Nadal · Alain Prost · Bobby Robson · Michael Schumacher · Ian Thorpe · Jonny Wilkinson\")"
   ]
  },
  {
   "cell_type": "code",
   "execution_count": 37,
   "metadata": {},
   "outputs": [],
   "source": [
    "extend_topic_pages(sport, \"Giochi della I Olimpiade\")"
   ]
  },
  {
   "cell_type": "code",
   "execution_count": 38,
   "metadata": {},
   "outputs": [],
   "source": [
    "extend_topic_pages(sport, \"Associazione Calcio Milan · Associazione Sportiva Roma · Bologna Football Club 1909 · Chelsea Football Club · Football Club Internazionale Milano · Juventus Football Club · Società Sportiva Calcio Napoli · Primera División 1931 (Argentina) · Rangers Football Club · Storia dell'Arsenal Football Club (1886-1966)\")"
   ]
  },
  {
   "cell_type": "code",
   "execution_count": 39,
   "metadata": {},
   "outputs": [],
   "source": [
    "extend_topic_pages(sport, \"Seabiscuit (cavallo)\")"
   ]
  },
  {
   "cell_type": "code",
   "execution_count": 40,
   "metadata": {},
   "outputs": [],
   "source": [
    "extend_topic_pages(sport, \"Campionato mondiale di Formula 1 2007 · Gran Premio di Francia 2007\")"
   ]
  },
  {
   "cell_type": "code",
   "execution_count": 41,
   "metadata": {},
   "outputs": [],
   "source": [
    "extend_topic_pages(sport, \"Pallanuoto\")"
   ]
  },
  {
   "cell_type": "code",
   "execution_count": 42,
   "metadata": {},
   "outputs": [],
   "source": [
    "extend_topic_pages(sport, \"European Rugby Champions Cup · Nazionale di rugby a 15 della Francia · Nazionale di rugby a 15 del Galles · Nazionale di rugby a 15 dell'Inghilterra · Nazionale di rugby a 15 dell'Italia · TOP12 · Tour dei British and Irish Lions 2013\")"
   ]
  },
  {
   "cell_type": "code",
   "execution_count": 43,
   "metadata": {},
   "outputs": [],
   "source": [
    "extend_topic_pages(sport, \"WWE\")"
   ]
  },
  {
   "cell_type": "code",
   "execution_count": 44,
   "metadata": {},
   "outputs": [
    {
     "data": {
      "text/plain": [
       "40"
      ]
     },
     "execution_count": 44,
     "metadata": {},
     "output_type": "execute_result"
    }
   ],
   "source": [
    "len(sport)"
   ]
  },
  {
   "cell_type": "markdown",
   "metadata": {},
   "source": [
    "# Scraping"
   ]
  },
  {
   "cell_type": "code",
   "execution_count": 45,
   "metadata": {},
   "outputs": [],
   "source": [
    "data = []"
   ]
  },
  {
   "cell_type": "markdown",
   "metadata": {},
   "source": [
    "index = 0\n",
    "\n",
    "for titolo in arte_cultura[index: ]:\n",
    "    wiki_url = \"https://it.wikipedia.org/wiki/\" + titolo\n",
    "    pagina = BS(requests.get(wiki_url).content, \"html.parser\")\n",
    "    paragraphs = [p.text for p in pagina.find_all(\"p\")]\n",
    "    to_append = {\"Topic\" : \"Arte e cultura\", \"Text\" : \"\\t\".join(paragraphs)}\n",
    "    data.append(to_append)\n",
    "    print(str(index))\n",
    "    index = index + 1"
   ]
  },
  {
   "cell_type": "markdown",
   "metadata": {},
   "source": [
    "pd.DataFrame(data).to_csv(\"wiki_arte_cultura.csv\", sep = \"\\t\", encoding = \"utf-8\")"
   ]
  },
  {
   "cell_type": "code",
   "execution_count": 47,
   "metadata": {
    "scrolled": true
   },
   "outputs": [
    {
     "name": "stdout",
     "output_type": "stream",
     "text": [
      "0\n",
      "1\n",
      "2\n",
      "3\n",
      "4\n",
      "5\n",
      "6\n",
      "7\n",
      "8\n",
      "9\n",
      "10\n",
      "11\n",
      "12\n",
      "13\n",
      "14\n",
      "15\n",
      "16\n",
      "17\n",
      "18\n",
      "19\n"
     ]
    }
   ],
   "source": [
    "index = 0\n",
    "\n",
    "for titolo in sport[20:]:\n",
    "    wiki_url = \"https://it.wikipedia.org/wiki/\" + titolo\n",
    "    pagina = BS(requests.get(wiki_url).content, \"html.parser\")\n",
    "    paragraphs = [p.text for p in pagina.find_all(\"p\")]\n",
    "    to_append = {\"Topic\" : \"Sport\", \"Text\" : \"\\t\".join(paragraphs)}\n",
    "    data.append(to_append)\n",
    "    print(str(index))\n",
    "    index = index + 1"
   ]
  },
  {
   "cell_type": "code",
   "execution_count": 50,
   "metadata": {},
   "outputs": [],
   "source": [
    "wiki_arte = pd.read_csv(\"wiki_arte_cultura.csv\", sep = \"\\t\", encoding = \"utf-8\", index_col = 0)\n",
    "wiki_scienze = pd.read_csv(\"wiki_scienze_naturali.csv\", sep = \"\\t\", encoding = \"utf-8\", index_col = 0)\n",
    "wiki_medicina = pd.read_csv(\"wiki_medicina.csv\", sep = \"\\t\", encoding = \"utf-8\", index_col = 0)\n",
    "wiki_politica = pd.read_csv(\"wiki_politica.csv\", sep = \"\\t\", encoding = \"utf-8\", index_col = 0)\n",
    "wiki_economia = pd.read_csv(\"wiki_economia.csv\", sep = \"\\t\", encoding = \"utf-8\", index_col = 0)\n",
    "wiki_sport = pd.read_csv(\"wiki_sport.csv\", sep = \"\\t\", encoding = \"utf-8\", index_col = 0)"
   ]
  },
  {
   "cell_type": "code",
   "execution_count": 64,
   "metadata": {},
   "outputs": [],
   "source": [
    "pd.concat([wiki_arte, wiki_scienze, wiki_medicina, wiki_politica, wiki_economia, wiki_sport], ignore_index = True).to_csv(\"wiki_topics.csv\", sep = \"\\t\", encoding = \"utf-8\")"
   ]
  },
  {
   "cell_type": "markdown",
   "metadata": {},
   "source": [
    "# Scraping from Repubblica to enrich dataset"
   ]
  },
  {
   "cell_type": "code",
   "execution_count": 2,
   "metadata": {},
   "outputs": [],
   "source": [
    "Arteecultura = ['Cinema','Classic Cars','Cooperazione',   'Cultura', 'Domande e risposte', 'Guide Espresso',\n",
    "                 'Musica' , 'Osservabeverage','People','Prodotto',\n",
    " 'Restando a casa','Sapori','Serie','Sicurezza','Stili di vita','TV','Tecnologia','Viaggi',]\n",
    "\n",
    "Cronaca = ['Cronaca', 'Emergenza','News', 'Volontariato','virus in comune sindaci',  'Emergenza']\n",
    "Scienzenaturali = ['Ambiente', 'Scienze','effetto terra','stazione futuro riccardo luna']\n",
    "\n",
    "\n",
    "Medicina = ['Medicina e Ricerca','Oncoitalia' , 'LabRevolution']\n",
    "\n",
    "\n",
    "Economia = ['Economia', 'I Mercati', 'Mercati', 'Policy']\n",
    "\n",
    "\n",
    "Politica = ['#bravimabasta','Attualita','Commenti', 'Esteri']\n",
    "\n",
    "Sport = ['Basket','Champions League','Formula Uno', 'Juventus' , 'Milan', 'Moto',\n",
    " 'Moto GP','Serie A','Sport','Tennis']"
   ]
  },
  {
   "cell_type": "code",
   "execution_count": 3,
   "metadata": {},
   "outputs": [
    {
     "data": {
      "text/html": [
       "<div>\n",
       "<style scoped>\n",
       "    .dataframe tbody tr th:only-of-type {\n",
       "        vertical-align: middle;\n",
       "    }\n",
       "\n",
       "    .dataframe tbody tr th {\n",
       "        vertical-align: top;\n",
       "    }\n",
       "\n",
       "    .dataframe thead th {\n",
       "        text-align: right;\n",
       "    }\n",
       "</style>\n",
       "<table border=\"1\" class=\"dataframe\">\n",
       "  <thead>\n",
       "    <tr style=\"text-align: right;\">\n",
       "      <th></th>\n",
       "      <th>Topic</th>\n",
       "      <th>Text</th>\n",
       "    </tr>\n",
       "  </thead>\n",
       "  <tbody>\n",
       "    <tr>\n",
       "      <th>0</th>\n",
       "      <td>Arte e cultura</td>\n",
       "      <td>Coordinate: 45°22′02.71″N 10°13′15.84″E﻿ / ﻿45...</td>\n",
       "    </tr>\n",
       "    <tr>\n",
       "      <th>1</th>\n",
       "      <td>Arte e cultura</td>\n",
       "      <td>Coordinate: 43°34′38.28″N 11°14′51″E﻿ / ﻿43.57...</td>\n",
       "    </tr>\n",
       "    <tr>\n",
       "      <th>2</th>\n",
       "      <td>Arte e cultura</td>\n",
       "      <td>Voci principali: Architettura del Settecento, ...</td>\n",
       "    </tr>\n",
       "    <tr>\n",
       "      <th>3</th>\n",
       "      <td>Arte e cultura</td>\n",
       "      <td>Coordinate: 45°26′24.29″N 10°59′19.71″E﻿ / ﻿45...</td>\n",
       "    </tr>\n",
       "    <tr>\n",
       "      <th>4</th>\n",
       "      <td>Arte e cultura</td>\n",
       "      <td>Coordinate: 45°26′20″N 10°59′40″E﻿ / ﻿45.43888...</td>\n",
       "    </tr>\n",
       "  </tbody>\n",
       "</table>\n",
       "</div>"
      ],
      "text/plain": [
       "            Topic                                               Text\n",
       "0  Arte e cultura  Coordinate: 45°22′02.71″N 10°13′15.84″E﻿ / ﻿45...\n",
       "1  Arte e cultura  Coordinate: 43°34′38.28″N 11°14′51″E﻿ / ﻿43.57...\n",
       "2  Arte e cultura  Voci principali: Architettura del Settecento, ...\n",
       "3  Arte e cultura  Coordinate: 45°26′24.29″N 10°59′19.71″E﻿ / ﻿45...\n",
       "4  Arte e cultura  Coordinate: 45°26′20″N 10°59′40″E﻿ / ﻿45.43888..."
      ]
     },
     "execution_count": 3,
     "metadata": {},
     "output_type": "execute_result"
    }
   ],
   "source": [
    "b = pd.read_csv('wiki_topics.csv', sep = \"\\t\", encoding = \"utf-8\", index_col = 0)\n",
    "b.head()"
   ]
  },
  {
   "cell_type": "code",
   "execution_count": 4,
   "metadata": {},
   "outputs": [
    {
     "data": {
      "text/plain": [
       "(354, 2)"
      ]
     },
     "execution_count": 4,
     "metadata": {},
     "output_type": "execute_result"
    }
   ],
   "source": [
    "b.shape"
   ]
  },
  {
   "cell_type": "code",
   "execution_count": 5,
   "metadata": {},
   "outputs": [],
   "source": [
    "def adder(datatopic, csvlist):\n",
    "    for i in csvlist:\n",
    "        rep = pd.read_csv(i)\n",
    "        for index, row in rep.iterrows():\n",
    "            if row['subsection'] in Arteecultura:\n",
    "                topic = 'Arte e cultura'\n",
    "            elif row['subsection'] in Cronaca:\n",
    "                topic = 'Cronaca'\n",
    "            elif row['subsection'] in Scienzenaturali:\n",
    "                topic = 'Scienze naturali'\n",
    "            elif row['subsection'] in Medicina:\n",
    "                topic = 'Medicina'\n",
    "            elif row['subsection'] in Economia:\n",
    "                topic = 'Economia'\n",
    "            elif row['subsection'] in Politica:\n",
    "                topic = 'Politica'\n",
    "            elif row['subsection'] in Sport:\n",
    "                topic = 'Sport'\n",
    "            else:\n",
    "                topic = row['subsection']\n",
    "          #  print(topic)\n",
    "            datatopic = datatopic.append({'Topic':topic, 'Text':row['text']}, ignore_index=True) \n",
    "           # print(datatopic.shape)\n",
    "    datatopic.to_csv('FinalTopicAn.csv', index = False)\n",
    "    return datatopic.head() , datatopic.shape"
   ]
  },
  {
   "cell_type": "code",
   "execution_count": 6,
   "metadata": {},
   "outputs": [],
   "source": [
    "l = [r\"C:\\Users\\leona\\Desktop\\Covid\\Repdata\\1_Feb_articles.csv\",r\"C:\\Users\\leona\\Desktop\\Covid\\Repdata\\2_Feb_articles.csv\", r\"C:\\Users\\leona\\Desktop\\Covid\\Repdata\\21_Feb_articles.csv\",\n",
    "    r\"C:\\Users\\leona\\Desktop\\Covid\\Repdata\\22_Feb_articles.csv\", r\"C:\\Users\\leona\\Desktop\\Covid\\Repdata\\22_Feb_articles.csv\",\n",
    "    r\"C:\\Users\\leona\\Desktop\\Covid\\Repdata\\23_Feb_articles.csv\", r\"C:\\Users\\leona\\Desktop\\Covid\\Repdata\\24_Feb_articles.csv\",\n",
    "    r\"C:\\Users\\leona\\Desktop\\Covid\\Repdata\\25_Feb_articles.csv\", r\"C:\\Users\\leona\\Desktop\\Covid\\Repdata\\26_Feb_articles.csv\",\n",
    "    r\"C:\\Users\\leona\\Desktop\\Covid\\Repdata\\27_Feb_articles.csv\", r\"C:\\Users\\leona\\Desktop\\Covid\\Repdata\\28_Feb_articles.csv\"]"
   ]
  },
  {
   "cell_type": "code",
   "execution_count": 7,
   "metadata": {
    "scrolled": true
   },
   "outputs": [
    {
     "data": {
      "text/plain": [
       "(            Topic                                               Text\n",
       " 0  Arte e cultura  Coordinate: 45°22′02.71″N 10°13′15.84″E﻿ / ﻿45...\n",
       " 1  Arte e cultura  Coordinate: 43°34′38.28″N 11°14′51″E﻿ / ﻿43.57...\n",
       " 2  Arte e cultura  Voci principali: Architettura del Settecento, ...\n",
       " 3  Arte e cultura  Coordinate: 45°26′24.29″N 10°59′19.71″E﻿ / ﻿45...\n",
       " 4  Arte e cultura  Coordinate: 45°26′20″N 10°59′40″E﻿ / ﻿45.43888...,\n",
       " (2856, 2))"
      ]
     },
     "execution_count": 7,
     "metadata": {},
     "output_type": "execute_result"
    }
   ],
   "source": [
    "adder(b,l )"
   ]
  },
  {
   "cell_type": "code",
   "execution_count": 8,
   "metadata": {},
   "outputs": [],
   "source": [
    "#END XD"
   ]
  }
 ],
 "metadata": {
  "kernelspec": {
   "display_name": "Python 3",
   "language": "python",
   "name": "python3"
  },
  "language_info": {
   "codemirror_mode": {
    "name": "ipython",
    "version": 3
   },
   "file_extension": ".py",
   "mimetype": "text/x-python",
   "name": "python",
   "nbconvert_exporter": "python",
   "pygments_lexer": "ipython3",
   "version": "3.7.5"
  }
 },
 "nbformat": 4,
 "nbformat_minor": 4
}
