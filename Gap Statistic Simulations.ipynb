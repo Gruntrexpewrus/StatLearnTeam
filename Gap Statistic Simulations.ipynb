{
 "cells": [
  {
   "cell_type": "markdown",
   "metadata": {},
   "source": [
    "# Simulations for the Gap statistic\n",
    "---\n",
    "We're going to start by defining a function which, given a matrix $X$ containing the points we are interested in clustering, gives a sample from the reference distribution associated to $X$."
   ]
  },
  {
   "cell_type": "code",
   "execution_count": 1,
   "metadata": {},
   "outputs": [],
   "source": [
    "reference_sample = function(points_matrix, sample_size, method = \"svd\") {\n",
    "    if(method == \"svd\") {\n",
    "        return(reference_SVD_sample(points_matrix, sample_size))\n",
    "    } else if(method == \"simple\") {\n",
    "        return(reference_simple_sample(points_matrix, sample_size))\n",
    "    } else {\n",
    "        stop(\"Not valid method for reference sampling!\")\n",
    "    }\n",
    "}\n",
    "\n",
    "reference_simple_sample = function(points_matrix, sample_size) {\n",
    "    mins = c()\n",
    "    maxs = c()\n",
    "    for (column in 1 : ncol(points_matrix)) {\n",
    "        mins = c(mins, min(points_matrix[, column]))\n",
    "        maxs = c(maxs, max(points_matrix[, column]))\n",
    "    }\n",
    "    samples = c()\n",
    "    for (column in 1 : ncol(points_matrix)) {\n",
    "        samples = c(samples, runif(sample_size, min = mins[column], max = maxs[column]))\n",
    "    }\n",
    "    return(matrix(samples, ncol = ncol(points_matrix), byrow = FALSE))\n",
    "}\n",
    "\n",
    "reference_SVD_sample = function(points_matrix, sample_size) {\n",
    "    means = c()\n",
    "    for (column in 1 : ncol(points_matrix)) {\n",
    "        means = c(means, mean(points_matrix[, column]))\n",
    "    }\n",
    "    centered_matrix = points_matrix - means\n",
    "    V = svd(centered_matrix)$v\n",
    "    sample = reference_simple_sample(centered_matrix %*% V, sample_size)\n",
    "    sample = sample %*% t(V)\n",
    "    return(sample + means)\n",
    "}"
   ]
  },
  {
   "cell_type": "markdown",
   "metadata": {},
   "source": [
    "We now define a function which, given a set of points, computes the gap statistic for that set under the kmean clustering algorithm."
   ]
  },
  {
   "cell_type": "code",
   "execution_count": 75,
   "metadata": {},
   "outputs": [],
   "source": [
    "compute_gap_statistic = function(data, k, B, method = \"svd\", with_se = FALSE) {\n",
    "    standard_data = scale(data)\n",
    "    clustering = kmeans(data, k, iter.max = 25)\n",
    "    log_WK = log(clustering$tot.withinss)\n",
    "    rows = nrow(data)\n",
    "    if(length(c(B)) == 1) {\n",
    "        reference_sample_data = reference_sample(data, B * rows, method)\n",
    "        groups = B\n",
    "    } else {\n",
    "        reference_sample_data = B\n",
    "        groups = nrow(reference_sample_data) / rows\n",
    "    }\n",
    "    log_WKStar = c()\n",
    "    for (instance in 1 : groups) {\n",
    "        first = 1 + rows * (instance - 1)\n",
    "        last = rows * instance\n",
    "        clustering = kmeans(reference_sample_data[first : last, ], k, iter.max = 25)\n",
    "        log_WKStar = c(log_WKStar, log(clustering$tot.withinss))\n",
    "    }\n",
    "    if(with_se) {\n",
    "        se = sd(log_WKStar) * sqrt(1 + (1 / groups))\n",
    "        return(c(mean(log_WKStar) - log_WK, se))\n",
    "    }\n",
    "    return(mean(log_WKStar) - log_WK)\n",
    "}"
   ]
  },
  {
   "cell_type": "code",
   "execution_count": 68,
   "metadata": {},
   "outputs": [],
   "source": [
    "find_best_k = function(data, B, method = \"svd\") {\n",
    "    gap = -1\n",
    "    k = 0\n",
    "    reference_sample_data = reference_sample(data, B * nrow(data), method)\n",
    "    gap_k_plus = compute_gap_statistic(data, k + 1, reference_sample_data, method)\n",
    "    while(gap < 0) {\n",
    "        k = k + 1\n",
    "        gap_k = gap_k_plus\n",
    "        k_plus = compute_gap_statistic(data, k + 1, reference_sample_data, method, TRUE)\n",
    "        gap_k_plus = k_plus[1]\n",
    "        se_k_plus = k_plus[2]\n",
    "        gap = gap_k - gap_k_plus + se_k_plus\n",
    "    }\n",
    "    return(k)\n",
    "}"
   ]
  },
  {
   "cell_type": "markdown",
   "metadata": {},
   "source": [
    "# Simulations\n",
    "---\n",
    "## Gaussian well separated data\n",
    "Our first simulations will be done in what should be the easiest setting. Here we are going to generate points from different Gaussian distributions. Each of the distributions will generate data which shouldn't overlap with any other cluster."
   ]
  },
  {
   "cell_type": "code",
   "execution_count": 69,
   "metadata": {},
   "outputs": [],
   "source": [
    "library(\"mvtnorm\")\n",
    "generate_gaussians_well_separated = function(N, P, K) {\n",
    "    means = c()\n",
    "    current_mean = rep(0, P)\n",
    "    for(cluster in 1 : K) {\n",
    "        means = c(means, current_mean)\n",
    "        random_coordinate = sample(1 : P, size = 1)\n",
    "        current_mean[random_coordinate] = current_mean[random_coordinate] + 1\n",
    "    }\n",
    "    means = matrix(means, nrow = K, byrow = TRUE)\n",
    "    \n",
    "    variances = matrix(runif(P * K, 0.0025, 0.01), nrow = K, byrow = TRUE)\n",
    "    \n",
    "    data = c()\n",
    "    for(observation in 1 : N) {\n",
    "        random_distribution = sample(1 : K, size = 1)\n",
    "        data = c(data, rmvnorm(1, means[random_distribution, ], diag(variances[random_distribution, ])))\n",
    "    }\n",
    "    return(matrix(data, nrow = N, byrow = TRUE))\n",
    "}"
   ]
  },
  {
   "cell_type": "code",
   "execution_count": 80,
   "metadata": {},
   "outputs": [],
   "source": [
    "prova = generate_gaussians_well_separated(300, 2, 6)"
   ]
  },
  {
   "cell_type": "code",
   "execution_count": 81,
   "metadata": {},
   "outputs": [
    {
     "data": {
      "image/png": "[encoded data removed]",
      "text/plain": [
       "plot without title"
      ]
     },
     "metadata": {},
     "output_type": "display_data"
    }
   ],
   "source": [
    "plot(prova[, 1], prova[, 2])"
   ]
  },
  {
   "cell_type": "code",
   "execution_count": 89,
   "metadata": {},
   "outputs": [
    {
     "data": {
      "text/html": [
       "4"
      ],
      "text/latex": [
       "4"
      ],
      "text/markdown": [
       "4"
      ],
      "text/plain": [
       "[1] 4"
      ]
     },
     "metadata": {},
     "output_type": "display_data"
    }
   ],
   "source": [
    "find_best_k(prova, 1000, method = \"svd\")"
   ]
  },
  {
   "cell_type": "code",
   "execution_count": 88,
   "metadata": {},
   "outputs": [
    {
     "data": {
      "image/png": "[encoded data removed]",
      "text/plain": [
       "plot without title"
      ]
     },
     "metadata": {},
     "output_type": "display_data"
    }
   ],
   "source": [
    "par(mfrow = c(2, 2))\n",
    "plot(prova[, 1], prova[, 2])\n",
    "\n",
    "clusters = 1 : 10\n",
    "Wk = c()\n",
    "for(cluster in clusters) {\n",
    "    clustering = kmeans(prova, cluster, iter.max = 25)\n",
    "    Wk = c(Wk, clustering$tot.withinss)\n",
    "}\n",
    "plot(clusters, Wk, type = \"l\")\n",
    "plot(clusters, log(Wk), type = \"l\")\n",
    "\n",
    "gaps = c()\n",
    "for (cluster in clusters) {\n",
    "    gaps = c(gaps, compute_gap_statistic(prova, cluster, 1000))\n",
    "}\n",
    "plot(clusters, gaps, type = \"l\")"
   ]
  },
  {
   "cell_type": "code",
   "execution_count": 32,
   "metadata": {},
   "outputs": [],
   "source": [
    "gaps = c()\n",
    "for (index in 1 : 10) {\n",
    "    gaps = c(gaps, compute_gap_statistic(prova, 4, 1000))\n",
    "}"
   ]
  },
  {
   "cell_type": "code",
   "execution_count": 33,
   "metadata": {},
   "outputs": [
    {
     "data": {
      "text/html": [
       "0.369194622906242"
      ],
      "text/latex": [
       "0.369194622906242"
      ],
      "text/markdown": [
       "0.369194622906242"
      ],
      "text/plain": [
       "[1] 0.3691946"
      ]
     },
     "metadata": {},
     "output_type": "display_data"
    }
   ],
   "source": [
    "sd(gaps)"
   ]
  },
  {
   "cell_type": "code",
   "execution_count": 34,
   "metadata": {},
   "outputs": [
    {
     "data": {
      "text/html": [
       "<ol class=list-inline>\n",
       "\t<li>2.30914886830949</li>\n",
       "\t<li>1.17747059290578</li>\n",
       "\t<li>2.09239012433197</li>\n",
       "\t<li>1.50970238356281</li>\n",
       "\t<li>2.30897806246623</li>\n",
       "\t<li>2.06797311877445</li>\n",
       "\t<li>2.21799367730061</li>\n",
       "\t<li>2.2182615197571</li>\n",
       "\t<li>2.07348528334421</li>\n",
       "\t<li>2.07259377443943</li>\n",
       "</ol>\n"
      ],
      "text/latex": [
       "\\begin{enumerate*}\n",
       "\\item 2.30914886830949\n",
       "\\item 1.17747059290578\n",
       "\\item 2.09239012433197\n",
       "\\item 1.50970238356281\n",
       "\\item 2.30897806246623\n",
       "\\item 2.06797311877445\n",
       "\\item 2.21799367730061\n",
       "\\item 2.2182615197571\n",
       "\\item 2.07348528334421\n",
       "\\item 2.07259377443943\n",
       "\\end{enumerate*}\n"
      ],
      "text/markdown": [
       "1. 2.30914886830949\n",
       "2. 1.17747059290578\n",
       "3. 2.09239012433197\n",
       "4. 1.50970238356281\n",
       "5. 2.30897806246623\n",
       "6. 2.06797311877445\n",
       "7. 2.21799367730061\n",
       "8. 2.2182615197571\n",
       "9. 2.07348528334421\n",
       "10. 2.07259377443943\n",
       "\n",
       "\n"
      ],
      "text/plain": [
       " [1] 2.309149 1.177471 2.092390 1.509702 2.308978 2.067973 2.217994 2.218262\n",
       " [9] 2.073485 2.072594"
      ]
     },
     "metadata": {},
     "output_type": "display_data"
    }
   ],
   "source": [
    "gaps"
   ]
  },
  {
   "cell_type": "code",
   "execution_count": null,
   "metadata": {},
   "outputs": [],
   "source": []
  }
 ],
 "metadata": {
  "kernelspec": {
   "display_name": "R",
   "language": "R",
   "name": "ir"
  },
  "language_info": {
   "codemirror_mode": "r",
   "file_extension": ".r",
   "mimetype": "text/x-r-source",
   "name": "R",
   "pygments_lexer": "r",
   "version": "3.6.1"
  }
 },
 "nbformat": 4,
 "nbformat_minor": 2
}
