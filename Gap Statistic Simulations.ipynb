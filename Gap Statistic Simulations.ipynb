{
 "cells": [
  {
   "cell_type": "markdown",
   "metadata": {},
   "source": [
    "# Simulations for the Gap statistic\n",
    "---\n",
    "We're going to start by defining a function which, given a matrix $X$ containing the points we are interested in clustering, gives a sample from the reference distribution associated to $X$."
   ]
  },
  {
   "cell_type": "code",
   "execution_count": 1,
   "metadata": {},
   "outputs": [],
   "source": [
    "reference_sample = function(points_matrix, sample_size, method = \"svd\") {\n",
    "    if(method == \"svd\") {\n",
    "        return(reference_SVD_sample(points_matrix, sample_size))\n",
    "    } else if(method == \"simple\") {\n",
    "        return(reference_simple_sample(points_matrix, sample_size))\n",
    "    } else {\n",
    "        stop(\"Not valid method for reference sampling!\")\n",
    "    }\n",
    "}\n",
    "\n",
    "reference_simple_sample = function(points_matrix, sample_size) {\n",
    "    mins = c()\n",
    "    maxs = c()\n",
    "    for (column in 1 : ncol(points_matrix)) {\n",
    "        mins = c(mins, min(points_matrix[, column]))\n",
    "        maxs = c(maxs, max(points_matrix[, column]))\n",
    "    }\n",
    "    samples = c()\n",
    "    for (column in 1 : ncol(points_matrix)) {\n",
    "        samples = c(samples, runif(sample_size, min = mins[column], max = maxs[column]))\n",
    "    }\n",
    "    return(matrix(samples, ncol = ncol(points_matrix), byrow = FALSE))\n",
    "}\n",
    "\n",
    "reference_SVD_sample = function(points_matrix, sample_size) {\n",
    "    means = c()\n",
    "    for (column in 1 : ncol(points_matrix)) {\n",
    "        means = c(means, mean(points_matrix[, column]))\n",
    "    }\n",
    "    centered_matrix = points_matrix - means\n",
    "    V = svd(centered_matrix)$v\n",
    "    sample = reference_simple_sample(centered_matrix %*% V, sample_size)\n",
    "    sample = sample %*% t(V)\n",
    "    return(sample + means)\n",
    "}"
   ]
  },
  {
   "cell_type": "markdown",
   "metadata": {},
   "source": [
    "We now define a function which, given a set of points, computes the gap statistic for that set under the kmean clustering algorithm."
   ]
  },
  {
   "cell_type": "code",
   "execution_count": 84,
   "metadata": {},
   "outputs": [],
   "source": [
    "compute_gap_statistic = function(data, k, B, method = \"svd\", with_se = FALSE) {\n",
    "    standard_data = scale(data)\n",
    "    clustering = kmeans(data, k, iter.max = 25)\n",
    "    log_WK = log(clustering$tot.withinss)\n",
    "    rows = nrow(data)\n",
    "    reference_sample_data = reference_sample(data, B * rows, method)\n",
    "    log_WKStar = c()\n",
    "    for (instance in 1 : B) {\n",
    "        first = 1 + rows * (instance - 1)\n",
    "        last = rows * instance\n",
    "        clustering = kmeans(reference_sample_data[first : last, ], k, iter.max = 25)\n",
    "        log_WKStar = c(log_WKStar, log(clustering$tot.withinss))\n",
    "    }\n",
    "    if(with_se) {\n",
    "        se = sd(log_WKStar) * sqrt(1 + (1 / B))\n",
    "        return(c(mean(log_WKStar) - log_WK, se))\n",
    "    }\n",
    "    return(mean(log_WKStar) - log_WK)\n",
    "}"
   ]
  },
  {
   "cell_type": "code",
   "execution_count": 3,
   "metadata": {},
   "outputs": [],
   "source": [
    "find_best_k = function(data, B, method = \"svd\") {\n",
    "    gap = -1\n",
    "    k = 0\n",
    "    gap_k_plus = compute_gap_statistic(data, k + 1, B, method)\n",
    "    while(gap < 0) {\n",
    "        k = k + 1\n",
    "        gap_k = gap_k_plus\n",
    "        k_plus = compute_gap_statistic(data, k + 1, B, method, TRUE)\n",
    "        gap_k_plus = k_plus[1]\n",
    "        se_k_plus = k_plus[2]\n",
    "        gap = gap_k - gap_k_plus + se_k_plus\n",
    "    }\n",
    "    return(k)\n",
    "}"
   ]
  },
  {
   "cell_type": "markdown",
   "metadata": {},
   "source": [
    "# Simulations\n",
    "---\n",
    "## Gaussian well separated data\n",
    "Our first simulations will be done in what should be the easiest setting. Here we are going to generate points from different Gaussian distributions. Each of the distributions will generate data which shouldn't overlap with any other cluster."
   ]
  },
  {
   "cell_type": "code",
   "execution_count": 64,
   "metadata": {},
   "outputs": [],
   "source": [
    "generate_gaussians_well_separated = function(N, P, K) {\n",
    "    means = c()\n",
    "    current_mean = rep(0, P)\n",
    "    for(cluster in 1 : K) {\n",
    "        means = c(means, current_mean)\n",
    "        random_coordinate = sample(1 : P, size = 1)\n",
    "        current_mean[random_coordinate] = current_mean[random_coordinate] + 1\n",
    "    }\n",
    "    means = matrix(means, nrow = K, byrow = TRUE)\n",
    "    \n",
    "    variances = matrix(runif(P * K, 0.0025, 0.01), nrow = K, byrow = TRUE)\n",
    "    \n",
    "    data = c()\n",
    "    for(observation in 1 : N) {\n",
    "        random_distribution = sample(1 : K, size = 1)\n",
    "        data = c(data, rmvnorm(1, means[random_distribution, ], diag(variances[random_distribution, ])))\n",
    "    }\n",
    "    return(matrix(data, nrow = N, byrow = TRUE))\n",
    "}"
   ]
  },
  {
   "cell_type": "code",
   "execution_count": 128,
   "metadata": {},
   "outputs": [],
   "source": [
    "prova = generate_gaussians_well_separated(300, 2, 5)"
   ]
  },
  {
   "cell_type": "code",
   "execution_count": 129,
   "metadata": {},
   "outputs": [
    {
     "data": {
      "image/png": "[encoded data removed]",
      "text/plain": [
       "plot without title"
      ]
     },
     "metadata": {},
     "output_type": "display_data"
    }
   ],
   "source": [
    "plot(prova[, 1], prova[, 2])"
   ]
  },
  {
   "cell_type": "code",
   "execution_count": 140,
   "metadata": {},
   "outputs": [
    {
     "data": {
      "text/html": [
       "3"
      ],
      "text/latex": [
       "3"
      ],
      "text/markdown": [
       "3"
      ],
      "text/plain": [
       "[1] 3"
      ]
     },
     "metadata": {},
     "output_type": "display_data"
    }
   ],
   "source": [
    "find_best_k(prova, 1000, method = \"svd\")"
   ]
  },
  {
   "cell_type": "code",
   "execution_count": 141,
   "metadata": {},
   "outputs": [
    {
     "data": {
      "image/png": "[encoded data removed]",
      "text/plain": [
       "plot without title"
      ]
     },
     "metadata": {},
     "output_type": "display_data"
    }
   ],
   "source": [
    "par(mfrow = c(2, 2))\n",
    "plot(prova[, 1], prova[, 2])\n",
    "\n",
    "clusters = 1 : 10\n",
    "Wk = c()\n",
    "for(cluster in clusters) {\n",
    "    clustering = kmeans(prova, cluster, iter.max = 25)\n",
    "    Wk = c(Wk, clustering$tot.withinss)\n",
    "}\n",
    "plot(clusters, Wk, type = \"l\")\n",
    "plot(clusters, log(Wk), type = \"l\")\n",
    "\n",
    "gaps = c()\n",
    "for (cluster in clusters) {\n",
    "    gaps = c(gaps, compute_gap_statistic(prova, cluster, 1000))\n",
    "}\n",
    "plot(clusters, gaps, type = \"l\")"
   ]
  },
  {
   "cell_type": "code",
   "execution_count": 120,
   "metadata": {},
   "outputs": [
    {
     "data": {
      "text/html": [
       "<ol class=list-inline>\n",
       "\t<li>1261.35421987202</li>\n",
       "\t<li>375.285263803883</li>\n",
       "\t<li>212.609912936026</li>\n",
       "\t<li>109.963759269225</li>\n",
       "\t<li>108.509533250197</li>\n",
       "\t<li>112.844386167366</li>\n",
       "\t<li>9.60462102882858</li>\n",
       "\t<li>8.67302584556601</li>\n",
       "\t<li>7.54202933335512</li>\n",
       "\t<li>7.83256613788537</li>\n",
       "</ol>\n"
      ],
      "text/latex": [
       "\\begin{enumerate*}\n",
       "\\item 1261.35421987202\n",
       "\\item 375.285263803883\n",
       "\\item 212.609912936026\n",
       "\\item 109.963759269225\n",
       "\\item 108.509533250197\n",
       "\\item 112.844386167366\n",
       "\\item 9.60462102882858\n",
       "\\item 8.67302584556601\n",
       "\\item 7.54202933335512\n",
       "\\item 7.83256613788537\n",
       "\\end{enumerate*}\n"
      ],
      "text/markdown": [
       "1. 1261.35421987202\n",
       "2. 375.285263803883\n",
       "3. 212.609912936026\n",
       "4. 109.963759269225\n",
       "5. 108.509533250197\n",
       "6. 112.844386167366\n",
       "7. 9.60462102882858\n",
       "8. 8.67302584556601\n",
       "9. 7.54202933335512\n",
       "10. 7.83256613788537\n",
       "\n",
       "\n"
      ],
      "text/plain": [
       " [1] 1261.354220  375.285264  212.609913  109.963759  108.509533  112.844386\n",
       " [7]    9.604621    8.673026    7.542029    7.832566"
      ]
     },
     "metadata": {},
     "output_type": "display_data"
    }
   ],
   "source": [
    "Wk"
   ]
  },
  {
   "cell_type": "code",
   "execution_count": null,
   "metadata": {},
   "outputs": [],
   "source": []
  }
 ],
 "metadata": {
  "kernelspec": {
   "display_name": "R",
   "language": "R",
   "name": "ir"
  },
  "language_info": {
   "codemirror_mode": "r",
   "file_extension": ".r",
   "mimetype": "text/x-r-source",
   "name": "R",
   "pygments_lexer": "r",
   "version": "3.6.1"
  }
 },
 "nbformat": 4,
 "nbformat_minor": 2
}
