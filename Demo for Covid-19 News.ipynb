{
 "cells": [
  {
   "cell_type": "code",
   "execution_count": 1,
   "metadata": {},
   "outputs": [],
   "source": [
    "import pandas as pd\n",
    "from bs4 import BeautifulSoup\n",
    "import os, time, datetime\n",
    "from matplotlib import pyplot as plt"
   ]
  },
  {
   "cell_type": "markdown",
   "metadata": {},
   "source": [
    "News in the website www.intopic.it have a publishing date which is written in italian using a non-standard format. Use the following function to convert it into a datetime."
   ]
  },
  {
   "cell_type": "code",
   "execution_count": 2,
   "metadata": {},
   "outputs": [],
   "source": [
    "def extract_date(filename, raw_string):\n",
    "    raw_string = str(raw_string)\n",
    "    months = {'Gennaio':'01', 'Febbraio':'02', 'Marzo':'03', 'Aprile':'04', 'Maggio':'05'}\n",
    "\n",
    "    if \"2020\" in raw_string:\n",
    "        creation_date = raw_string.split(' ')\n",
    "        form_date = str(creation_date[3]) +'-'+ str(months[creation_date[2]]) + '-' + str(creation_date[1])\n",
    "        #print(form_date)\n",
    "    else:\n",
    "        #print(raw_string)\n",
    "        creation_date = time.ctime(os.path.getctime(filename))\n",
    "        form_date = str(datetime.datetime.strptime(creation_date, \"%a %b %d %H:%M:%S %Y\"))\n",
    "        form_date = form_date.split(' ')[0]\n",
    "        #print(form_date)\n",
    "    \n",
    "    return form_date\n"
   ]
  },
  {
   "cell_type": "markdown",
   "metadata": {},
   "source": [
    "Now let us start with the code for our analysis."
   ]
  },
  {
   "cell_type": "code",
   "execution_count": 3,
   "metadata": {},
   "outputs": [],
   "source": [
    "# Setup variables\n",
    "html_root = \"/home/marco/workspace/git/StatLearnTeam/web_pages_index/\" # Where the html pages are\n",
    "\n",
    "cols = ['title', 'content', 'date', 'author', 'tags']\n",
    "articles_df = pd.DataFrame(data = None, columns = cols)\n",
    "\n",
    "\n",
    "\n",
    "for i in (list(range(1, 1000))[::-1]): # From last page to most recent\n",
    "    \n",
    "    webpage_path = html_root + str(i) + \".html\"\n",
    "    html_content = open(webpage_path)\n",
    "    soup = BeautifulSoup(html_content, 'html.parser') # Open file as a webpage\n",
    "    \n",
    "    ################# SINGLE PAGE MINING STARTS HERE #############################\n",
    "    \n",
    "    article_section = soup.findAll('div', attrs={\"class\":\"bp-entry\"})\n",
    "    for article in article_section:\n",
    "        try:\n",
    "            title = article.find(\"h2\").find(\"a\").getText()\n",
    "            content = article.find(\"div\", attrs = {\"class\":\"bp-details\"}).getText()\n",
    "            publication_info = article.find(\"span\", attrs = {\"class\":\"author vcard\"}) # Date, author...\n",
    "            \n",
    "            date = extract_date(webpage_path, str(publication_info.getText()))\n",
    "            \n",
    "            author = publication_info.find(\"span\", attrs={\"class\":\"fn\"}).getText()\n",
    "            \n",
    "            # Not all articles have tags, but should not be a problem getting the other info (always useful)\n",
    "            # That's why there is a nested try except.\n",
    "            tags = list()\n",
    "            try:\n",
    "                tags_raw = article.find(\"div\", {\"class\":\"tagcloud\"}).findAll(\"a\",{'class':'tag-link-10'})\n",
    "                tags.extend([tag.getText() for tag in tags_raw])\n",
    "            except:\n",
    "                pass # Not an article, OR the article does not have any tags\n",
    "            \n",
    "            article_entry = pd.DataFrame(data = [[title, content, date, author, tags]], columns = cols)\n",
    "            articles_df = articles_df.append(article_entry, ignore_index = True)\n",
    "\n",
    "        except Exception as e:\n",
    "            pass # Not all html element retrieved are actually article so exceptions could be thrown.\n",
    "            #print(e)\n",
    "            #print(\"=\" * 10)\n",
    "            #print(\"\\nNOT AN ARTICLE!\\n\")\n",
    "            #print(article)\n",
    "            #print(\"\\n\" * 3)"
   ]
  },
  {
   "cell_type": "markdown",
   "metadata": {},
   "source": [
    "Now let's preview the dataset we have generated. "
   ]
  },
  {
   "cell_type": "code",
   "execution_count": 4,
   "metadata": {},
   "outputs": [
    {
     "data": {
      "text/html": [
       "<div>\n",
       "<style scoped>\n",
       "    .dataframe tbody tr th:only-of-type {\n",
       "        vertical-align: middle;\n",
       "    }\n",
       "\n",
       "    .dataframe tbody tr th {\n",
       "        vertical-align: top;\n",
       "    }\n",
       "\n",
       "    .dataframe thead th {\n",
       "        text-align: right;\n",
       "    }\n",
       "</style>\n",
       "<table border=\"1\" class=\"dataframe\">\n",
       "  <thead>\n",
       "    <tr style=\"text-align: right;\">\n",
       "      <th></th>\n",
       "      <th>title</th>\n",
       "      <th>content</th>\n",
       "      <th>date</th>\n",
       "      <th>author</th>\n",
       "      <th>tags</th>\n",
       "    </tr>\n",
       "  </thead>\n",
       "  <tbody>\n",
       "    <tr>\n",
       "      <th>0</th>\n",
       "      <td>Live Non è la DUrso, Nina Moric si sottopone ...</td>\n",
       "      <td>\\n\\nNell'ultima puntata di Live non è la D'Urs...</td>\n",
       "      <td>2020-02-17</td>\n",
       "      <td>Il Fatto Quotidiano</td>\n",
       "      <td>[]</td>\n",
       "    </tr>\n",
       "    <tr>\n",
       "      <th>1</th>\n",
       "      <td>Tamponamento tra auto e pullman, incidente sul...</td>\n",
       "      <td>\\n\\nGrave incidente stradale sulla A3 Napoli-S...</td>\n",
       "      <td>2020-02-17</td>\n",
       "      <td>Torresette</td>\n",
       "      <td>[Incidenti Stradali, Campania, Torre Annunziat...</td>\n",
       "    </tr>\n",
       "    <tr>\n",
       "      <th>2</th>\n",
       "      <td>Badante cilentana abbandona cadavere in strada...</td>\n",
       "      <td>\\n\\nHanno rinvenuto il cadavere di un 84enne r...</td>\n",
       "      <td>2020-02-17</td>\n",
       "      <td>Salernonotizie</td>\n",
       "      <td>[Grottaminarda, Campania, Benevento]</td>\n",
       "    </tr>\n",
       "    <tr>\n",
       "      <th>3</th>\n",
       "      <td>Torna la neve, ma è in agguato il super caldo</td>\n",
       "      <td>\\n\\nSegui su affaritaliani.it Articolo complet...</td>\n",
       "      <td>2020-02-17</td>\n",
       "      <td>Affaritaliani</td>\n",
       "      <td>[Neve]</td>\n",
       "    </tr>\n",
       "    <tr>\n",
       "      <th>4</th>\n",
       "      <td>Tragedia a Madonna di Campiglio, mercoledì l'a...</td>\n",
       "      <td>\\n\\nCIVITANOVA - Tornerà domani pomeriggio a C...</td>\n",
       "      <td>2020-02-17</td>\n",
       "      <td>Corriere Adriatico</td>\n",
       "      <td>[]</td>\n",
       "    </tr>\n",
       "    <tr>\n",
       "      <th>...</th>\n",
       "      <td>...</td>\n",
       "      <td>...</td>\n",
       "      <td>...</td>\n",
       "      <td>...</td>\n",
       "      <td>...</td>\n",
       "    </tr>\n",
       "    <tr>\n",
       "      <th>14980</th>\n",
       "      <td>Tragedia in casa: bimbo di 18 mesi ingoia una ...</td>\n",
       "      <td>\\n\\nSICILIA - Un bimbo di 18 mesi di Pietraper...</td>\n",
       "      <td>2020-03-28</td>\n",
       "      <td>Il Meridiano News</td>\n",
       "      <td>[Sicilia, Pietraperzia, Enna, Caltanissetta]</td>\n",
       "    </tr>\n",
       "    <tr>\n",
       "      <th>14981</th>\n",
       "      <td>Coronavirus: controlli della Polizia Locale su...</td>\n",
       "      <td>\\n\\nCagliari, 24 Mar 2020 - Dopo un'attenta an...</td>\n",
       "      <td>2020-03-28</td>\n",
       "      <td>Cronaca on line</td>\n",
       "      <td>[Polizia, Sardegna, Cagliari]</td>\n",
       "    </tr>\n",
       "    <tr>\n",
       "      <th>14982</th>\n",
       "      <td>Chi può fermare lepidemia di Covid-19? Lo s...</td>\n",
       "      <td>\\n\\n\\n\\nChi può fermare la diffusione del Coro...</td>\n",
       "      <td>2020-03-28</td>\n",
       "      <td>Il Valore Italiano</td>\n",
       "      <td>[Epidemie, Coronavirus, Video, Polizia, YouTube]</td>\n",
       "    </tr>\n",
       "    <tr>\n",
       "      <th>14983</th>\n",
       "      <td>Coronavirus, scrive sullautocertificazione d...</td>\n",
       "      <td>\\n\\n\\n\\nDeve aver pensato che dichiarare la ve...</td>\n",
       "      <td>2020-03-28</td>\n",
       "      <td>Il Fatto Quotidiano</td>\n",
       "      <td>[Frattamaggiore, Campania, Napoli]</td>\n",
       "    </tr>\n",
       "    <tr>\n",
       "      <th>14984</th>\n",
       "      <td>Repubblica Ceca  Italia, la questione delle m...</td>\n",
       "      <td>\\n\\n\\n\\nL'Italia è il paese europeo più colpit...</td>\n",
       "      <td>2020-03-28</td>\n",
       "      <td>European Affairs Magazine</td>\n",
       "      <td>[]</td>\n",
       "    </tr>\n",
       "  </tbody>\n",
       "</table>\n",
       "<p>14985 rows × 5 columns</p>\n",
       "</div>"
      ],
      "text/plain": [
       "                                                   title  \\\n",
       "0      Live Non è la DUrso, Nina Moric si sottopone ...   \n",
       "1      Tamponamento tra auto e pullman, incidente sul...   \n",
       "2      Badante cilentana abbandona cadavere in strada...   \n",
       "3          Torna la neve, ma è in agguato il super caldo   \n",
       "4      Tragedia a Madonna di Campiglio, mercoledì l'a...   \n",
       "...                                                  ...   \n",
       "14980  Tragedia in casa: bimbo di 18 mesi ingoia una ...   \n",
       "14981  Coronavirus: controlli della Polizia Locale su...   \n",
       "14982  Chi può fermare lepidemia di Covid-19? Lo s...   \n",
       "14983  Coronavirus, scrive sullautocertificazione d...   \n",
       "14984  Repubblica Ceca  Italia, la questione delle m...   \n",
       "\n",
       "                                                 content        date  \\\n",
       "0      \\n\\nNell'ultima puntata di Live non è la D'Urs...  2020-02-17   \n",
       "1      \\n\\nGrave incidente stradale sulla A3 Napoli-S...  2020-02-17   \n",
       "2      \\n\\nHanno rinvenuto il cadavere di un 84enne r...  2020-02-17   \n",
       "3      \\n\\nSegui su affaritaliani.it Articolo complet...  2020-02-17   \n",
       "4      \\n\\nCIVITANOVA - Tornerà domani pomeriggio a C...  2020-02-17   \n",
       "...                                                  ...         ...   \n",
       "14980  \\n\\nSICILIA - Un bimbo di 18 mesi di Pietraper...  2020-03-28   \n",
       "14981  \\n\\nCagliari, 24 Mar 2020 - Dopo un'attenta an...  2020-03-28   \n",
       "14982  \\n\\n\\n\\nChi può fermare la diffusione del Coro...  2020-03-28   \n",
       "14983  \\n\\n\\n\\nDeve aver pensato che dichiarare la ve...  2020-03-28   \n",
       "14984  \\n\\n\\n\\nL'Italia è il paese europeo più colpit...  2020-03-28   \n",
       "\n",
       "                           author  \\\n",
       "0             Il Fatto Quotidiano   \n",
       "1                      Torresette   \n",
       "2                  Salernonotizie   \n",
       "3                   Affaritaliani   \n",
       "4              Corriere Adriatico   \n",
       "...                           ...   \n",
       "14980           Il Meridiano News   \n",
       "14981             Cronaca on line   \n",
       "14982          Il Valore Italiano   \n",
       "14983         Il Fatto Quotidiano   \n",
       "14984   European Affairs Magazine   \n",
       "\n",
       "                                                    tags  \n",
       "0                                                     []  \n",
       "1      [Incidenti Stradali, Campania, Torre Annunziat...  \n",
       "2                   [Grottaminarda, Campania, Benevento]  \n",
       "3                                                 [Neve]  \n",
       "4                                                     []  \n",
       "...                                                  ...  \n",
       "14980       [Sicilia, Pietraperzia, Enna, Caltanissetta]  \n",
       "14981                      [Polizia, Sardegna, Cagliari]  \n",
       "14982   [Epidemie, Coronavirus, Video, Polizia, YouTube]  \n",
       "14983                 [Frattamaggiore, Campania, Napoli]  \n",
       "14984                                                 []  \n",
       "\n",
       "[14985 rows x 5 columns]"
      ]
     },
     "execution_count": 4,
     "metadata": {},
     "output_type": "execute_result"
    }
   ],
   "source": [
    "articles_df"
   ]
  },
  {
   "cell_type": "markdown",
   "metadata": {},
   "source": [
    "### We shall now get some insight on the content of the articles. Let's look up some virus-related keywords and see if they appear in the articles."
   ]
  },
  {
   "cell_type": "code",
   "execution_count": 5,
   "metadata": {},
   "outputs": [],
   "source": [
    "######################## DATAFRAME ANALYSIS STARTS HERE ######################    \n",
    "contains_virus_count = {}\n",
    "\n",
    "for i in range(0, len(articles_df)):\n",
    "    row = articles_df.values[i]\n",
    "    \n",
    "    title = row[0]\n",
    "    content = row[1]\n",
    "    date = row[2]\n",
    "    author = row[3]\n",
    "    tags = row[4]\n",
    "    \n",
    "    aggregate_fields = [title, content]\n",
    "    aggregate_fields.extend(tags)\n",
    "    \n",
    "    if date not in contains_virus_count.keys():\n",
    "        contains_virus_count[date] = 0\n",
    "\n",
    "    keywords = ['coronavirus', 'covid', 'covid-19']            \n",
    "    has_keyword = False # Until proven true\n",
    "    \n",
    "    for field in aggregate_fields:\n",
    "        \n",
    "        if any(k in str.lower(field) for k in keywords):\n",
    "            has_keyword = True\n",
    "            \n",
    "    if has_keyword:\n",
    "        contains_virus_count[date] = contains_virus_count[date] + 1  # 1 More article contains coronavirus related keywords"
   ]
  },
  {
   "cell_type": "code",
   "execution_count": 6,
   "metadata": {},
   "outputs": [
    {
     "data": {
      "text/plain": [
       "{'2020-02-17': 13,\n",
       " '2020-02-18': 22,\n",
       " '2020-02-19': 10,\n",
       " '2020-02-20': 15,\n",
       " '2020-02-21': 35,\n",
       " '2020-02-22': 105,\n",
       " '2020-02-23': 46,\n",
       " '2020-02-24': 135,\n",
       " '2020-02-25': 82,\n",
       " '2020-02-26': 104,\n",
       " '2020-02-27': 54,\n",
       " '2020-02-28': 48,\n",
       " '2020-02-29': 39,\n",
       " '2020-03-1': 25,\n",
       " '2020-03-2': 104,\n",
       " '2020-03-3': 89,\n",
       " '2020-03-4': 93,\n",
       " '2020-03-5': 77,\n",
       " '2020-03-6': 95,\n",
       " '2020-03-7': 90,\n",
       " '2020-03-8': 102,\n",
       " '2020-03-9': 214,\n",
       " '2020-03-10': 161,\n",
       " '2020-03-11': 224,\n",
       " '2020-03-12': 188,\n",
       " '2020-03-13': 189,\n",
       " '2020-03-14': 182,\n",
       " '2020-03-15': 168,\n",
       " '2020-03-16': 186,\n",
       " '2020-03-17': 199,\n",
       " '2020-03-18': 260,\n",
       " '2020-03-19': 219,\n",
       " '2020-03-20': 284,\n",
       " '2020-03-21': 217,\n",
       " '2020-03-22': 184,\n",
       " '2020-03-23': 248,\n",
       " '2020-03-28': 269}"
      ]
     },
     "execution_count": 6,
     "metadata": {},
     "output_type": "execute_result"
    }
   ],
   "source": [
    "contains_virus_count"
   ]
  },
  {
   "cell_type": "markdown",
   "metadata": {},
   "source": [
    "That is a day by day count of articles that have the chosen keywords just in the title or content preview. \n",
    "Now the\n",
    "# plotting"
   ]
  },
  {
   "cell_type": "code",
   "execution_count": 36,
   "metadata": {},
   "outputs": [
    {
     "data": {
      "image/png": "[encoded data removed]",
      "text/plain": [
       "<Figure size 720x360 with 1 Axes>"
      ]
     },
     "metadata": {
      "needs_background": "light"
     },
     "output_type": "display_data"
    }
   ],
   "source": [
    "from scipy.interpolate import interp1d\n",
    "from scipy.optimize import curve_fit\n",
    "\n",
    "import numpy as np\n",
    "\n",
    "plt.figure(figsize=(10, 5))\n",
    "plt.xticks(rotation=90)       \n",
    "\n",
    "dates = list(contains_virus_count.keys())\n",
    "num_of_articles = list(contains_virus_count.values())\n",
    "\n",
    "sum_articles = 0\n",
    "total_num_of_articles = []\n",
    "for v in num_of_articles:\n",
    "    sum_articles += v\n",
    "    total_num_of_articles.append(sum_articles)\n",
    "\n",
    "\n",
    "plt.title(\"Day by day count - Non cumulative\")\n",
    "plt.xlabel(\"Day of the month\")\n",
    "plt.ylabel(\"# of new articles\")\n",
    "\n",
    "plt.scatter(dates, num_of_articles, color='r')\n",
    "plt.show()"
   ]
  },
  {
   "cell_type": "code",
   "execution_count": 35,
   "metadata": {},
   "outputs": [
    {
     "data": {
      "image/png": "[encoded data removed]",
      "text/plain": [
       "<Figure size 720x360 with 1 Axes>"
      ]
     },
     "metadata": {
      "needs_background": "light"
     },
     "output_type": "display_data"
    }
   ],
   "source": [
    "plt.figure(figsize=(10,5))\n",
    "plt.xticks(rotation=90)\n",
    "plt.ylabel(\"Total number of articles available\")\n",
    "plt.title('Day by day count - Cumulative')\n",
    "plt.scatter(dates, total_num_of_articles)\n",
    "plt.show()"
   ]
  }
 ],
 "metadata": {
  "kernelspec": {
   "display_name": "Python 3",
   "language": "python",
   "name": "python3"
  },
  "language_info": {
   "codemirror_mode": {
    "name": "ipython",
    "version": 3
   },
   "file_extension": ".py",
   "mimetype": "text/x-python",
   "name": "python",
   "nbconvert_exporter": "python",
   "pygments_lexer": "ipython3",
   "version": "3.7.7"
  }
 },
 "nbformat": 4,
 "nbformat_minor": 4
}
