{
 "cells": [
  {
   "cell_type": "code",
   "execution_count": null,
   "metadata": {},
   "outputs": [],
   "source": [
    "import pandas as pd\n",
    "import numpy as np\n",
    "\n",
    "\n",
    "#DOVETE SOLO METTE IL PERCORSO DELL'ULTIMO DATASETAGGIIORNATO\n",
    "data_to_analyze = pd.read_csv('/content/drive/My Drive/Topic detection/AMANOREDDIT.csv', index_col = 0)\n",
    "idx_first_empty_row = data_to_analyze.index[np.isnan(data_to_analyze.iloc[:, 1])]\n",
    "it = idx_first_empty_row[0]\n",
    "\n",
    "\n",
    "def filler(my_data):\n",
    "  for index, row in my_data.iterrows():\n",
    "      if index < it:\n",
    "        pass\n",
    "      else:\n",
    "        print(row['Text'])\n",
    "        sent = input('   sentiment:\\n     ')\n",
    "        print(sent)\n",
    "        if sent == 'EXIT':\n",
    "          my_data.to_csv('/content/drive/My Drive/Topic detection/AMANOREDDIT.csv')\n",
    "          return\n",
    "        else:\n",
    "        #  print(my_data.loc['Sentiment', index ])\n",
    "         # my_data.loc['Sentiment', index ]= sent\n",
    "          print(index)\n",
    "          my_data.at[index, 'Sentimenttobedeleted'\t] = 1\n",
    "          my_data.at[index, 'Sentiment'\t] = sent\n",
    "         # my_data.set_value( index, 'Sentiment', sent)\n",
    "          print(my_data.head())\n",
    "          \n",
    "  return \n",
    "\n",
    "\n",
    "filler(data_to_analyze)"
   ]
  }
 ],
 "metadata": {
  "kernelspec": {
   "display_name": "Python 3",
   "language": "python",
   "name": "python3"
  },
  "language_info": {
   "codemirror_mode": {
    "name": "ipython",
    "version": 3
   },
   "file_extension": ".py",
   "mimetype": "text/x-python",
   "name": "python",
   "nbconvert_exporter": "python",
   "pygments_lexer": "ipython3",
   "version": "3.7.5"
  }
 },
 "nbformat": 4,
 "nbformat_minor": 2
}
