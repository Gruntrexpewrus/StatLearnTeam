{
 "cells": [
  {
   "cell_type": "markdown",
   "metadata": {},
   "source": [
    "# Simulations for the Gap statistic\n",
    "---\n",
    "We're going to start by defining a function which, given a matrix $X$ containing the points we are interested in clustering, gives a sample from the reference distribution associated to $X$."
   ]
  },
  {
   "cell_type": "code",
   "execution_count": 122,
   "metadata": {},
   "outputs": [],
   "source": [
    "reference_sample = function(points_matrix, sample_size, method = \"svd\") {\n",
    "    if(method == \"svd\") {\n",
    "        return(reference_SVD_sample(points_matrix, sample_size))\n",
    "    } else if(method == \"simple\") {\n",
    "        return(reference_simple_sample(points_matrix, sample_size))\n",
    "    } else {\n",
    "        stop(\"Not valid method for reference sampling!\")\n",
    "    }\n",
    "}\n",
    "\n",
    "reference_simple_sample = function(points_matrix, sample_size) {\n",
    "    mins = c()\n",
    "    maxs = c()\n",
    "    for (column in 1 : ncol(points_matrix)) {\n",
    "        mins = c(mins, min(points_matrix[, column]))\n",
    "        maxs = c(maxs, max(points_matrix[, column]))\n",
    "    }\n",
    "    samples = c()\n",
    "    for (column in 1 : ncol(points_matrix)) {\n",
    "        samples = c(samples, runif(sample_size, min = mins[column], max = maxs[column]))\n",
    "    }\n",
    "    return(matrix(samples, ncol = ncol(points_matrix), byrow = FALSE))\n",
    "}\n",
    "\n",
    "reference_SVD_sample = function(points_matrix, sample_size) {\n",
    "    means = c()\n",
    "    for (column in 1 : ncol(points_matrix)) {\n",
    "        means = c(means, mean(points_matrix[, column]))\n",
    "    }\n",
    "    centered_matrix = points_matrix - means\n",
    "    V = svd(centered_matrix)$v\n",
    "    sample = reference_simple_sample(centered_matrix %*% V, sample_size)\n",
    "    sample = sample %*% t(V)\n",
    "    return(sample + means)\n",
    "}"
   ]
  },
  {
   "cell_type": "markdown",
   "metadata": {},
   "source": [
    "We now define a function which, given a set of points, computes the gap statistic for that set under the kmean clustering algorithm."
   ]
  },
  {
   "cell_type": "code",
   "execution_count": 179,
   "metadata": {},
   "outputs": [],
   "source": [
    "compute_gap_statistic = function(data, k, B, method = \"svd\", with_se = FALSE) {\n",
    "    standard_data = scale(data)\n",
    "    clustering = kmeans(data, k)\n",
    "    log_WK = log(clustering$tot.withinss)\n",
    "    rows = nrow(data)\n",
    "    reference_sample_data = reference_sample(data, B * rows, method)\n",
    "    log_WKStar = c()\n",
    "    for (instance in 1 : B) {\n",
    "        first = 1 + rows * (instance - 1)\n",
    "        last = rows * instance\n",
    "        clustering = kmeans(reference_sample_data[first : last, ], k)\n",
    "        log_WKStar = c(log_WKStar, log(clustering$tot.withinss))\n",
    "    }\n",
    "    if(with_se) {\n",
    "        se = sd(log_WKStar) * sqrt(1 + (1 / B))\n",
    "        return(c(mean(log_WKStar) - log_WK, se))\n",
    "    }\n",
    "    return(mean(log_WKStar) - log_WK)\n",
    "}"
   ]
  },
  {
   "cell_type": "code",
   "execution_count": 186,
   "metadata": {},
   "outputs": [],
   "source": [
    "find_best_k = function(data, B, method = \"svd\") {\n",
    "    gap = -1\n",
    "    k = 0\n",
    "    gap_k_plus = compute_gap_statistic(data, k + 1, B, method)\n",
    "    while(gap < 0) {\n",
    "        k = k + 1\n",
    "        gap_k = gap_k_plus\n",
    "        k_plus = compute_gap_statistic(data, k + 1, B, method, TRUE)\n",
    "        gap_k_plus = k_plus[1]\n",
    "        se_k_plus = k_plus[2]\n",
    "        gap = gap_k - gap_k_plus + se_k_plus\n",
    "    }\n",
    "    return(k)\n",
    "}"
   ]
  },
  {
   "cell_type": "code",
   "execution_count": 307,
   "metadata": {},
   "outputs": [],
   "source": [
    "A = c()\n",
    "for (column in 1 : 2) {\n",
    "    A = c(A, rnorm(43, -1 + 2 * (column - 1), 0.1), rnorm(21, 2, 0.1), rnorm(22, 7 - (column ** 2), 0.1), rnorm(92, -3 * column, 1))\n",
    "}\n",
    "A = matrix(A, ncol = 2, byrow = FALSE)"
   ]
  },
  {
   "cell_type": "code",
   "execution_count": 314,
   "metadata": {},
   "outputs": [
    {
     "data": {
      "text/html": [
       "3"
      ],
      "text/latex": [
       "3"
      ],
      "text/markdown": [
       "3"
      ],
      "text/plain": [
       "[1] 3"
      ]
     },
     "metadata": {},
     "output_type": "display_data"
    }
   ],
   "source": [
    "find_best_k(A, 1000, method = \"svd\")"
   ]
  },
  {
   "cell_type": "code",
   "execution_count": 313,
   "metadata": {},
   "outputs": [
    {
     "data": {
      "image/png": "[encoded data removed]",
      "text/plain": [
       "plot without title"
      ]
     },
     "metadata": {},
     "output_type": "display_data"
    }
   ],
   "source": [
    "plot(A[, 1], A[, 2])"
   ]
  },
  {
   "cell_type": "code",
   "execution_count": 274,
   "metadata": {},
   "outputs": [
    {
     "data": {
      "text/html": [
       "<ol class=list-inline>\n",
       "\t<li>1.00103505096439</li>\n",
       "\t<li>0.999179286551731</li>\n",
       "</ol>\n"
      ],
      "text/latex": [
       "\\begin{enumerate*}\n",
       "\\item 1.00103505096439\n",
       "\\item 0.999179286551731\n",
       "\\end{enumerate*}\n"
      ],
      "text/markdown": [
       "1. 1.00103505096439\n",
       "2. 0.999179286551731\n",
       "\n",
       "\n"
      ],
      "text/plain": [
       "[1] 1.0010351 0.9991793"
      ]
     },
     "metadata": {},
     "output_type": "display_data"
    }
   ],
   "source": [
    "A[1, ]"
   ]
  },
  {
   "cell_type": "code",
   "execution_count": 284,
   "metadata": {},
   "outputs": [
    {
     "data": {
      "text/html": [
       "<table>\n",
       "<tbody>\n",
       "\t<tr><td>3.000524</td><td>5.000600</td></tr>\n",
       "\t<tr><td>3.000045</td><td>4.999279</td></tr>\n",
       "\t<tr><td>2.998701</td><td>5.000435</td></tr>\n",
       "\t<tr><td>2.999484</td><td>5.001990</td></tr>\n",
       "\t<tr><td>3.000636</td><td>5.000513</td></tr>\n",
       "\t<tr><td>2.998938</td><td>4.999677</td></tr>\n",
       "\t<tr><td>3.000663</td><td>4.997633</td></tr>\n",
       "\t<tr><td>2.999869</td><td>5.000054</td></tr>\n",
       "\t<tr><td>2.999299</td><td>5.000449</td></tr>\n",
       "\t<tr><td>3.001282</td><td>5.000792</td></tr>\n",
       "\t<tr><td>3.000111</td><td>5.000070</td></tr>\n",
       "\t<tr><td>2.998784</td><td>4.999434</td></tr>\n",
       "\t<tr><td>2.998967</td><td>5.000738</td></tr>\n",
       "\t<tr><td>3.000099</td><td>4.999643</td></tr>\n",
       "\t<tr><td>2.999710</td><td>5.001225</td></tr>\n",
       "\t<tr><td>3.000459</td><td>4.999719</td></tr>\n",
       "\t<tr><td>2.999688</td><td>5.001899</td></tr>\n",
       "\t<tr><td>2.999623</td><td>5.002449</td></tr>\n",
       "\t<tr><td>3.000373</td><td>5.000199</td></tr>\n",
       "\t<tr><td>2.997678</td><td>5.000407</td></tr>\n",
       "\t<tr><td>3.000937</td><td>5.001068</td></tr>\n",
       "\t<tr><td>2.999546</td><td>5.000406</td></tr>\n",
       "\t<tr><td>2.999490</td><td>4.999332</td></tr>\n",
       "\t<tr><td>3.000851</td><td>5.000805</td></tr>\n",
       "\t<tr><td>2.999073</td><td>5.000368</td></tr>\n",
       "\t<tr><td>2.999818</td><td>5.001856</td></tr>\n",
       "\t<tr><td>2.998419</td><td>5.001378</td></tr>\n",
       "\t<tr><td>3.000537</td><td>4.999323</td></tr>\n",
       "\t<tr><td>2.999933</td><td>5.001640</td></tr>\n",
       "\t<tr><td>2.999970</td><td>4.999911</td></tr>\n",
       "\t<tr><td>...</td><td>...</td></tr>\n",
       "\t<tr><td>-3.7553998</td><td> -5.431169</td></tr>\n",
       "\t<tr><td>-4.2658860</td><td> -2.701364</td></tr>\n",
       "\t<tr><td>-0.2488835</td><td> -4.831652</td></tr>\n",
       "\t<tr><td>-4.4947585</td><td> -2.227726</td></tr>\n",
       "\t<tr><td>-1.6934655</td><td> -8.216109</td></tr>\n",
       "\t<tr><td>-3.5792473</td><td> -2.273755</td></tr>\n",
       "\t<tr><td>-0.9158144</td><td> -6.643102</td></tr>\n",
       "\t<tr><td>-5.4655594</td><td> -5.390641</td></tr>\n",
       "\t<tr><td>-0.2323258</td><td> -2.056451</td></tr>\n",
       "\t<tr><td>-4.4057631</td><td> -5.899139</td></tr>\n",
       "\t<tr><td>-3.9229372</td><td> -8.536112</td></tr>\n",
       "\t<tr><td>-3.9477889</td><td> -8.693651</td></tr>\n",
       "\t<tr><td>-4.1327130</td><td> -5.150078</td></tr>\n",
       "\t<tr><td>-3.6004369</td><td> -3.757545</td></tr>\n",
       "\t<tr><td>-4.6789721</td><td> -3.289102</td></tr>\n",
       "\t<tr><td>-5.1901502</td><td> -6.000895</td></tr>\n",
       "\t<tr><td> 3.2197975</td><td> -4.976154</td></tr>\n",
       "\t<tr><td>-2.5642297</td><td>-11.069956</td></tr>\n",
       "\t<tr><td>-0.2776965</td><td> -2.655031</td></tr>\n",
       "\t<tr><td>-5.3540420</td><td> -4.984936</td></tr>\n",
       "\t<tr><td>-1.5859871</td><td> -3.466546</td></tr>\n",
       "\t<tr><td>-1.9312463</td><td> -7.785451</td></tr>\n",
       "\t<tr><td>-2.2674480</td><td> -7.057770</td></tr>\n",
       "\t<tr><td>-2.9904051</td><td> -7.504020</td></tr>\n",
       "\t<tr><td>-2.0414774</td><td> -8.571077</td></tr>\n",
       "\t<tr><td>-3.8904210</td><td> -4.852853</td></tr>\n",
       "\t<tr><td>-6.5124999</td><td> -6.581570</td></tr>\n",
       "\t<tr><td>-1.0179842</td><td> -5.569074</td></tr>\n",
       "\t<tr><td>-3.6690384</td><td> -2.822324</td></tr>\n",
       "\t<tr><td>-1.7285198</td><td> -3.408749</td></tr>\n",
       "</tbody>\n",
       "</table>\n"
      ],
      "text/latex": [
       "\\begin{tabular}{ll}\n",
       "\t 3.000524 & 5.000600\\\\\n",
       "\t 3.000045 & 4.999279\\\\\n",
       "\t 2.998701 & 5.000435\\\\\n",
       "\t 2.999484 & 5.001990\\\\\n",
       "\t 3.000636 & 5.000513\\\\\n",
       "\t 2.998938 & 4.999677\\\\\n",
       "\t 3.000663 & 4.997633\\\\\n",
       "\t 2.999869 & 5.000054\\\\\n",
       "\t 2.999299 & 5.000449\\\\\n",
       "\t 3.001282 & 5.000792\\\\\n",
       "\t 3.000111 & 5.000070\\\\\n",
       "\t 2.998784 & 4.999434\\\\\n",
       "\t 2.998967 & 5.000738\\\\\n",
       "\t 3.000099 & 4.999643\\\\\n",
       "\t 2.999710 & 5.001225\\\\\n",
       "\t 3.000459 & 4.999719\\\\\n",
       "\t 2.999688 & 5.001899\\\\\n",
       "\t 2.999623 & 5.002449\\\\\n",
       "\t 3.000373 & 5.000199\\\\\n",
       "\t 2.997678 & 5.000407\\\\\n",
       "\t 3.000937 & 5.001068\\\\\n",
       "\t 2.999546 & 5.000406\\\\\n",
       "\t 2.999490 & 4.999332\\\\\n",
       "\t 3.000851 & 5.000805\\\\\n",
       "\t 2.999073 & 5.000368\\\\\n",
       "\t 2.999818 & 5.001856\\\\\n",
       "\t 2.998419 & 5.001378\\\\\n",
       "\t 3.000537 & 4.999323\\\\\n",
       "\t 2.999933 & 5.001640\\\\\n",
       "\t 2.999970 & 4.999911\\\\\n",
       "\t ... & ...\\\\\n",
       "\t -3.7553998 &  -5.431169\\\\\n",
       "\t -4.2658860 &  -2.701364\\\\\n",
       "\t -0.2488835 &  -4.831652\\\\\n",
       "\t -4.4947585 &  -2.227726\\\\\n",
       "\t -1.6934655 &  -8.216109\\\\\n",
       "\t -3.5792473 &  -2.273755\\\\\n",
       "\t -0.9158144 &  -6.643102\\\\\n",
       "\t -5.4655594 &  -5.390641\\\\\n",
       "\t -0.2323258 &  -2.056451\\\\\n",
       "\t -4.4057631 &  -5.899139\\\\\n",
       "\t -3.9229372 &  -8.536112\\\\\n",
       "\t -3.9477889 &  -8.693651\\\\\n",
       "\t -4.1327130 &  -5.150078\\\\\n",
       "\t -3.6004369 &  -3.757545\\\\\n",
       "\t -4.6789721 &  -3.289102\\\\\n",
       "\t -5.1901502 &  -6.000895\\\\\n",
       "\t  3.2197975 &  -4.976154\\\\\n",
       "\t -2.5642297 & -11.069956\\\\\n",
       "\t -0.2776965 &  -2.655031\\\\\n",
       "\t -5.3540420 &  -4.984936\\\\\n",
       "\t -1.5859871 &  -3.466546\\\\\n",
       "\t -1.9312463 &  -7.785451\\\\\n",
       "\t -2.2674480 &  -7.057770\\\\\n",
       "\t -2.9904051 &  -7.504020\\\\\n",
       "\t -2.0414774 &  -8.571077\\\\\n",
       "\t -3.8904210 &  -4.852853\\\\\n",
       "\t -6.5124999 &  -6.581570\\\\\n",
       "\t -1.0179842 &  -5.569074\\\\\n",
       "\t -3.6690384 &  -2.822324\\\\\n",
       "\t -1.7285198 &  -3.408749\\\\\n",
       "\\end{tabular}\n"
      ],
      "text/markdown": [
       "\n",
       "| 3.000524 | 5.000600 |\n",
       "| 3.000045 | 4.999279 |\n",
       "| 2.998701 | 5.000435 |\n",
       "| 2.999484 | 5.001990 |\n",
       "| 3.000636 | 5.000513 |\n",
       "| 2.998938 | 4.999677 |\n",
       "| 3.000663 | 4.997633 |\n",
       "| 2.999869 | 5.000054 |\n",
       "| 2.999299 | 5.000449 |\n",
       "| 3.001282 | 5.000792 |\n",
       "| 3.000111 | 5.000070 |\n",
       "| 2.998784 | 4.999434 |\n",
       "| 2.998967 | 5.000738 |\n",
       "| 3.000099 | 4.999643 |\n",
       "| 2.999710 | 5.001225 |\n",
       "| 3.000459 | 4.999719 |\n",
       "| 2.999688 | 5.001899 |\n",
       "| 2.999623 | 5.002449 |\n",
       "| 3.000373 | 5.000199 |\n",
       "| 2.997678 | 5.000407 |\n",
       "| 3.000937 | 5.001068 |\n",
       "| 2.999546 | 5.000406 |\n",
       "| 2.999490 | 4.999332 |\n",
       "| 3.000851 | 5.000805 |\n",
       "| 2.999073 | 5.000368 |\n",
       "| 2.999818 | 5.001856 |\n",
       "| 2.998419 | 5.001378 |\n",
       "| 3.000537 | 4.999323 |\n",
       "| 2.999933 | 5.001640 |\n",
       "| 2.999970 | 4.999911 |\n",
       "| ... | ... |\n",
       "| -3.7553998 |  -5.431169 |\n",
       "| -4.2658860 |  -2.701364 |\n",
       "| -0.2488835 |  -4.831652 |\n",
       "| -4.4947585 |  -2.227726 |\n",
       "| -1.6934655 |  -8.216109 |\n",
       "| -3.5792473 |  -2.273755 |\n",
       "| -0.9158144 |  -6.643102 |\n",
       "| -5.4655594 |  -5.390641 |\n",
       "| -0.2323258 |  -2.056451 |\n",
       "| -4.4057631 |  -5.899139 |\n",
       "| -3.9229372 |  -8.536112 |\n",
       "| -3.9477889 |  -8.693651 |\n",
       "| -4.1327130 |  -5.150078 |\n",
       "| -3.6004369 |  -3.757545 |\n",
       "| -4.6789721 |  -3.289102 |\n",
       "| -5.1901502 |  -6.000895 |\n",
       "|  3.2197975 |  -4.976154 |\n",
       "| -2.5642297 | -11.069956 |\n",
       "| -0.2776965 |  -2.655031 |\n",
       "| -5.3540420 |  -4.984936 |\n",
       "| -1.5859871 |  -3.466546 |\n",
       "| -1.9312463 |  -7.785451 |\n",
       "| -2.2674480 |  -7.057770 |\n",
       "| -2.9904051 |  -7.504020 |\n",
       "| -2.0414774 |  -8.571077 |\n",
       "| -3.8904210 |  -4.852853 |\n",
       "| -6.5124999 |  -6.581570 |\n",
       "| -1.0179842 |  -5.569074 |\n",
       "| -3.6690384 |  -2.822324 |\n",
       "| -1.7285198 |  -3.408749 |\n",
       "\n"
      ],
      "text/plain": [
       "      [,1]       [,2]      \n",
       " [1,] 3.000524   5.000600  \n",
       " [2,] 3.000045   4.999279  \n",
       " [3,] 2.998701   5.000435  \n",
       " [4,] 2.999484   5.001990  \n",
       " [5,] 3.000636   5.000513  \n",
       " [6,] 2.998938   4.999677  \n",
       " [7,] 3.000663   4.997633  \n",
       " [8,] 2.999869   5.000054  \n",
       " [9,] 2.999299   5.000449  \n",
       "[10,] 3.001282   5.000792  \n",
       "[11,] 3.000111   5.000070  \n",
       "[12,] 2.998784   4.999434  \n",
       "[13,] 2.998967   5.000738  \n",
       "[14,] 3.000099   4.999643  \n",
       "[15,] 2.999710   5.001225  \n",
       "[16,] 3.000459   4.999719  \n",
       "[17,] 2.999688   5.001899  \n",
       "[18,] 2.999623   5.002449  \n",
       "[19,] 3.000373   5.000199  \n",
       "[20,] 2.997678   5.000407  \n",
       "[21,] 3.000937   5.001068  \n",
       "[22,] 2.999546   5.000406  \n",
       "[23,] 2.999490   4.999332  \n",
       "[24,] 3.000851   5.000805  \n",
       "[25,] 2.999073   5.000368  \n",
       "[26,] 2.999818   5.001856  \n",
       "[27,] 2.998419   5.001378  \n",
       "[28,] 3.000537   4.999323  \n",
       "[29,] 2.999933   5.001640  \n",
       "[30,] 2.999970   4.999911  \n",
       "[31,] ...        ...       \n",
       "[32,] -3.7553998  -5.431169\n",
       "[33,] -4.2658860  -2.701364\n",
       "[34,] -0.2488835  -4.831652\n",
       "[35,] -4.4947585  -2.227726\n",
       "[36,] -1.6934655  -8.216109\n",
       "[37,] -3.5792473  -2.273755\n",
       "[38,] -0.9158144  -6.643102\n",
       "[39,] -5.4655594  -5.390641\n",
       "[40,] -0.2323258  -2.056451\n",
       "[41,] -4.4057631  -5.899139\n",
       "[42,] -3.9229372  -8.536112\n",
       "[43,] -3.9477889  -8.693651\n",
       "[44,] -4.1327130  -5.150078\n",
       "[45,] -3.6004369  -3.757545\n",
       "[46,] -4.6789721  -3.289102\n",
       "[47,] -5.1901502  -6.000895\n",
       "[48,]  3.2197975  -4.976154\n",
       "[49,] -2.5642297 -11.069956\n",
       "[50,] -0.2776965  -2.655031\n",
       "[51,] -5.3540420  -4.984936\n",
       "[52,] -1.5859871  -3.466546\n",
       "[53,] -1.9312463  -7.785451\n",
       "[54,] -2.2674480  -7.057770\n",
       "[55,] -2.9904051  -7.504020\n",
       "[56,] -2.0414774  -8.571077\n",
       "[57,] -3.8904210  -4.852853\n",
       "[58,] -6.5124999  -6.581570\n",
       "[59,] -1.0179842  -5.569074\n",
       "[60,] -3.6690384  -2.822324\n",
       "[61,] -1.7285198  -3.408749"
      ]
     },
     "metadata": {},
     "output_type": "display_data"
    }
   ],
   "source": [
    "A"
   ]
  },
  {
   "cell_type": "code",
   "execution_count": null,
   "metadata": {},
   "outputs": [],
   "source": []
  }
 ],
 "metadata": {
  "kernelspec": {
   "display_name": "R",
   "language": "R",
   "name": "ir"
  },
  "language_info": {
   "codemirror_mode": "r",
   "file_extension": ".r",
   "mimetype": "text/x-r-source",
   "name": "R",
   "pygments_lexer": "r",
   "version": "3.6.1"
  }
 },
 "nbformat": 4,
 "nbformat_minor": 2
}
