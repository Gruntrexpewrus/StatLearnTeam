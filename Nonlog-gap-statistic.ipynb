{
 "cells": [
  {
   "cell_type": "code",
   "execution_count": 11,
   "metadata": {},
   "outputs": [],
   "source": [
    "import numpy as np\n",
    "import random\n",
    "import matplotlib.pyplot as plt\n",
    "from sklearn.cluster import KMeans\n",
    "from sklearn import preprocessing\n",
    "from scipy.spatial import distance\n",
    "from statistics import mean as avg"
   ]
  },
  {
   "cell_type": "code",
   "execution_count": 58,
   "metadata": {},
   "outputs": [],
   "source": [
    "def get_reference_sample(points, sample_size, method = \"SVD\"):\n",
    "    if method == 'SVD':\n",
    "        return get_reference_SVD_sample(points, sample_size)\n",
    "    if method == 'simple':\n",
    "        return get_reference_simple_sample(points, sample_size)\n",
    "    else:\n",
    "        raise Exception(\"Reference sample method not recognized\")\n",
    "\n",
    "    return None\n",
    "\n",
    "def get_reference_simple_sample(points, sample_size):\n",
    "    \n",
    "    num_features = len(points[0]) # feature vector length\n",
    "    \n",
    "    # \n",
    "    reference_samples = [np.zeros(num_features) for i in range(sample_size)]\n",
    "    \n",
    "    for f_index in range(num_features):\n",
    "        \n",
    "        # Get min and max for a given feature\n",
    "        feature_min = min([p[f_index] for p in points])\n",
    "        feature_max = max([p[f_index] for p in points])\n",
    "        \n",
    "        # Update the values of the reference samples at the f_ith feature\n",
    "        for i in range(sample_size):\n",
    "            reference_samples[i][f_index] = random.uniform(feature_min, feature_max)\n",
    "            \n",
    "    return reference_samples    \n",
    "        \n",
    "\n",
    "def get_reference_SVD_sample(points, sample_size):\n",
    "    \n",
    "    num_features = len(points[0])\n",
    "    column_means_vector = np.zeros(num_features)\n",
    "    \n",
    "    # Create the mean vector (each value is mean of column)\n",
    "    for f_index in range(num_features):\n",
    "        mean = avg([p[f_index] for p in points])\n",
    "        column_means_vector[f_index] = mean\n",
    "    '''\n",
    "    centered_points = []\n",
    "    \n",
    "    # centering points values\n",
    "    for p in points:\n",
    "        p_feat_vec = np.array(p)\n",
    "        mean_vec = np.array(column_means_vector)\n",
    "        \n",
    "        centered_points.append(p_feat_vec - mean_vec)\n",
    "       \n",
    "    \n",
    "    centered_matrix = np.array(centered_points)\n",
    "    u,s,v = np.linalg.svd(centered_matrix)\n",
    "    \n",
    "    param_matrix = [list(p) for p in centered_matrix * v]\n",
    "    '''\n",
    "    points_matrix = np.array(points)\n",
    "    mean_vector = np.zeros(num_features)\n",
    "    \n",
    "    u,s,v = np.linalg.svd(points_matrix)\n",
    "    \n",
    "    X = np.inner(points_matrix,v)\n",
    "    trans_points = [list(p) for p in X]\n",
    "    samples = get_reference_simple_sample(trans_points, sample_size)\n",
    "    Z = np.inner(np.array(samples),np.transpose(v))\n",
    "    \n",
    "    samples = [list(p) for p in Z]\n",
    "    \n",
    "    #mean_vector = np.array(column_means_vector)\n",
    "    #centered_matrix = points_matrix - mean_vector\n",
    "    \n",
    "    return Z\n"
   ]
  },
  {
   "cell_type": "code",
   "execution_count": 59,
   "metadata": {},
   "outputs": [],
   "source": [
    "def init_gaussian_board(N, k):\n",
    "    n = float(N)/k\n",
    "    X = []\n",
    "    \n",
    "    for i in range(k):\n",
    "        c = (random.uniform(-1, 1), random.uniform(-1, 1))\n",
    "        s = random.uniform(0.05,0.5)\n",
    "        x = []\n",
    "        while len(x) < n:\n",
    "            a, b = np.array([np.random.normal(c[0], s), np.random.normal(c[1], s)])\n",
    "            # Continue drawing points from the distribution in the range [-1,1]\n",
    "            if abs(a) < 1 and abs(b) < 1:\n",
    "                x.append([a,b])\n",
    "        X.extend(x)\n",
    "    X = np.array(X)[:N]\n",
    "    return X\n"
   ]
  },
  {
   "cell_type": "code",
   "execution_count": 60,
   "metadata": {},
   "outputs": [
    {
     "data": {
      "text/plain": [
       "array([[-0.47079413,  0.25366724],\n",
       "       [-0.1716479 ,  0.68651194],\n",
       "       [-0.07118771,  0.78214157],\n",
       "       [-0.6831478 ,  0.05379475],\n",
       "       [-0.49664251,  0.4728488 ],\n",
       "       [-0.74647784,  0.89647076],\n",
       "       [-0.99990963,  0.57130997],\n",
       "       [-0.59589136,  0.13803068],\n",
       "       [-0.70432722,  0.52704565],\n",
       "       [-0.14506559,  0.86273059]])"
      ]
     },
     "execution_count": 60,
     "metadata": {},
     "output_type": "execute_result"
    }
   ],
   "source": [
    "test_data = init_gaussian_board(100, 4)\n",
    "test_data[:10]"
   ]
  },
  {
   "cell_type": "code",
   "execution_count": 61,
   "metadata": {},
   "outputs": [],
   "source": [
    "def get_cluster_sets(data, cluster_indexes, k):\n",
    "    \n",
    "    clusters = [[] for i in range(k)]\n",
    "    \n",
    "    for i in range(len(data)):\n",
    "        clusters[cluster_indexes[i]].append(data[i])\n",
    "    \n",
    "    return clusters\n",
    "\n",
    "def compute_ssq(cluster):\n",
    "    ssq = 0\n",
    "    for e1 in cluster:\n",
    "        for e2 in cluster:\n",
    "            ssq += distance.euclidean(e1, e2)\n",
    "            \n",
    "    return ssq"
   ]
  },
  {
   "cell_type": "code",
   "execution_count": 206,
   "metadata": {},
   "outputs": [],
   "source": [
    "def compute_gap_statistic(points, k_num, B, method = 'SVD', use_SE = False):\n",
    "    std_points = preprocessing.scale(points)\n",
    "    kmeans = KMeans(n_clusters = k_num, max_iter = 255)\n",
    "    kmeans.fit(std_points)\n",
    "    \n",
    "    clusters = get_cluster_sets(test_data, kmeans.labels_, k_num)\n",
    "    \n",
    "    # Calculating total SSQ within clusters\n",
    "    nonlog_Wk = 0\n",
    "    for c in clusters:\n",
    "        nonlog_Wk += compute_ssq(c)\n",
    "    \n",
    "    \n",
    "    # Check again from here on\n",
    "    num_rows = len(points)\n",
    "    \n",
    "    reference_sample_data = []\n",
    "\n",
    "    try:\n",
    "        # Try to guess if B is matrix\n",
    "        test_matrix = B[0]\n",
    "        reference_sample_data = B\n",
    "        groups = int(np.ceil(len(reference_sample_data[0])/num_rows))\n",
    "    except:\n",
    "        # Then here it's a scalar\n",
    "        reference_sample_data = get_reference_sample(points, B * num_rows, method)\n",
    "        groups = B\n",
    "\n",
    "    nonlog_Wk_star = []    \n",
    "    \n",
    "    for i in range(groups):\n",
    "        first = num_rows * (i)\n",
    "        last = num_rows * (i + 1)\n",
    "        \n",
    "        #print('----\\n First:',first)\n",
    "        #print(' Last:',last,'\\n----')\n",
    "        \n",
    "        tmp_kmeans = KMeans(n_clusters = k_num, max_iter = 255)\n",
    "        tmp_kmeans.fit(reference_sample_data[first:last])\n",
    "        \n",
    "        tmp_cluster_labels = tmp_kmeans.labels_\n",
    "        tmp_cluster_sets = get_cluster_sets(reference_sample_data[first:last], tmp_cluster_labels, k_num)\n",
    "        \n",
    "        tmp_nonlog_withinss = sum([compute_ssq(c) for c in tmp_cluster_sets])\n",
    "        nonlog_Wk_star.append(tmp_nonlog_withinss)\n",
    "\n",
    "    if use_SE:\n",
    "        se = np.std(nonlog_Wk_star) * np.sqrt(1 + 1/(groups + 1))\n",
    "        Wk_diff = np.mean(nonlog_Wk_star) - nonlog_Wk\n",
    "        \n",
    "        return Wk_diff, se\n",
    "        \n",
    "    return np.mean(nonlog_Wk_star) - nonlog_Wk, 0"
   ]
  },
  {
   "cell_type": "code",
   "execution_count": 240,
   "metadata": {},
   "outputs": [],
   "source": [
    "def find_best_k(data, B, method = \"SVD\"):\n",
    "    gap = -1\n",
    "    k = 0\n",
    "    p = len(data[0])\n",
    "    \n",
    "    reference_sample_data = get_reference_sample(data, B * p, method)\n",
    "    \n",
    "    gap_k_plus = compute_gap_statistic(data, k + 1, reference_sample_data, method, True)\n",
    "    gap_k_plus = gap_k_plus[0]\n",
    "    \n",
    "    while(gap < 0):\n",
    "        k = k + 1\n",
    "        gap_k = gap_k_plus\n",
    "        k_plus = compute_gap_statistic(data, k + 1, reference_sample_data, method, True)\n",
    "        \n",
    "        print(k_plus)\n",
    "        gap_k_plus = k_plus[0]\n",
    "        se_k_plus = k_plus[1]\n",
    "        \n",
    "        print('Gap k', gap_k)\n",
    "        print('Gap stat k+1', gap_k_plus)\n",
    "        print('Std stat k+1', se_k_plus)\n",
    "        print('k', k)\n",
    "        print('-----------')\n",
    "        gap = gap_k - gap_k_plus + se_k_plus\n",
    "            \n",
    "    return(k)\n"
   ]
  },
  {
   "cell_type": "code",
   "execution_count": 247,
   "metadata": {},
   "outputs": [
    {
     "name": "stdout",
     "output_type": "stream",
     "text": [
      "Num samples:  100\n",
      "p =  2\n",
      "\n",
      "Gap statistic:  (736.3178736111727, 76.58748462439613)\n",
      "(633.6529273657839, 0.0)\n",
      "Gap k 183.87034699645847\n",
      "Gap stat k+1 633.6529273657839\n",
      "Std stat k+1 0.0\n",
      "k 1\n",
      "-----------\n",
      "(247.05935338869529, 0.0)\n",
      "Gap k 633.6529273657839\n",
      "Gap stat k+1 247.05935338869529\n",
      "Std stat k+1 0.0\n",
      "k 2\n",
      "-----------\n"
     ]
    },
    {
     "data": {
      "text/plain": [
       "2"
      ]
     },
     "execution_count": 247,
     "metadata": {},
     "output_type": "execute_result"
    },
    {
     "data": {
      "image/png": "[encoded data removed]",
      "text/plain": [
       "<Figure size 432x288 with 1 Axes>"
      ]
     },
     "metadata": {
      "needs_background": "light"
     },
     "output_type": "display_data"
    }
   ],
   "source": [
    "test_data = init_gaussian_board(100, 2)\n",
    "\n",
    "print('Num samples: ', len(test_data))\n",
    "print('p = ', len(test_data[0]))\n",
    "print()\n",
    "r = compute_gap_statistic(test_data, 2, 10, 'SVD', True)\n",
    "plt.scatter([p[0] for p in test_data], [p[1] for p in test_data])\n",
    "print(\"Gap statistic: \", r)\n",
    "\n",
    "find_best_k(test_data, 1000, method = \"SVD\")"
   ]
  }
 ],
 "metadata": {
  "kernelspec": {
   "display_name": "Python 3",
   "language": "python",
   "name": "python3"
  },
  "language_info": {
   "codemirror_mode": {
    "name": "ipython",
    "version": 3
   },
   "file_extension": ".py",
   "mimetype": "text/x-python",
   "name": "python",
   "nbconvert_exporter": "python",
   "pygments_lexer": "ipython3",
   "version": "3.7.6"
  }
 },
 "nbformat": 4,
 "nbformat_minor": 4
}
