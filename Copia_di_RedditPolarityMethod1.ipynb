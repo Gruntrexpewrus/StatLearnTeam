{
  "nbformat": 4,
  "nbformat_minor": 0,
  "metadata": {
    "colab": {
      "name": "Copia di RedditPolarityMethod1.ipynb",
      "provenance": [],
      "collapsed_sections": [],
      "toc_visible": true,
      "mount_file_id": "1WX4C0Tk2crOxtF-vqvjKLDL6cQ2RUr1l",
      "authorship_tag": "ABX9TyOBR+Tma4eBYC+8aXPG87u1",
      "include_colab_link": true
    },
    "kernelspec": {
      "name": "python3",
      "display_name": "Python 3"
    }
  },
  "cells": [
    {
      "cell_type": "markdown",
      "metadata": {
        "id": "view-in-github",
        "colab_type": "text"
      },
      "source": [
        "<a href=\"https://colab.research.google.com/github/Gruntrexpewrus/StatLearnTeam/blob/master/Copia_di_RedditPolarityMethod1.ipynb\" target=\"_parent\"><img src=\"https://colab.research.google.com/assets/colab-badge.svg\" alt=\"Open In Colab\"/></a>"
      ]
    },
    {
      "cell_type": "code",
      "metadata": {
        "id": "WyD2FiBmVd15",
        "colab_type": "code",
        "colab": {
          "base_uri": "https://localhost:8080/",
          "height": 72
        },
        "outputId": "2975bad2-0af0-429f-a3b6-327673832628"
      },
      "source": [
        "from nltk.stem.snowball import ItalianStemmer\n",
        "from nltk import RegexpTokenizer\n",
        "import nltk\n",
        "nltk.download(\"stopwords\")"
      ],
      "execution_count": 9,
      "outputs": [
        {
          "output_type": "stream",
          "text": [
            "[nltk_data] Downloading package stopwords to /root/nltk_data...\n",
            "[nltk_data]   Unzipping corpora/stopwords.zip.\n"
          ],
          "name": "stdout"
        },
        {
          "output_type": "execute_result",
          "data": {
            "text/plain": [
              "True"
            ]
          },
          "metadata": {
            "tags": []
          },
          "execution_count": 9
        }
      ]
    },
    {
      "cell_type": "code",
      "metadata": {
        "id": "ymwVRjARXBao",
        "colab_type": "code",
        "colab": {}
      },
      "source": [
        "stopwords = nltk.corpus.stopwords.words(\"italian\")\n",
        "def process_text(text):\n",
        "  to_return = [ItalianStemmer().stem(x) for x in RegexpTokenizer(r\"\\w+\").tokenize(text) if not x in stopwords]\n",
        "  #return (\" \".join(to_return))\n",
        "  return to_return"
      ],
      "execution_count": 10,
      "outputs": []
    },
    {
      "cell_type": "code",
      "metadata": {
        "id": "zw6VcKIMXE49",
        "colab_type": "code",
        "colab": {
          "base_uri": "https://localhost:8080/",
          "height": 35
        },
        "outputId": "fcd6ebf5-1325-4a8f-f919-ba49592c9496"
      },
      "source": [
        "process_text('La Connessione di Nina fa schifo.')"
      ],
      "execution_count": 11,
      "outputs": [
        {
          "output_type": "execute_result",
          "data": {
            "text/plain": [
              "['la', 'connession', 'nin', 'fa', 'schif']"
            ]
          },
          "metadata": {
            "tags": []
          },
          "execution_count": 11
        }
      ]
    },
    {
      "cell_type": "code",
      "metadata": {
        "id": "6tMNL1eKX3Op",
        "colab_type": "code",
        "colab": {}
      },
      "source": [
        "import pandas as pd"
      ],
      "execution_count": 12,
      "outputs": []
    },
    {
      "cell_type": "code",
      "metadata": {
        "id": "cB58IlhgXMDM",
        "colab_type": "code",
        "colab": {}
      },
      "source": [
        "wikineutral = pd.read_csv('/content/drive/My Drive/Topic detection/wiki_topics.csv', index_col = 0 , sep = \"\\t\", encoding = \"utf-8\")"
      ],
      "execution_count": 15,
      "outputs": []
    },
    {
      "cell_type": "code",
      "metadata": {
        "id": "1HffG3dcY-bn",
        "colab_type": "code",
        "colab": {
          "base_uri": "https://localhost:8080/",
          "height": 35
        },
        "outputId": "3fbc20a2-6260-4229-f651-d41c7a7c5801"
      },
      "source": [
        "wikineutral.shape"
      ],
      "execution_count": 16,
      "outputs": [
        {
          "output_type": "execute_result",
          "data": {
            "text/plain": [
              "(354, 2)"
            ]
          },
          "metadata": {
            "tags": []
          },
          "execution_count": 16
        }
      ]
    },
    {
      "cell_type": "code",
      "metadata": {
        "id": "zBvYaTSbX5ME",
        "colab_type": "code",
        "colab": {}
      },
      "source": [
        "wikineutral.drop(wikineutral.tail(200).index, inplace = True)"
      ],
      "execution_count": 17,
      "outputs": []
    },
    {
      "cell_type": "code",
      "metadata": {
        "id": "KSi-tC0cZOzu",
        "colab_type": "code",
        "colab": {
          "base_uri": "https://localhost:8080/",
          "height": 35
        },
        "outputId": "43a3d3fc-fa7c-4ba6-86d2-b85ea7242ef3"
      },
      "source": [
        "wikineutral.shape"
      ],
      "execution_count": 18,
      "outputs": [
        {
          "output_type": "execute_result",
          "data": {
            "text/plain": [
              "(154, 2)"
            ]
          },
          "metadata": {
            "tags": []
          },
          "execution_count": 18
        }
      ]
    },
    {
      "cell_type": "code",
      "metadata": {
        "id": "YdlVQiN4ZSrw",
        "colab_type": "code",
        "colab": {
          "base_uri": "https://localhost:8080/",
          "height": 35
        },
        "outputId": "429793b7-6f43-419e-efd6-c4c3a6a1ff43"
      },
      "source": [
        "wikineutral.shape"
      ],
      "execution_count": 19,
      "outputs": [
        {
          "output_type": "execute_result",
          "data": {
            "text/plain": [
              "(154, 2)"
            ]
          },
          "metadata": {
            "tags": []
          },
          "execution_count": 19
        }
      ]
    },
    {
      "cell_type": "code",
      "metadata": {
        "id": "njiW0kkGZVQJ",
        "colab_type": "code",
        "colab": {
          "base_uri": "https://localhost:8080/",
          "height": 198
        },
        "outputId": "abc12f0e-1d27-4815-fa6b-018db86b26d2"
      },
      "source": [
        "wikineutral.head()"
      ],
      "execution_count": 20,
      "outputs": [
        {
          "output_type": "execute_result",
          "data": {
            "text/html": [
              "<div>\n",
              "<style scoped>\n",
              "    .dataframe tbody tr th:only-of-type {\n",
              "        vertical-align: middle;\n",
              "    }\n",
              "\n",
              "    .dataframe tbody tr th {\n",
              "        vertical-align: top;\n",
              "    }\n",
              "\n",
              "    .dataframe thead th {\n",
              "        text-align: right;\n",
              "    }\n",
              "</style>\n",
              "<table border=\"1\" class=\"dataframe\">\n",
              "  <thead>\n",
              "    <tr style=\"text-align: right;\">\n",
              "      <th></th>\n",
              "      <th>Topic</th>\n",
              "      <th>Text</th>\n",
              "    </tr>\n",
              "  </thead>\n",
              "  <tbody>\n",
              "    <tr>\n",
              "      <th>0</th>\n",
              "      <td>Arte e cultura</td>\n",
              "      <td>Coordinate: 45°22′02.71″N 10°13′15.84″E﻿ / ﻿45...</td>\n",
              "    </tr>\n",
              "    <tr>\n",
              "      <th>1</th>\n",
              "      <td>Arte e cultura</td>\n",
              "      <td>Coordinate: 43°34′38.28″N 11°14′51″E﻿ / ﻿43.57...</td>\n",
              "    </tr>\n",
              "    <tr>\n",
              "      <th>2</th>\n",
              "      <td>Arte e cultura</td>\n",
              "      <td>Voci principali: Architettura del Settecento, ...</td>\n",
              "    </tr>\n",
              "    <tr>\n",
              "      <th>3</th>\n",
              "      <td>Arte e cultura</td>\n",
              "      <td>Coordinate: 45°26′24.29″N 10°59′19.71″E﻿ / ﻿45...</td>\n",
              "    </tr>\n",
              "    <tr>\n",
              "      <th>4</th>\n",
              "      <td>Arte e cultura</td>\n",
              "      <td>Coordinate: 45°26′20″N 10°59′40″E﻿ / ﻿45.43888...</td>\n",
              "    </tr>\n",
              "  </tbody>\n",
              "</table>\n",
              "</div>"
            ],
            "text/plain": [
              "            Topic                                               Text\n",
              "0  Arte e cultura  Coordinate: 45°22′02.71″N 10°13′15.84″E﻿ / ﻿45...\n",
              "1  Arte e cultura  Coordinate: 43°34′38.28″N 11°14′51″E﻿ / ﻿43.57...\n",
              "2  Arte e cultura  Voci principali: Architettura del Settecento, ...\n",
              "3  Arte e cultura  Coordinate: 45°26′24.29″N 10°59′19.71″E﻿ / ﻿45...\n",
              "4  Arte e cultura  Coordinate: 45°26′20″N 10°59′40″E﻿ / ﻿45.43888..."
            ]
          },
          "metadata": {
            "tags": []
          },
          "execution_count": 20
        }
      ]
    },
    {
      "cell_type": "code",
      "metadata": {
        "id": "FK7x8LLoZW6i",
        "colab_type": "code",
        "colab": {}
      },
      "source": [
        "wikineutral.drop(['Topic'], axis = 1,  inplace = True)\n",
        "wikineutral['Sentiment'] = 'neutral'\n",
        "\n",
        "wikineutral.to_csv('/content/drive/My Drive/Topic detection/Wikineutral.csv')"
      ],
      "execution_count": 21,
      "outputs": []
    },
    {
      "cell_type": "code",
      "metadata": {
        "id": "3R5MVUT3Z32E",
        "colab_type": "code",
        "colab": {
          "base_uri": "https://localhost:8080/",
          "height": 198
        },
        "outputId": "62c5ccf2-e70c-4661-d75b-ee6699c5f4ce"
      },
      "source": [
        "wikineutral.head()"
      ],
      "execution_count": 22,
      "outputs": [
        {
          "output_type": "execute_result",
          "data": {
            "text/html": [
              "<div>\n",
              "<style scoped>\n",
              "    .dataframe tbody tr th:only-of-type {\n",
              "        vertical-align: middle;\n",
              "    }\n",
              "\n",
              "    .dataframe tbody tr th {\n",
              "        vertical-align: top;\n",
              "    }\n",
              "\n",
              "    .dataframe thead th {\n",
              "        text-align: right;\n",
              "    }\n",
              "</style>\n",
              "<table border=\"1\" class=\"dataframe\">\n",
              "  <thead>\n",
              "    <tr style=\"text-align: right;\">\n",
              "      <th></th>\n",
              "      <th>Text</th>\n",
              "      <th>Sentiment</th>\n",
              "    </tr>\n",
              "  </thead>\n",
              "  <tbody>\n",
              "    <tr>\n",
              "      <th>0</th>\n",
              "      <td>Coordinate: 45°22′02.71″N 10°13′15.84″E﻿ / ﻿45...</td>\n",
              "      <td>neutral</td>\n",
              "    </tr>\n",
              "    <tr>\n",
              "      <th>1</th>\n",
              "      <td>Coordinate: 43°34′38.28″N 11°14′51″E﻿ / ﻿43.57...</td>\n",
              "      <td>neutral</td>\n",
              "    </tr>\n",
              "    <tr>\n",
              "      <th>2</th>\n",
              "      <td>Voci principali: Architettura del Settecento, ...</td>\n",
              "      <td>neutral</td>\n",
              "    </tr>\n",
              "    <tr>\n",
              "      <th>3</th>\n",
              "      <td>Coordinate: 45°26′24.29″N 10°59′19.71″E﻿ / ﻿45...</td>\n",
              "      <td>neutral</td>\n",
              "    </tr>\n",
              "    <tr>\n",
              "      <th>4</th>\n",
              "      <td>Coordinate: 45°26′20″N 10°59′40″E﻿ / ﻿45.43888...</td>\n",
              "      <td>neutral</td>\n",
              "    </tr>\n",
              "  </tbody>\n",
              "</table>\n",
              "</div>"
            ],
            "text/plain": [
              "                                                Text Sentiment\n",
              "0  Coordinate: 45°22′02.71″N 10°13′15.84″E﻿ / ﻿45...   neutral\n",
              "1  Coordinate: 43°34′38.28″N 11°14′51″E﻿ / ﻿43.57...   neutral\n",
              "2  Voci principali: Architettura del Settecento, ...   neutral\n",
              "3  Coordinate: 45°26′24.29″N 10°59′19.71″E﻿ / ﻿45...   neutral\n",
              "4  Coordinate: 45°26′20″N 10°59′40″E﻿ / ﻿45.43888...   neutral"
            ]
          },
          "metadata": {
            "tags": []
          },
          "execution_count": 22
        }
      ]
    },
    {
      "cell_type": "code",
      "metadata": {
        "id": "3ze8raciaC84",
        "colab_type": "code",
        "colab": {
          "base_uri": "https://localhost:8080/",
          "height": 198
        },
        "outputId": "a2f14aa4-7a1d-4db1-8b1c-3a387d5767c9"
      },
      "source": [
        "Amazonrewiews = pd.read_csv('/content/drive/My Drive/Topic detection/TrainDataSentiment.csv', index_col = 0 )\n",
        "Amazonrewiews.head()"
      ],
      "execution_count": 23,
      "outputs": [
        {
          "output_type": "execute_result",
          "data": {
            "text/html": [
              "<div>\n",
              "<style scoped>\n",
              "    .dataframe tbody tr th:only-of-type {\n",
              "        vertical-align: middle;\n",
              "    }\n",
              "\n",
              "    .dataframe tbody tr th {\n",
              "        vertical-align: top;\n",
              "    }\n",
              "\n",
              "    .dataframe thead th {\n",
              "        text-align: right;\n",
              "    }\n",
              "</style>\n",
              "<table border=\"1\" class=\"dataframe\">\n",
              "  <thead>\n",
              "    <tr style=\"text-align: right;\">\n",
              "      <th></th>\n",
              "      <th>content</th>\n",
              "      <th>rating</th>\n",
              "    </tr>\n",
              "  </thead>\n",
              "  <tbody>\n",
              "    <tr>\n",
              "      <th>0</th>\n",
              "      <td>Ho acquistato questa confezione di mascherine ...</td>\n",
              "      <td>4</td>\n",
              "    </tr>\n",
              "    <tr>\n",
              "      <th>1</th>\n",
              "      <td>Attenzione, ha un ferretto nasale in plastica ...</td>\n",
              "      <td>1</td>\n",
              "    </tr>\n",
              "    <tr>\n",
              "      <th>2</th>\n",
              "      <td>La confezione di cartone era già aperta, appen...</td>\n",
              "      <td>1</td>\n",
              "    </tr>\n",
              "    <tr>\n",
              "      <th>3</th>\n",
              "      <td>Mascherine vendute come \"Maschera Chirurgica 3...</td>\n",
              "      <td>1</td>\n",
              "    </tr>\n",
              "    <tr>\n",
              "      <th>4</th>\n",
              "      <td>ARRIVATO APERTO PESSIMO PRODOTTO</td>\n",
              "      <td>1</td>\n",
              "    </tr>\n",
              "  </tbody>\n",
              "</table>\n",
              "</div>"
            ],
            "text/plain": [
              "                                             content  rating\n",
              "0  Ho acquistato questa confezione di mascherine ...       4\n",
              "1  Attenzione, ha un ferretto nasale in plastica ...       1\n",
              "2  La confezione di cartone era già aperta, appen...       1\n",
              "3  Mascherine vendute come \"Maschera Chirurgica 3...       1\n",
              "4                   ARRIVATO APERTO PESSIMO PRODOTTO       1"
            ]
          },
          "metadata": {
            "tags": []
          },
          "execution_count": 23
        }
      ]
    },
    {
      "cell_type": "code",
      "metadata": {
        "id": "XD3f6vaFbQI1",
        "colab_type": "code",
        "colab": {
          "base_uri": "https://localhost:8080/",
          "height": 198
        },
        "outputId": "30eab749-35ac-4370-fb47-00133240bbe4"
      },
      "source": [
        "Amazonrewiews['rating'] = Amazonrewiews['rating'].map({5: 'positive', 4: 'positive', 1:'negative', 2:'negative',3:'negative' })\n",
        "Ama = Amazonrewiews.rename(columns={'content': 'Text', 'rating': 'Sentiment' })\n",
        "Ama.head()\n"
      ],
      "execution_count": 24,
      "outputs": [
        {
          "output_type": "execute_result",
          "data": {
            "text/html": [
              "<div>\n",
              "<style scoped>\n",
              "    .dataframe tbody tr th:only-of-type {\n",
              "        vertical-align: middle;\n",
              "    }\n",
              "\n",
              "    .dataframe tbody tr th {\n",
              "        vertical-align: top;\n",
              "    }\n",
              "\n",
              "    .dataframe thead th {\n",
              "        text-align: right;\n",
              "    }\n",
              "</style>\n",
              "<table border=\"1\" class=\"dataframe\">\n",
              "  <thead>\n",
              "    <tr style=\"text-align: right;\">\n",
              "      <th></th>\n",
              "      <th>Text</th>\n",
              "      <th>Sentiment</th>\n",
              "    </tr>\n",
              "  </thead>\n",
              "  <tbody>\n",
              "    <tr>\n",
              "      <th>0</th>\n",
              "      <td>Ho acquistato questa confezione di mascherine ...</td>\n",
              "      <td>positive</td>\n",
              "    </tr>\n",
              "    <tr>\n",
              "      <th>1</th>\n",
              "      <td>Attenzione, ha un ferretto nasale in plastica ...</td>\n",
              "      <td>negative</td>\n",
              "    </tr>\n",
              "    <tr>\n",
              "      <th>2</th>\n",
              "      <td>La confezione di cartone era già aperta, appen...</td>\n",
              "      <td>negative</td>\n",
              "    </tr>\n",
              "    <tr>\n",
              "      <th>3</th>\n",
              "      <td>Mascherine vendute come \"Maschera Chirurgica 3...</td>\n",
              "      <td>negative</td>\n",
              "    </tr>\n",
              "    <tr>\n",
              "      <th>4</th>\n",
              "      <td>ARRIVATO APERTO PESSIMO PRODOTTO</td>\n",
              "      <td>negative</td>\n",
              "    </tr>\n",
              "  </tbody>\n",
              "</table>\n",
              "</div>"
            ],
            "text/plain": [
              "                                                Text Sentiment\n",
              "0  Ho acquistato questa confezione di mascherine ...  positive\n",
              "1  Attenzione, ha un ferretto nasale in plastica ...  negative\n",
              "2  La confezione di cartone era già aperta, appen...  negative\n",
              "3  Mascherine vendute come \"Maschera Chirurgica 3...  negative\n",
              "4                   ARRIVATO APERTO PESSIMO PRODOTTO  negative"
            ]
          },
          "metadata": {
            "tags": []
          },
          "execution_count": 24
        }
      ]
    },
    {
      "cell_type": "code",
      "metadata": {
        "id": "EcPmtvy4iDcQ",
        "colab_type": "code",
        "colab": {
          "base_uri": "https://localhost:8080/",
          "height": 198
        },
        "outputId": "479e7c15-c6fc-4d9b-bc92-005f18233b73"
      },
      "source": [
        "Ama.head()"
      ],
      "execution_count": 25,
      "outputs": [
        {
          "output_type": "execute_result",
          "data": {
            "text/html": [
              "<div>\n",
              "<style scoped>\n",
              "    .dataframe tbody tr th:only-of-type {\n",
              "        vertical-align: middle;\n",
              "    }\n",
              "\n",
              "    .dataframe tbody tr th {\n",
              "        vertical-align: top;\n",
              "    }\n",
              "\n",
              "    .dataframe thead th {\n",
              "        text-align: right;\n",
              "    }\n",
              "</style>\n",
              "<table border=\"1\" class=\"dataframe\">\n",
              "  <thead>\n",
              "    <tr style=\"text-align: right;\">\n",
              "      <th></th>\n",
              "      <th>Text</th>\n",
              "      <th>Sentiment</th>\n",
              "    </tr>\n",
              "  </thead>\n",
              "  <tbody>\n",
              "    <tr>\n",
              "      <th>0</th>\n",
              "      <td>Ho acquistato questa confezione di mascherine ...</td>\n",
              "      <td>positive</td>\n",
              "    </tr>\n",
              "    <tr>\n",
              "      <th>1</th>\n",
              "      <td>Attenzione, ha un ferretto nasale in plastica ...</td>\n",
              "      <td>negative</td>\n",
              "    </tr>\n",
              "    <tr>\n",
              "      <th>2</th>\n",
              "      <td>La confezione di cartone era già aperta, appen...</td>\n",
              "      <td>negative</td>\n",
              "    </tr>\n",
              "    <tr>\n",
              "      <th>3</th>\n",
              "      <td>Mascherine vendute come \"Maschera Chirurgica 3...</td>\n",
              "      <td>negative</td>\n",
              "    </tr>\n",
              "    <tr>\n",
              "      <th>4</th>\n",
              "      <td>ARRIVATO APERTO PESSIMO PRODOTTO</td>\n",
              "      <td>negative</td>\n",
              "    </tr>\n",
              "  </tbody>\n",
              "</table>\n",
              "</div>"
            ],
            "text/plain": [
              "                                                Text Sentiment\n",
              "0  Ho acquistato questa confezione di mascherine ...  positive\n",
              "1  Attenzione, ha un ferretto nasale in plastica ...  negative\n",
              "2  La confezione di cartone era già aperta, appen...  negative\n",
              "3  Mascherine vendute come \"Maschera Chirurgica 3...  negative\n",
              "4                   ARRIVATO APERTO PESSIMO PRODOTTO  negative"
            ]
          },
          "metadata": {
            "tags": []
          },
          "execution_count": 25
        }
      ]
    },
    {
      "cell_type": "code",
      "metadata": {
        "id": "Vt6uIND8iQlY",
        "colab_type": "code",
        "colab": {
          "base_uri": "https://localhost:8080/",
          "height": 35
        },
        "outputId": "61f83043-a9d6-4e52-b0ed-d9f2f4b54789"
      },
      "source": [
        "Ama['Sentiment'][0]"
      ],
      "execution_count": 26,
      "outputs": [
        {
          "output_type": "execute_result",
          "data": {
            "application/vnd.google.colaboratory.intrinsic+json": {
              "type": "string"
            },
            "text/plain": [
              "'positive'"
            ]
          },
          "metadata": {
            "tags": []
          },
          "execution_count": 26
        }
      ]
    },
    {
      "cell_type": "code",
      "metadata": {
        "id": "dd-owvtgiVFP",
        "colab_type": "code",
        "colab": {
          "base_uri": "https://localhost:8080/",
          "height": 35
        },
        "outputId": "aee143ef-0de6-4dee-a82b-04c2cc077f45"
      },
      "source": [
        "wikineutral['Sentiment'][0]"
      ],
      "execution_count": 27,
      "outputs": [
        {
          "output_type": "execute_result",
          "data": {
            "application/vnd.google.colaboratory.intrinsic+json": {
              "type": "string"
            },
            "text/plain": [
              "'neutral'"
            ]
          },
          "metadata": {
            "tags": []
          },
          "execution_count": 27
        }
      ]
    },
    {
      "cell_type": "code",
      "metadata": {
        "id": "FZUBFN0siENu",
        "colab_type": "code",
        "colab": {
          "base_uri": "https://localhost:8080/",
          "height": 198
        },
        "outputId": "919eb0ea-d012-4cd7-c45f-c5685ac0f167"
      },
      "source": [
        "wikineutral.head()"
      ],
      "execution_count": 28,
      "outputs": [
        {
          "output_type": "execute_result",
          "data": {
            "text/html": [
              "<div>\n",
              "<style scoped>\n",
              "    .dataframe tbody tr th:only-of-type {\n",
              "        vertical-align: middle;\n",
              "    }\n",
              "\n",
              "    .dataframe tbody tr th {\n",
              "        vertical-align: top;\n",
              "    }\n",
              "\n",
              "    .dataframe thead th {\n",
              "        text-align: right;\n",
              "    }\n",
              "</style>\n",
              "<table border=\"1\" class=\"dataframe\">\n",
              "  <thead>\n",
              "    <tr style=\"text-align: right;\">\n",
              "      <th></th>\n",
              "      <th>Text</th>\n",
              "      <th>Sentiment</th>\n",
              "    </tr>\n",
              "  </thead>\n",
              "  <tbody>\n",
              "    <tr>\n",
              "      <th>0</th>\n",
              "      <td>Coordinate: 45°22′02.71″N 10°13′15.84″E﻿ / ﻿45...</td>\n",
              "      <td>neutral</td>\n",
              "    </tr>\n",
              "    <tr>\n",
              "      <th>1</th>\n",
              "      <td>Coordinate: 43°34′38.28″N 11°14′51″E﻿ / ﻿43.57...</td>\n",
              "      <td>neutral</td>\n",
              "    </tr>\n",
              "    <tr>\n",
              "      <th>2</th>\n",
              "      <td>Voci principali: Architettura del Settecento, ...</td>\n",
              "      <td>neutral</td>\n",
              "    </tr>\n",
              "    <tr>\n",
              "      <th>3</th>\n",
              "      <td>Coordinate: 45°26′24.29″N 10°59′19.71″E﻿ / ﻿45...</td>\n",
              "      <td>neutral</td>\n",
              "    </tr>\n",
              "    <tr>\n",
              "      <th>4</th>\n",
              "      <td>Coordinate: 45°26′20″N 10°59′40″E﻿ / ﻿45.43888...</td>\n",
              "      <td>neutral</td>\n",
              "    </tr>\n",
              "  </tbody>\n",
              "</table>\n",
              "</div>"
            ],
            "text/plain": [
              "                                                Text Sentiment\n",
              "0  Coordinate: 45°22′02.71″N 10°13′15.84″E﻿ / ﻿45...   neutral\n",
              "1  Coordinate: 43°34′38.28″N 11°14′51″E﻿ / ﻿43.57...   neutral\n",
              "2  Voci principali: Architettura del Settecento, ...   neutral\n",
              "3  Coordinate: 45°26′24.29″N 10°59′19.71″E﻿ / ﻿45...   neutral\n",
              "4  Coordinate: 45°26′20″N 10°59′40″E﻿ / ﻿45.43888...   neutral"
            ]
          },
          "metadata": {
            "tags": []
          },
          "execution_count": 28
        }
      ]
    },
    {
      "cell_type": "code",
      "metadata": {
        "id": "Po42rWt5iEQQ",
        "colab_type": "code",
        "colab": {
          "base_uri": "https://localhost:8080/",
          "height": 35
        },
        "outputId": "1d7e4b7f-828b-48fe-94cc-09deb33e0dbf"
      },
      "source": [
        "Ama.shape"
      ],
      "execution_count": 29,
      "outputs": [
        {
          "output_type": "execute_result",
          "data": {
            "text/plain": [
              "(460, 2)"
            ]
          },
          "metadata": {
            "tags": []
          },
          "execution_count": 29
        }
      ]
    },
    {
      "cell_type": "code",
      "metadata": {
        "id": "0xMojTW_iESr",
        "colab_type": "code",
        "colab": {
          "base_uri": "https://localhost:8080/",
          "height": 35
        },
        "outputId": "6596ef60-c035-4835-d24f-d14532928a50"
      },
      "source": [
        "wikineutral.shape"
      ],
      "execution_count": 30,
      "outputs": [
        {
          "output_type": "execute_result",
          "data": {
            "text/plain": [
              "(154, 2)"
            ]
          },
          "metadata": {
            "tags": []
          },
          "execution_count": 30
        }
      ]
    },
    {
      "cell_type": "code",
      "metadata": {
        "id": "qRbOAyF-iEU2",
        "colab_type": "code",
        "colab": {}
      },
      "source": [
        ""
      ],
      "execution_count": 30,
      "outputs": []
    },
    {
      "cell_type": "code",
      "metadata": {
        "id": "kmW7NNCLaQTP",
        "colab_type": "code",
        "colab": {}
      },
      "source": [
        "TrainData = pd.concat([Ama, wikineutral], ignore_index = True)"
      ],
      "execution_count": 31,
      "outputs": []
    },
    {
      "cell_type": "code",
      "metadata": {
        "id": "9mYwXStWcZZw",
        "colab_type": "code",
        "colab": {
          "base_uri": "https://localhost:8080/",
          "height": 198
        },
        "outputId": "67c873d6-6596-44b5-f158-75d1cd309159"
      },
      "source": [
        "TrainData.head()"
      ],
      "execution_count": 32,
      "outputs": [
        {
          "output_type": "execute_result",
          "data": {
            "text/html": [
              "<div>\n",
              "<style scoped>\n",
              "    .dataframe tbody tr th:only-of-type {\n",
              "        vertical-align: middle;\n",
              "    }\n",
              "\n",
              "    .dataframe tbody tr th {\n",
              "        vertical-align: top;\n",
              "    }\n",
              "\n",
              "    .dataframe thead th {\n",
              "        text-align: right;\n",
              "    }\n",
              "</style>\n",
              "<table border=\"1\" class=\"dataframe\">\n",
              "  <thead>\n",
              "    <tr style=\"text-align: right;\">\n",
              "      <th></th>\n",
              "      <th>Text</th>\n",
              "      <th>Sentiment</th>\n",
              "    </tr>\n",
              "  </thead>\n",
              "  <tbody>\n",
              "    <tr>\n",
              "      <th>0</th>\n",
              "      <td>Ho acquistato questa confezione di mascherine ...</td>\n",
              "      <td>positive</td>\n",
              "    </tr>\n",
              "    <tr>\n",
              "      <th>1</th>\n",
              "      <td>Attenzione, ha un ferretto nasale in plastica ...</td>\n",
              "      <td>negative</td>\n",
              "    </tr>\n",
              "    <tr>\n",
              "      <th>2</th>\n",
              "      <td>La confezione di cartone era già aperta, appen...</td>\n",
              "      <td>negative</td>\n",
              "    </tr>\n",
              "    <tr>\n",
              "      <th>3</th>\n",
              "      <td>Mascherine vendute come \"Maschera Chirurgica 3...</td>\n",
              "      <td>negative</td>\n",
              "    </tr>\n",
              "    <tr>\n",
              "      <th>4</th>\n",
              "      <td>ARRIVATO APERTO PESSIMO PRODOTTO</td>\n",
              "      <td>negative</td>\n",
              "    </tr>\n",
              "  </tbody>\n",
              "</table>\n",
              "</div>"
            ],
            "text/plain": [
              "                                                Text Sentiment\n",
              "0  Ho acquistato questa confezione di mascherine ...  positive\n",
              "1  Attenzione, ha un ferretto nasale in plastica ...  negative\n",
              "2  La confezione di cartone era già aperta, appen...  negative\n",
              "3  Mascherine vendute come \"Maschera Chirurgica 3...  negative\n",
              "4                   ARRIVATO APERTO PESSIMO PRODOTTO  negative"
            ]
          },
          "metadata": {
            "tags": []
          },
          "execution_count": 32
        }
      ]
    },
    {
      "cell_type": "code",
      "metadata": {
        "id": "LCDvNHkecpdK",
        "colab_type": "code",
        "colab": {
          "base_uri": "https://localhost:8080/",
          "height": 35
        },
        "outputId": "0a6fe5ae-6dab-4311-a9ac-67eafcad816f"
      },
      "source": [
        "TrainData.shape"
      ],
      "execution_count": 33,
      "outputs": [
        {
          "output_type": "execute_result",
          "data": {
            "text/plain": [
              "(614, 2)"
            ]
          },
          "metadata": {
            "tags": []
          },
          "execution_count": 33
        }
      ]
    },
    {
      "cell_type": "code",
      "metadata": {
        "id": "Y97xw_SpcrsW",
        "colab_type": "code",
        "colab": {}
      },
      "source": [
        "TrainData.to_csv('/content/drive/My Drive/Topic detection/TrainData4SentimentLeoandNigna.csv')"
      ],
      "execution_count": 34,
      "outputs": []
    },
    {
      "cell_type": "code",
      "metadata": {
        "id": "megW-DfFc1zY",
        "colab_type": "code",
        "colab": {
          "base_uri": "https://localhost:8080/",
          "height": 198
        },
        "outputId": "fcb87611-bea1-4455-f0b1-3f4bc32e35af"
      },
      "source": [
        "TrainData = pd.read_csv('/content/drive/My Drive/Topic detection/TrainData4SentimentLeoandNigna.csv', index_col = 0 )\n",
        "TrainData.head()"
      ],
      "execution_count": 35,
      "outputs": [
        {
          "output_type": "execute_result",
          "data": {
            "text/html": [
              "<div>\n",
              "<style scoped>\n",
              "    .dataframe tbody tr th:only-of-type {\n",
              "        vertical-align: middle;\n",
              "    }\n",
              "\n",
              "    .dataframe tbody tr th {\n",
              "        vertical-align: top;\n",
              "    }\n",
              "\n",
              "    .dataframe thead th {\n",
              "        text-align: right;\n",
              "    }\n",
              "</style>\n",
              "<table border=\"1\" class=\"dataframe\">\n",
              "  <thead>\n",
              "    <tr style=\"text-align: right;\">\n",
              "      <th></th>\n",
              "      <th>Text</th>\n",
              "      <th>Sentiment</th>\n",
              "    </tr>\n",
              "  </thead>\n",
              "  <tbody>\n",
              "    <tr>\n",
              "      <th>0</th>\n",
              "      <td>Ho acquistato questa confezione di mascherine ...</td>\n",
              "      <td>positive</td>\n",
              "    </tr>\n",
              "    <tr>\n",
              "      <th>1</th>\n",
              "      <td>Attenzione, ha un ferretto nasale in plastica ...</td>\n",
              "      <td>negative</td>\n",
              "    </tr>\n",
              "    <tr>\n",
              "      <th>2</th>\n",
              "      <td>La confezione di cartone era già aperta, appen...</td>\n",
              "      <td>negative</td>\n",
              "    </tr>\n",
              "    <tr>\n",
              "      <th>3</th>\n",
              "      <td>Mascherine vendute come \"Maschera Chirurgica 3...</td>\n",
              "      <td>negative</td>\n",
              "    </tr>\n",
              "    <tr>\n",
              "      <th>4</th>\n",
              "      <td>ARRIVATO APERTO PESSIMO PRODOTTO</td>\n",
              "      <td>negative</td>\n",
              "    </tr>\n",
              "  </tbody>\n",
              "</table>\n",
              "</div>"
            ],
            "text/plain": [
              "                                                Text Sentiment\n",
              "0  Ho acquistato questa confezione di mascherine ...  positive\n",
              "1  Attenzione, ha un ferretto nasale in plastica ...  negative\n",
              "2  La confezione di cartone era già aperta, appen...  negative\n",
              "3  Mascherine vendute come \"Maschera Chirurgica 3...  negative\n",
              "4                   ARRIVATO APERTO PESSIMO PRODOTTO  negative"
            ]
          },
          "metadata": {
            "tags": []
          },
          "execution_count": 35
        }
      ]
    },
    {
      "cell_type": "code",
      "metadata": {
        "id": "GVhqLLP7mNI8",
        "colab_type": "code",
        "colab": {
          "base_uri": "https://localhost:8080/",
          "height": 35
        },
        "outputId": "bce09fa8-cbf1-4e99-b398-074c8cedb5f8"
      },
      "source": [
        "TrainData = TrainData.dropna()\n",
        "tokenized_data = []\n",
        "from tqdm import tqdm \n",
        "for index in tqdm(range(len(TrainData))):\n",
        "  tokenized_data.append(\" \".join(process_text(TrainData.iloc[index][\"Text\"])))"
      ],
      "execution_count": 36,
      "outputs": [
        {
          "output_type": "stream",
          "text": [
            "100%|██████████| 613/613 [00:19<00:00, 32.08it/s]\n"
          ],
          "name": "stderr"
        }
      ]
    },
    {
      "cell_type": "code",
      "metadata": {
        "id": "XwjoRO_7po63",
        "colab_type": "code",
        "colab": {}
      },
      "source": [
        "TrainData[\"Processed Text\"] = tokenized_data"
      ],
      "execution_count": 37,
      "outputs": []
    },
    {
      "cell_type": "code",
      "metadata": {
        "id": "zsv2ar2kp9LC",
        "colab_type": "code",
        "colab": {
          "base_uri": "https://localhost:8080/",
          "height": 198
        },
        "outputId": "464078dd-afbf-4177-a7db-e5c39f4c946e"
      },
      "source": [
        "TrainData.head()"
      ],
      "execution_count": 38,
      "outputs": [
        {
          "output_type": "execute_result",
          "data": {
            "text/html": [
              "<div>\n",
              "<style scoped>\n",
              "    .dataframe tbody tr th:only-of-type {\n",
              "        vertical-align: middle;\n",
              "    }\n",
              "\n",
              "    .dataframe tbody tr th {\n",
              "        vertical-align: top;\n",
              "    }\n",
              "\n",
              "    .dataframe thead th {\n",
              "        text-align: right;\n",
              "    }\n",
              "</style>\n",
              "<table border=\"1\" class=\"dataframe\">\n",
              "  <thead>\n",
              "    <tr style=\"text-align: right;\">\n",
              "      <th></th>\n",
              "      <th>Text</th>\n",
              "      <th>Sentiment</th>\n",
              "      <th>Processed Text</th>\n",
              "    </tr>\n",
              "  </thead>\n",
              "  <tbody>\n",
              "    <tr>\n",
              "      <th>0</th>\n",
              "      <td>Ho acquistato questa confezione di mascherine ...</td>\n",
              "      <td>positive</td>\n",
              "      <td>ho acquist confezion mascherin 19 99 quind 40 ...</td>\n",
              "    </tr>\n",
              "    <tr>\n",
              "      <th>1</th>\n",
              "      <td>Attenzione, ha un ferretto nasale in plastica ...</td>\n",
              "      <td>negative</td>\n",
              "      <td>attenzion ferrett nasal plastic permett far ad...</td>\n",
              "    </tr>\n",
              "    <tr>\n",
              "      <th>2</th>\n",
              "      <td>La confezione di cartone era già aperta, appen...</td>\n",
              "      <td>negative</td>\n",
              "      <td>la confezion carton già apert appen pres lat t...</td>\n",
              "    </tr>\n",
              "    <tr>\n",
              "      <th>3</th>\n",
              "      <td>Mascherine vendute come \"Maschera Chirurgica 3...</td>\n",
              "      <td>negative</td>\n",
              "      <td>mascherin vend mascher chirurg 3p tip iir conf...</td>\n",
              "    </tr>\n",
              "    <tr>\n",
              "      <th>4</th>\n",
              "      <td>ARRIVATO APERTO PESSIMO PRODOTTO</td>\n",
              "      <td>negative</td>\n",
              "      <td>arriv apert pessim prodott</td>\n",
              "    </tr>\n",
              "  </tbody>\n",
              "</table>\n",
              "</div>"
            ],
            "text/plain": [
              "                                                Text  ...                                     Processed Text\n",
              "0  Ho acquistato questa confezione di mascherine ...  ...  ho acquist confezion mascherin 19 99 quind 40 ...\n",
              "1  Attenzione, ha un ferretto nasale in plastica ...  ...  attenzion ferrett nasal plastic permett far ad...\n",
              "2  La confezione di cartone era già aperta, appen...  ...  la confezion carton già apert appen pres lat t...\n",
              "3  Mascherine vendute come \"Maschera Chirurgica 3...  ...  mascherin vend mascher chirurg 3p tip iir conf...\n",
              "4                   ARRIVATO APERTO PESSIMO PRODOTTO  ...                         arriv apert pessim prodott\n",
              "\n",
              "[5 rows x 3 columns]"
            ]
          },
          "metadata": {
            "tags": []
          },
          "execution_count": 38
        }
      ]
    },
    {
      "cell_type": "code",
      "metadata": {
        "id": "fRwPGmCLq21Y",
        "colab_type": "code",
        "colab": {}
      },
      "source": [
        "TrainData.to_csv('/content/drive/My Drive/Topic detection/ProcessedTrainData4SentimentLeoandNigna.csv')\n"
      ],
      "execution_count": 39,
      "outputs": []
    },
    {
      "cell_type": "markdown",
      "metadata": {
        "id": "-9tRxudbrlMg",
        "colab_type": "text"
      },
      "source": [
        ""
      ]
    },
    {
      "cell_type": "markdown",
      "metadata": {
        "id": "E7H098QYrn0F",
        "colab_type": "text"
      },
      "source": [
        "## Let's create the bag of words **model**"
      ]
    },
    {
      "cell_type": "code",
      "metadata": {
        "id": "aInTesrrrRNF",
        "colab_type": "code",
        "colab": {}
      },
      "source": [
        "text = ['mama is big', 'big big big fat big Nina']"
      ],
      "execution_count": 40,
      "outputs": []
    },
    {
      "cell_type": "code",
      "metadata": {
        "id": "JxyFLnN0vebd",
        "colab_type": "code",
        "colab": {
          "base_uri": "https://localhost:8080/",
          "height": 35
        },
        "outputId": "e57cedb4-c0a2-4cac-e943-ba0ebf065e79"
      },
      "source": [
        "text"
      ],
      "execution_count": 41,
      "outputs": [
        {
          "output_type": "execute_result",
          "data": {
            "text/plain": [
              "['mama is big', 'big big big fat big Nina']"
            ]
          },
          "metadata": {
            "tags": []
          },
          "execution_count": 41
        }
      ]
    },
    {
      "cell_type": "code",
      "metadata": {
        "id": "Y9CFyusHvgX1",
        "colab_type": "code",
        "colab": {}
      },
      "source": [
        "from sklearn.feature_extraction.text import TfidfVectorizer"
      ],
      "execution_count": 42,
      "outputs": []
    },
    {
      "cell_type": "code",
      "metadata": {
        "id": "MULrsCnTvj-O",
        "colab_type": "code",
        "colab": {
          "base_uri": "https://localhost:8080/",
          "height": 54
        },
        "outputId": "8e11351f-b6a3-4288-f599-ac4b1a1c59d2"
      },
      "source": [
        "vectorizer = TfidfVectorizer()\n",
        "X = vectorizer.fit_transform(text)\n",
        "X"
      ],
      "execution_count": 43,
      "outputs": [
        {
          "output_type": "execute_result",
          "data": {
            "text/plain": [
              "<2x5 sparse matrix of type '<class 'numpy.float64'>'\n",
              "\twith 6 stored elements in Compressed Sparse Row format>"
            ]
          },
          "metadata": {
            "tags": []
          },
          "execution_count": 43
        }
      ]
    },
    {
      "cell_type": "code",
      "metadata": {
        "id": "UPK_Rtl0vs4q",
        "colab_type": "code",
        "colab": {
          "base_uri": "https://localhost:8080/",
          "height": 35
        },
        "outputId": "e0513279-1dc1-4911-c6cf-7f9b3f342d47"
      },
      "source": [
        "print(vectorizer.get_feature_names())"
      ],
      "execution_count": 44,
      "outputs": [
        {
          "output_type": "stream",
          "text": [
            "['big', 'fat', 'is', 'mama', 'nina']\n"
          ],
          "name": "stdout"
        }
      ]
    },
    {
      "cell_type": "code",
      "metadata": {
        "id": "edHCdWWPvxHc",
        "colab_type": "code",
        "colab": {}
      },
      "source": [
        "#a b c\n",
        "#doc 1 (0,.66, 0.33) = 'b b c'"
      ],
      "execution_count": null,
      "outputs": []
    },
    {
      "cell_type": "code",
      "metadata": {
        "id": "o90sCSU8wawh",
        "colab_type": "code",
        "colab": {}
      },
      "source": [
        "Y = X.toarray()"
      ],
      "execution_count": 45,
      "outputs": []
    },
    {
      "cell_type": "code",
      "metadata": {
        "id": "NTN3VDCawv6b",
        "colab_type": "code",
        "colab": {
          "base_uri": "https://localhost:8080/",
          "height": 54
        },
        "outputId": "231e72f7-eb55-4adc-ab94-1ca48d3e205e"
      },
      "source": [
        "for i in Y:\n",
        "  print(i)"
      ],
      "execution_count": 46,
      "outputs": [
        {
          "output_type": "stream",
          "text": [
            "[0.44943642 0.         0.6316672  0.6316672  0.        ]\n",
            "[0.89553242 0.31465989 0.         0.         0.31465989]\n"
          ],
          "name": "stdout"
        }
      ]
    },
    {
      "cell_type": "code",
      "metadata": {
        "id": "uAKV_wxRxbk0",
        "colab_type": "code",
        "colab": {}
      },
      "source": [
        "TrainList = TrainData['Text'].tolist()"
      ],
      "execution_count": 47,
      "outputs": []
    },
    {
      "cell_type": "code",
      "metadata": {
        "id": "BxCNCMILxkun",
        "colab_type": "code",
        "colab": {
          "base_uri": "https://localhost:8080/",
          "height": 54
        },
        "outputId": "d0e6ce0b-eb1c-495c-cbc3-72006dcb0734"
      },
      "source": [
        "vectorizer = TfidfVectorizer()\n",
        "X = vectorizer.fit_transform(TrainList)\n",
        "X #Matrix with each row TfIdf"
      ],
      "execution_count": 48,
      "outputs": [
        {
          "output_type": "execute_result",
          "data": {
            "text/plain": [
              "<613x65508 sparse matrix of type '<class 'numpy.float64'>'\n",
              "\twith 354181 stored elements in Compressed Sparse Row format>"
            ]
          },
          "metadata": {
            "tags": []
          },
          "execution_count": 48
        }
      ]
    },
    {
      "cell_type": "code",
      "metadata": {
        "id": "tVYNVo3czSYH",
        "colab_type": "code",
        "colab": {
          "base_uri": "https://localhost:8080/",
          "height": 254
        },
        "outputId": "dd4682ec-bdde-4194-f7a8-0ffde1a3ffc2"
      },
      "source": [
        "from sklearn.decomposition import TruncatedSVD\n",
        "from scipy.sparse import random as sparse_random\n",
        "from sklearn.random_projection import sparse_random_matrix\n",
        "svd = TruncatedSVD(n_components=200, n_iter=7, random_state=42)\n",
        "a = svd.fit_transform(X)\n",
        "a\n",
        "#print(svd.explained_variance_ratio_)\n",
        "\n",
        "##print(svd.explained_variance_ratio_.sum())\n",
        "\n",
        "#print(svd.singular_values_) A = USV^t S singular matrix (x0000000\n",
        "                                                      #      0y00000000000000000)\n"
      ],
      "execution_count": 49,
      "outputs": [
        {
          "output_type": "execute_result",
          "data": {
            "text/plain": [
              "array([[ 2.72477921e-01,  2.19722663e-01,  2.41873042e-02, ...,\n",
              "        -1.35069144e-03,  1.67971548e-03,  1.08763949e-02],\n",
              "       [ 1.69086233e-01,  9.75741323e-02, -5.23767439e-03, ...,\n",
              "         4.49712636e-04,  4.89908460e-03,  2.93880041e-03],\n",
              "       [ 2.17972179e-01,  1.22996231e-01,  6.53177650e-02, ...,\n",
              "         4.39496655e-03,  2.08280290e-03,  1.67175275e-03],\n",
              "       ...,\n",
              "       [ 5.46481098e-01, -1.26183255e-01,  1.04521976e-02, ...,\n",
              "         1.33294738e-02,  3.66383324e-02, -1.12778499e-02],\n",
              "       [ 6.07700540e-01, -1.12720598e-01,  9.94584333e-03, ...,\n",
              "         3.62072962e-02,  1.28623951e-01, -9.18199482e-03],\n",
              "       [ 6.00992272e-01, -1.32766560e-01,  1.02204211e-02, ...,\n",
              "         4.63442622e-02,  1.62474840e-01, -1.17156283e-02]])"
            ]
          },
          "metadata": {
            "tags": []
          },
          "execution_count": 49
        }
      ]
    },
    {
      "cell_type": "code",
      "metadata": {
        "id": "d_2VhtWCYhW2",
        "colab_type": "code",
        "colab": {
          "base_uri": "https://localhost:8080/",
          "height": 35
        },
        "outputId": "7e0b6982-98de-4979-d471-8b93303e3dcb"
      },
      "source": [
        "len(a)"
      ],
      "execution_count": 67,
      "outputs": [
        {
          "output_type": "execute_result",
          "data": {
            "text/plain": [
              "613"
            ]
          },
          "metadata": {
            "tags": []
          },
          "execution_count": 67
        }
      ]
    },
    {
      "cell_type": "code",
      "metadata": {
        "id": "gOf_TrRrzSkT",
        "colab_type": "code",
        "colab": {
          "base_uri": "https://localhost:8080/",
          "height": 35
        },
        "outputId": "2469baa6-e044-4d4f-bc50-65cf6996890f"
      },
      "source": [
        "i = 0\n",
        "a2 = []\n",
        "for i in range(1,201):\n",
        "  a2.append([])\n",
        "\n",
        "for position in range(len(a)):\n",
        "  for col in range(0,200):\n",
        "    # print(a[position][col])\n",
        "     a2[col].append(a[position][col])\n",
        "print(len(a2))"
      ],
      "execution_count": 72,
      "outputs": [
        {
          "output_type": "stream",
          "text": [
            "200\n"
          ],
          "name": "stdout"
        }
      ]
    },
    {
      "cell_type": "code",
      "metadata": {
        "id": "lFPxxCeDYolR",
        "colab_type": "code",
        "colab": {}
      },
      "source": [
        "a2[0]"
      ],
      "execution_count": null,
      "outputs": []
    },
    {
      "cell_type": "code",
      "metadata": {
        "id": "Qlon5LhcY7zl",
        "colab_type": "code",
        "colab": {}
      },
      "source": [
        "l = []\n",
        "for i in range(1,201):\n",
        "    l.append('feat'+str(i))"
      ],
      "execution_count": 74,
      "outputs": []
    },
    {
      "cell_type": "code",
      "metadata": {
        "id": "gpCIruC0Y72L",
        "colab_type": "code",
        "colab": {
          "base_uri": "https://localhost:8080/",
          "height": 35
        },
        "outputId": "896f192e-680f-4ef2-e3b9-f9da5a93fbe3"
      },
      "source": [
        "l[0]"
      ],
      "execution_count": 75,
      "outputs": [
        {
          "output_type": "execute_result",
          "data": {
            "application/vnd.google.colaboratory.intrinsic+json": {
              "type": "string"
            },
            "text/plain": [
              "'feat1'"
            ]
          },
          "metadata": {
            "tags": []
          },
          "execution_count": 75
        }
      ]
    },
    {
      "cell_type": "code",
      "metadata": {
        "id": "q_hsfzxMY74W",
        "colab_type": "code",
        "colab": {}
      },
      "source": [
        ""
      ],
      "execution_count": null,
      "outputs": []
    },
    {
      "cell_type": "code",
      "metadata": {
        "id": "jc6s9Uz7Y77K",
        "colab_type": "code",
        "colab": {}
      },
      "source": [
        ""
      ],
      "execution_count": null,
      "outputs": []
    },
    {
      "cell_type": "code",
      "metadata": {
        "id": "iynYgzsqx39W",
        "colab_type": "code",
        "colab": {
          "base_uri": "https://localhost:8080/",
          "height": 34
        },
        "outputId": "6c295431-cb66-40be-c991-a6d2338f0c67"
      },
      "source": [
        "print(len(vectorizer.get_feature_names()))"
      ],
      "execution_count": null,
      "outputs": [
        {
          "output_type": "stream",
          "text": [
            "65508\n"
          ],
          "name": "stdout"
        }
      ]
    },
    {
      "cell_type": "code",
      "metadata": {
        "id": "Gpyqcb7-1Yjz",
        "colab_type": "code",
        "colab": {}
      },
      "source": [
        "ff = a.tolist()"
      ],
      "execution_count": 76,
      "outputs": []
    },
    {
      "cell_type": "code",
      "metadata": {
        "id": "QWgJUwdg1pK2",
        "colab_type": "code",
        "colab": {
          "base_uri": "https://localhost:8080/",
          "height": 35
        },
        "outputId": "0a9d445d-8cad-4386-ddb2-0ebe6d6cb2fe"
      },
      "source": [
        "len(ff[0])"
      ],
      "execution_count": 77,
      "outputs": [
        {
          "output_type": "execute_result",
          "data": {
            "text/plain": [
              "200"
            ]
          },
          "metadata": {
            "tags": []
          },
          "execution_count": 77
        }
      ]
    },
    {
      "cell_type": "code",
      "metadata": {
        "id": "lBoTIj82x68x",
        "colab_type": "code",
        "colab": {}
      },
      "source": [
        "TrainData['TfIdfVectors'] = ff"
      ],
      "execution_count": 78,
      "outputs": []
    },
    {
      "cell_type": "code",
      "metadata": {
        "id": "hmXK0o04yJEn",
        "colab_type": "code",
        "colab": {
          "base_uri": "https://localhost:8080/",
          "height": 221
        },
        "outputId": "53a273a8-d929-4119-a8ea-07b135e5a34f"
      },
      "source": [
        "TrainData['TfIdfVectors']"
      ],
      "execution_count": null,
      "outputs": [
        {
          "output_type": "execute_result",
          "data": {
            "text/plain": [
              "0      [0.27247792065239457, 0.21972266346699976, 0.0...\n",
              "1      [0.16908623342662926, 0.09757413226524703, -0....\n",
              "2      [0.21797217894206228, 0.12299623105572668, 0.0...\n",
              "3      [0.07175741115385922, 0.03131215810517044, 0.0...\n",
              "4      [0.024622949971823467, 0.07720488916191945, 0....\n",
              "                             ...                        \n",
              "608    [0.54536226007737, -0.1105415812214581, -0.009...\n",
              "610    [0.4892127369919711, -0.10012123633633806, -0....\n",
              "611    [0.546481097862738, -0.12618325455039198, 0.01...\n",
              "612    [0.6077005403740513, -0.11272059821801586, 0.0...\n",
              "613    [0.60099227243804, -0.13276656037670811, 0.010...\n",
              "Name: TfIdfVectors, Length: 613, dtype: object"
            ]
          },
          "metadata": {
            "tags": []
          },
          "execution_count": 219
        }
      ]
    },
    {
      "cell_type": "code",
      "metadata": {
        "id": "9Kc3VPgFZKwq",
        "colab_type": "code",
        "colab": {
          "base_uri": "https://localhost:8080/",
          "height": 407
        },
        "outputId": "4af5b7c7-f253-47c6-c712-59bad84dd6a0"
      },
      "source": [
        "TrainData"
      ],
      "execution_count": 79,
      "outputs": [
        {
          "output_type": "execute_result",
          "data": {
            "text/html": [
              "<div>\n",
              "<style scoped>\n",
              "    .dataframe tbody tr th:only-of-type {\n",
              "        vertical-align: middle;\n",
              "    }\n",
              "\n",
              "    .dataframe tbody tr th {\n",
              "        vertical-align: top;\n",
              "    }\n",
              "\n",
              "    .dataframe thead th {\n",
              "        text-align: right;\n",
              "    }\n",
              "</style>\n",
              "<table border=\"1\" class=\"dataframe\">\n",
              "  <thead>\n",
              "    <tr style=\"text-align: right;\">\n",
              "      <th></th>\n",
              "      <th>Text</th>\n",
              "      <th>Sentiment</th>\n",
              "      <th>Processed Text</th>\n",
              "      <th>TfIdfVectors</th>\n",
              "    </tr>\n",
              "  </thead>\n",
              "  <tbody>\n",
              "    <tr>\n",
              "      <th>0</th>\n",
              "      <td>Ho acquistato questa confezione di mascherine ...</td>\n",
              "      <td>positive</td>\n",
              "      <td>ho acquist confezion mascherin 19 99 quind 40 ...</td>\n",
              "      <td>[0.27247792065239457, 0.21972266346699976, 0.0...</td>\n",
              "    </tr>\n",
              "    <tr>\n",
              "      <th>1</th>\n",
              "      <td>Attenzione, ha un ferretto nasale in plastica ...</td>\n",
              "      <td>negative</td>\n",
              "      <td>attenzion ferrett nasal plastic permett far ad...</td>\n",
              "      <td>[0.16908623342662926, 0.09757413226524703, -0....</td>\n",
              "    </tr>\n",
              "    <tr>\n",
              "      <th>2</th>\n",
              "      <td>La confezione di cartone era già aperta, appen...</td>\n",
              "      <td>negative</td>\n",
              "      <td>la confezion carton già apert appen pres lat t...</td>\n",
              "      <td>[0.21797217894206228, 0.12299623105572668, 0.0...</td>\n",
              "    </tr>\n",
              "    <tr>\n",
              "      <th>3</th>\n",
              "      <td>Mascherine vendute come \"Maschera Chirurgica 3...</td>\n",
              "      <td>negative</td>\n",
              "      <td>mascherin vend mascher chirurg 3p tip iir conf...</td>\n",
              "      <td>[0.07175741115385922, 0.03131215810517044, 0.0...</td>\n",
              "    </tr>\n",
              "    <tr>\n",
              "      <th>4</th>\n",
              "      <td>ARRIVATO APERTO PESSIMO PRODOTTO</td>\n",
              "      <td>negative</td>\n",
              "      <td>arriv apert pessim prodott</td>\n",
              "      <td>[0.024622949971823467, 0.07720488916191945, 0....</td>\n",
              "    </tr>\n",
              "    <tr>\n",
              "      <th>...</th>\n",
              "      <td>...</td>\n",
              "      <td>...</td>\n",
              "      <td>...</td>\n",
              "      <td>...</td>\n",
              "    </tr>\n",
              "    <tr>\n",
              "      <th>608</th>\n",
              "      <td>Coordinate:  06h 23m 57.109s, -52° 41′ 44.378″...</td>\n",
              "      <td>neutral</td>\n",
              "      <td>coordin 06h 23m 57 109s 52 41 44 378 canop afi...</td>\n",
              "      <td>[0.54536226007737, -0.1105415812214581, -0.009...</td>\n",
              "    </tr>\n",
              "    <tr>\n",
              "      <th>610</th>\n",
              "      <td>La Cometa Hyakutake (pronuncia giapponese: [ça...</td>\n",
              "      <td>neutral</td>\n",
              "      <td>la comet hyakutak pronunc giappones çakɯtak de...</td>\n",
              "      <td>[0.4892127369919711, -0.10012123633633806, -0....</td>\n",
              "    </tr>\n",
              "    <tr>\n",
              "      <th>611</th>\n",
              "      <td>La cometa Shoemaker-Levy 9 (formalmente design...</td>\n",
              "      <td>neutral</td>\n",
              "      <td>la comet shoemaker levy 9 formal design 1993e ...</td>\n",
              "      <td>[0.546481097862738, -0.12618325455039198, 0.01...</td>\n",
              "    </tr>\n",
              "    <tr>\n",
              "      <th>612</th>\n",
              "      <td>Coordinate:  20h 20m 00s, +40° 00′ 00″\\n\\tIl C...</td>\n",
              "      <td>neutral</td>\n",
              "      <td>coordin 20h 20m 00s 40 00 00 il compless nebul...</td>\n",
              "      <td>[0.6077005403740513, -0.11272059821801586, 0.0...</td>\n",
              "    </tr>\n",
              "    <tr>\n",
              "      <th>613</th>\n",
              "      <td>Coordinate:  22h 00m 00s, +60° 00′ 00″\\n\\tIl c...</td>\n",
              "      <td>neutral</td>\n",
              "      <td>coordin 22h 00m 00s 60 00 00 il compless nebul...</td>\n",
              "      <td>[0.60099227243804, -0.13276656037670811, 0.010...</td>\n",
              "    </tr>\n",
              "  </tbody>\n",
              "</table>\n",
              "<p>613 rows × 4 columns</p>\n",
              "</div>"
            ],
            "text/plain": [
              "                                                  Text  ...                                       TfIdfVectors\n",
              "0    Ho acquistato questa confezione di mascherine ...  ...  [0.27247792065239457, 0.21972266346699976, 0.0...\n",
              "1    Attenzione, ha un ferretto nasale in plastica ...  ...  [0.16908623342662926, 0.09757413226524703, -0....\n",
              "2    La confezione di cartone era già aperta, appen...  ...  [0.21797217894206228, 0.12299623105572668, 0.0...\n",
              "3    Mascherine vendute come \"Maschera Chirurgica 3...  ...  [0.07175741115385922, 0.03131215810517044, 0.0...\n",
              "4                     ARRIVATO APERTO PESSIMO PRODOTTO  ...  [0.024622949971823467, 0.07720488916191945, 0....\n",
              "..                                                 ...  ...                                                ...\n",
              "608  Coordinate:  06h 23m 57.109s, -52° 41′ 44.378″...  ...  [0.54536226007737, -0.1105415812214581, -0.009...\n",
              "610  La Cometa Hyakutake (pronuncia giapponese: [ça...  ...  [0.4892127369919711, -0.10012123633633806, -0....\n",
              "611  La cometa Shoemaker-Levy 9 (formalmente design...  ...  [0.546481097862738, -0.12618325455039198, 0.01...\n",
              "612  Coordinate:  20h 20m 00s, +40° 00′ 00″\\n\\tIl C...  ...  [0.6077005403740513, -0.11272059821801586, 0.0...\n",
              "613  Coordinate:  22h 00m 00s, +60° 00′ 00″\\n\\tIl c...  ...  [0.60099227243804, -0.13276656037670811, 0.010...\n",
              "\n",
              "[613 rows x 4 columns]"
            ]
          },
          "metadata": {
            "tags": []
          },
          "execution_count": 79
        }
      ]
    },
    {
      "cell_type": "code",
      "metadata": {
        "id": "UpoQtrmpZbua",
        "colab_type": "code",
        "colab": {
          "base_uri": "https://localhost:8080/",
          "height": 35
        },
        "outputId": "8f75f1b1-7378-491b-ff66-04497986d414"
      },
      "source": [
        "len(a2)"
      ],
      "execution_count": 82,
      "outputs": [
        {
          "output_type": "execute_result",
          "data": {
            "text/plain": [
              "200"
            ]
          },
          "metadata": {
            "tags": []
          },
          "execution_count": 82
        }
      ]
    },
    {
      "cell_type": "code",
      "metadata": {
        "id": "DfzNickbZM1i",
        "colab_type": "code",
        "colab": {}
      },
      "source": [
        "j = 0\n",
        "for i in l:\n",
        "  TrainData[i]= a2[j]\n",
        "  j = j+1"
      ],
      "execution_count": 84,
      "outputs": []
    },
    {
      "cell_type": "code",
      "metadata": {
        "id": "eAiqoX_LyLR4",
        "colab_type": "code",
        "colab": {}
      },
      "source": [
        "TrainData.to_csv('/content/drive/My Drive/Topic detection/TfIdfData.csv')"
      ],
      "execution_count": 86,
      "outputs": []
    },
    {
      "cell_type": "code",
      "metadata": {
        "id": "O9Y6NsEkyT41",
        "colab_type": "code",
        "colab": {
          "base_uri": "https://localhost:8080/",
          "height": 679
        },
        "outputId": "84d17e4f-6a44-4921-9957-ecc5cb52e9b9"
      },
      "source": [
        "TrainData.head()"
      ],
      "execution_count": 85,
      "outputs": [
        {
          "output_type": "execute_result",
          "data": {
            "text/html": [
              "<div>\n",
              "<style scoped>\n",
              "    .dataframe tbody tr th:only-of-type {\n",
              "        vertical-align: middle;\n",
              "    }\n",
              "\n",
              "    .dataframe tbody tr th {\n",
              "        vertical-align: top;\n",
              "    }\n",
              "\n",
              "    .dataframe thead th {\n",
              "        text-align: right;\n",
              "    }\n",
              "</style>\n",
              "<table border=\"1\" class=\"dataframe\">\n",
              "  <thead>\n",
              "    <tr style=\"text-align: right;\">\n",
              "      <th></th>\n",
              "      <th>Text</th>\n",
              "      <th>Sentiment</th>\n",
              "      <th>Processed Text</th>\n",
              "      <th>TfIdfVectors</th>\n",
              "      <th>feat1</th>\n",
              "      <th>feat2</th>\n",
              "      <th>feat3</th>\n",
              "      <th>feat4</th>\n",
              "      <th>feat5</th>\n",
              "      <th>feat6</th>\n",
              "      <th>feat7</th>\n",
              "      <th>feat8</th>\n",
              "      <th>feat9</th>\n",
              "      <th>feat10</th>\n",
              "      <th>feat11</th>\n",
              "      <th>feat12</th>\n",
              "      <th>feat13</th>\n",
              "      <th>feat14</th>\n",
              "      <th>feat15</th>\n",
              "      <th>feat16</th>\n",
              "      <th>feat17</th>\n",
              "      <th>feat18</th>\n",
              "      <th>feat19</th>\n",
              "      <th>feat20</th>\n",
              "      <th>feat21</th>\n",
              "      <th>feat22</th>\n",
              "      <th>feat23</th>\n",
              "      <th>feat24</th>\n",
              "      <th>feat25</th>\n",
              "      <th>feat26</th>\n",
              "      <th>feat27</th>\n",
              "      <th>feat28</th>\n",
              "      <th>feat29</th>\n",
              "      <th>feat30</th>\n",
              "      <th>feat31</th>\n",
              "      <th>feat32</th>\n",
              "      <th>feat33</th>\n",
              "      <th>feat34</th>\n",
              "      <th>feat35</th>\n",
              "      <th>feat36</th>\n",
              "      <th>...</th>\n",
              "      <th>feat161</th>\n",
              "      <th>feat162</th>\n",
              "      <th>feat163</th>\n",
              "      <th>feat164</th>\n",
              "      <th>feat165</th>\n",
              "      <th>feat166</th>\n",
              "      <th>feat167</th>\n",
              "      <th>feat168</th>\n",
              "      <th>feat169</th>\n",
              "      <th>feat170</th>\n",
              "      <th>feat171</th>\n",
              "      <th>feat172</th>\n",
              "      <th>feat173</th>\n",
              "      <th>feat174</th>\n",
              "      <th>feat175</th>\n",
              "      <th>feat176</th>\n",
              "      <th>feat177</th>\n",
              "      <th>feat178</th>\n",
              "      <th>feat179</th>\n",
              "      <th>feat180</th>\n",
              "      <th>feat181</th>\n",
              "      <th>feat182</th>\n",
              "      <th>feat183</th>\n",
              "      <th>feat184</th>\n",
              "      <th>feat185</th>\n",
              "      <th>feat186</th>\n",
              "      <th>feat187</th>\n",
              "      <th>feat188</th>\n",
              "      <th>feat189</th>\n",
              "      <th>feat190</th>\n",
              "      <th>feat191</th>\n",
              "      <th>feat192</th>\n",
              "      <th>feat193</th>\n",
              "      <th>feat194</th>\n",
              "      <th>feat195</th>\n",
              "      <th>feat196</th>\n",
              "      <th>feat197</th>\n",
              "      <th>feat198</th>\n",
              "      <th>feat199</th>\n",
              "      <th>feat200</th>\n",
              "    </tr>\n",
              "  </thead>\n",
              "  <tbody>\n",
              "    <tr>\n",
              "      <th>0</th>\n",
              "      <td>Ho acquistato questa confezione di mascherine ...</td>\n",
              "      <td>positive</td>\n",
              "      <td>ho acquist confezion mascherin 19 99 quind 40 ...</td>\n",
              "      <td>[0.27247792065239457, 0.21972266346699976, 0.0...</td>\n",
              "      <td>0.272478</td>\n",
              "      <td>0.219723</td>\n",
              "      <td>0.024187</td>\n",
              "      <td>-0.035276</td>\n",
              "      <td>-0.060019</td>\n",
              "      <td>0.032466</td>\n",
              "      <td>-0.140034</td>\n",
              "      <td>-0.021274</td>\n",
              "      <td>0.010797</td>\n",
              "      <td>-0.139642</td>\n",
              "      <td>-0.248782</td>\n",
              "      <td>-0.112859</td>\n",
              "      <td>0.077791</td>\n",
              "      <td>-0.032370</td>\n",
              "      <td>-0.078478</td>\n",
              "      <td>0.049554</td>\n",
              "      <td>0.066917</td>\n",
              "      <td>-0.007913</td>\n",
              "      <td>-0.012080</td>\n",
              "      <td>-0.078611</td>\n",
              "      <td>0.038777</td>\n",
              "      <td>0.035575</td>\n",
              "      <td>-0.046226</td>\n",
              "      <td>0.047796</td>\n",
              "      <td>0.095787</td>\n",
              "      <td>-0.013445</td>\n",
              "      <td>0.033574</td>\n",
              "      <td>-0.046113</td>\n",
              "      <td>0.052642</td>\n",
              "      <td>0.079219</td>\n",
              "      <td>0.009382</td>\n",
              "      <td>0.105429</td>\n",
              "      <td>0.146709</td>\n",
              "      <td>0.016257</td>\n",
              "      <td>0.265021</td>\n",
              "      <td>0.183178</td>\n",
              "      <td>...</td>\n",
              "      <td>0.000712</td>\n",
              "      <td>0.003130</td>\n",
              "      <td>0.007188</td>\n",
              "      <td>-0.002206</td>\n",
              "      <td>0.016861</td>\n",
              "      <td>0.005693</td>\n",
              "      <td>0.007154</td>\n",
              "      <td>-0.008933</td>\n",
              "      <td>-0.001005</td>\n",
              "      <td>-0.001717</td>\n",
              "      <td>-0.006622</td>\n",
              "      <td>0.010369</td>\n",
              "      <td>-0.006517</td>\n",
              "      <td>0.000171</td>\n",
              "      <td>-0.007744</td>\n",
              "      <td>-0.008937</td>\n",
              "      <td>-0.002413</td>\n",
              "      <td>-0.011081</td>\n",
              "      <td>-0.007513</td>\n",
              "      <td>0.016864</td>\n",
              "      <td>-0.013261</td>\n",
              "      <td>0.015795</td>\n",
              "      <td>-0.013149</td>\n",
              "      <td>-0.005551</td>\n",
              "      <td>0.005734</td>\n",
              "      <td>0.001783</td>\n",
              "      <td>0.001591</td>\n",
              "      <td>0.003175</td>\n",
              "      <td>-0.005366</td>\n",
              "      <td>-0.001279</td>\n",
              "      <td>0.007140</td>\n",
              "      <td>0.002043</td>\n",
              "      <td>-0.014306</td>\n",
              "      <td>-0.009748</td>\n",
              "      <td>0.001553</td>\n",
              "      <td>0.003029</td>\n",
              "      <td>0.013427</td>\n",
              "      <td>-0.001351</td>\n",
              "      <td>0.001680</td>\n",
              "      <td>0.010876</td>\n",
              "    </tr>\n",
              "    <tr>\n",
              "      <th>1</th>\n",
              "      <td>Attenzione, ha un ferretto nasale in plastica ...</td>\n",
              "      <td>negative</td>\n",
              "      <td>attenzion ferrett nasal plastic permett far ad...</td>\n",
              "      <td>[0.16908623342662926, 0.09757413226524703, -0....</td>\n",
              "      <td>0.169086</td>\n",
              "      <td>0.097574</td>\n",
              "      <td>-0.005238</td>\n",
              "      <td>-0.042576</td>\n",
              "      <td>-0.009253</td>\n",
              "      <td>0.007023</td>\n",
              "      <td>-0.082983</td>\n",
              "      <td>-0.028276</td>\n",
              "      <td>0.077973</td>\n",
              "      <td>-0.068384</td>\n",
              "      <td>-0.041844</td>\n",
              "      <td>-0.048824</td>\n",
              "      <td>0.046407</td>\n",
              "      <td>-0.028404</td>\n",
              "      <td>-0.075385</td>\n",
              "      <td>0.050105</td>\n",
              "      <td>0.039076</td>\n",
              "      <td>-0.017067</td>\n",
              "      <td>0.119496</td>\n",
              "      <td>-0.014493</td>\n",
              "      <td>0.042645</td>\n",
              "      <td>0.027865</td>\n",
              "      <td>-0.005659</td>\n",
              "      <td>0.073627</td>\n",
              "      <td>0.059247</td>\n",
              "      <td>-0.073071</td>\n",
              "      <td>0.085659</td>\n",
              "      <td>-0.066784</td>\n",
              "      <td>0.108375</td>\n",
              "      <td>0.043017</td>\n",
              "      <td>-0.071770</td>\n",
              "      <td>0.073374</td>\n",
              "      <td>0.198330</td>\n",
              "      <td>-0.035712</td>\n",
              "      <td>0.394452</td>\n",
              "      <td>0.091456</td>\n",
              "      <td>...</td>\n",
              "      <td>0.008430</td>\n",
              "      <td>-0.002051</td>\n",
              "      <td>0.005653</td>\n",
              "      <td>-0.001060</td>\n",
              "      <td>-0.001239</td>\n",
              "      <td>-0.003488</td>\n",
              "      <td>-0.000415</td>\n",
              "      <td>-0.009582</td>\n",
              "      <td>0.009058</td>\n",
              "      <td>-0.001457</td>\n",
              "      <td>-0.003282</td>\n",
              "      <td>-0.006317</td>\n",
              "      <td>0.003986</td>\n",
              "      <td>-0.007342</td>\n",
              "      <td>-0.003682</td>\n",
              "      <td>-0.001634</td>\n",
              "      <td>0.004405</td>\n",
              "      <td>-0.001732</td>\n",
              "      <td>0.009430</td>\n",
              "      <td>0.000913</td>\n",
              "      <td>0.002386</td>\n",
              "      <td>-0.002332</td>\n",
              "      <td>-0.004043</td>\n",
              "      <td>0.001671</td>\n",
              "      <td>0.004705</td>\n",
              "      <td>0.012583</td>\n",
              "      <td>-0.000720</td>\n",
              "      <td>0.003781</td>\n",
              "      <td>-0.000824</td>\n",
              "      <td>-0.007811</td>\n",
              "      <td>0.002804</td>\n",
              "      <td>0.002463</td>\n",
              "      <td>-0.001740</td>\n",
              "      <td>0.002401</td>\n",
              "      <td>-0.001963</td>\n",
              "      <td>0.001424</td>\n",
              "      <td>-0.007116</td>\n",
              "      <td>0.000450</td>\n",
              "      <td>0.004899</td>\n",
              "      <td>0.002939</td>\n",
              "    </tr>\n",
              "    <tr>\n",
              "      <th>2</th>\n",
              "      <td>La confezione di cartone era già aperta, appen...</td>\n",
              "      <td>negative</td>\n",
              "      <td>la confezion carton già apert appen pres lat t...</td>\n",
              "      <td>[0.21797217894206228, 0.12299623105572668, 0.0...</td>\n",
              "      <td>0.217972</td>\n",
              "      <td>0.122996</td>\n",
              "      <td>0.065318</td>\n",
              "      <td>-0.045467</td>\n",
              "      <td>0.058404</td>\n",
              "      <td>0.044320</td>\n",
              "      <td>0.009989</td>\n",
              "      <td>0.067978</td>\n",
              "      <td>0.051968</td>\n",
              "      <td>-0.041222</td>\n",
              "      <td>-0.274352</td>\n",
              "      <td>-0.081080</td>\n",
              "      <td>0.066843</td>\n",
              "      <td>-0.117769</td>\n",
              "      <td>-0.090430</td>\n",
              "      <td>0.109259</td>\n",
              "      <td>0.094669</td>\n",
              "      <td>-0.007535</td>\n",
              "      <td>-0.113081</td>\n",
              "      <td>-0.007895</td>\n",
              "      <td>0.055765</td>\n",
              "      <td>-0.036258</td>\n",
              "      <td>-0.049051</td>\n",
              "      <td>-0.080781</td>\n",
              "      <td>0.004164</td>\n",
              "      <td>0.025648</td>\n",
              "      <td>-0.068258</td>\n",
              "      <td>0.020109</td>\n",
              "      <td>-0.114043</td>\n",
              "      <td>-0.034672</td>\n",
              "      <td>-0.062693</td>\n",
              "      <td>-0.048389</td>\n",
              "      <td>-0.086449</td>\n",
              "      <td>0.175677</td>\n",
              "      <td>-0.002588</td>\n",
              "      <td>-0.203799</td>\n",
              "      <td>...</td>\n",
              "      <td>-0.001298</td>\n",
              "      <td>0.008515</td>\n",
              "      <td>-0.013129</td>\n",
              "      <td>-0.005722</td>\n",
              "      <td>-0.000380</td>\n",
              "      <td>0.002795</td>\n",
              "      <td>0.006812</td>\n",
              "      <td>0.010063</td>\n",
              "      <td>-0.004645</td>\n",
              "      <td>0.002088</td>\n",
              "      <td>0.006688</td>\n",
              "      <td>0.011200</td>\n",
              "      <td>0.006949</td>\n",
              "      <td>0.002952</td>\n",
              "      <td>0.002058</td>\n",
              "      <td>-0.003507</td>\n",
              "      <td>0.005913</td>\n",
              "      <td>0.004957</td>\n",
              "      <td>0.003159</td>\n",
              "      <td>0.003091</td>\n",
              "      <td>-0.003575</td>\n",
              "      <td>-0.002152</td>\n",
              "      <td>-0.002908</td>\n",
              "      <td>0.003800</td>\n",
              "      <td>-0.002425</td>\n",
              "      <td>0.000170</td>\n",
              "      <td>-0.003258</td>\n",
              "      <td>0.003702</td>\n",
              "      <td>0.006239</td>\n",
              "      <td>-0.000163</td>\n",
              "      <td>0.004509</td>\n",
              "      <td>0.000061</td>\n",
              "      <td>0.003800</td>\n",
              "      <td>-0.000824</td>\n",
              "      <td>0.002099</td>\n",
              "      <td>-0.000275</td>\n",
              "      <td>-0.001592</td>\n",
              "      <td>0.004395</td>\n",
              "      <td>0.002083</td>\n",
              "      <td>0.001672</td>\n",
              "    </tr>\n",
              "    <tr>\n",
              "      <th>3</th>\n",
              "      <td>Mascherine vendute come \"Maschera Chirurgica 3...</td>\n",
              "      <td>negative</td>\n",
              "      <td>mascherin vend mascher chirurg 3p tip iir conf...</td>\n",
              "      <td>[0.07175741115385922, 0.03131215810517044, 0.0...</td>\n",
              "      <td>0.071757</td>\n",
              "      <td>0.031312</td>\n",
              "      <td>0.035936</td>\n",
              "      <td>-0.057036</td>\n",
              "      <td>0.000778</td>\n",
              "      <td>-0.014077</td>\n",
              "      <td>-0.084098</td>\n",
              "      <td>0.079488</td>\n",
              "      <td>0.059257</td>\n",
              "      <td>-0.149626</td>\n",
              "      <td>-0.212587</td>\n",
              "      <td>-0.042393</td>\n",
              "      <td>0.069109</td>\n",
              "      <td>-0.001030</td>\n",
              "      <td>-0.024891</td>\n",
              "      <td>0.020581</td>\n",
              "      <td>0.087634</td>\n",
              "      <td>0.046171</td>\n",
              "      <td>-0.027870</td>\n",
              "      <td>-0.050561</td>\n",
              "      <td>-0.033546</td>\n",
              "      <td>0.017294</td>\n",
              "      <td>0.057090</td>\n",
              "      <td>0.016539</td>\n",
              "      <td>0.036593</td>\n",
              "      <td>0.041356</td>\n",
              "      <td>-0.170997</td>\n",
              "      <td>0.033856</td>\n",
              "      <td>-0.117031</td>\n",
              "      <td>-0.043175</td>\n",
              "      <td>0.032733</td>\n",
              "      <td>-0.043034</td>\n",
              "      <td>-0.032720</td>\n",
              "      <td>-0.122345</td>\n",
              "      <td>-0.123200</td>\n",
              "      <td>-0.045622</td>\n",
              "      <td>...</td>\n",
              "      <td>-0.003952</td>\n",
              "      <td>-0.002479</td>\n",
              "      <td>0.001994</td>\n",
              "      <td>0.000033</td>\n",
              "      <td>0.000913</td>\n",
              "      <td>0.001603</td>\n",
              "      <td>0.003920</td>\n",
              "      <td>0.002515</td>\n",
              "      <td>-0.005151</td>\n",
              "      <td>-0.003730</td>\n",
              "      <td>-0.000670</td>\n",
              "      <td>0.001214</td>\n",
              "      <td>-0.000396</td>\n",
              "      <td>-0.001674</td>\n",
              "      <td>0.005860</td>\n",
              "      <td>0.002220</td>\n",
              "      <td>0.001087</td>\n",
              "      <td>0.002812</td>\n",
              "      <td>-0.013707</td>\n",
              "      <td>0.005236</td>\n",
              "      <td>0.000314</td>\n",
              "      <td>-0.007154</td>\n",
              "      <td>-0.001894</td>\n",
              "      <td>-0.000474</td>\n",
              "      <td>0.004815</td>\n",
              "      <td>-0.005157</td>\n",
              "      <td>-0.000861</td>\n",
              "      <td>0.002101</td>\n",
              "      <td>0.003857</td>\n",
              "      <td>0.004209</td>\n",
              "      <td>0.002201</td>\n",
              "      <td>-0.000673</td>\n",
              "      <td>-0.002494</td>\n",
              "      <td>0.000732</td>\n",
              "      <td>0.003137</td>\n",
              "      <td>-0.006297</td>\n",
              "      <td>-0.001338</td>\n",
              "      <td>0.000829</td>\n",
              "      <td>0.000068</td>\n",
              "      <td>0.002367</td>\n",
              "    </tr>\n",
              "    <tr>\n",
              "      <th>4</th>\n",
              "      <td>ARRIVATO APERTO PESSIMO PRODOTTO</td>\n",
              "      <td>negative</td>\n",
              "      <td>arriv apert pessim prodott</td>\n",
              "      <td>[0.024622949971823467, 0.07720488916191945, 0....</td>\n",
              "      <td>0.024623</td>\n",
              "      <td>0.077205</td>\n",
              "      <td>0.104754</td>\n",
              "      <td>-0.133077</td>\n",
              "      <td>0.261053</td>\n",
              "      <td>-0.116749</td>\n",
              "      <td>0.042607</td>\n",
              "      <td>-0.011968</td>\n",
              "      <td>-0.134939</td>\n",
              "      <td>0.107018</td>\n",
              "      <td>-0.065399</td>\n",
              "      <td>0.115100</td>\n",
              "      <td>0.007286</td>\n",
              "      <td>-0.036770</td>\n",
              "      <td>-0.028190</td>\n",
              "      <td>0.009106</td>\n",
              "      <td>0.038686</td>\n",
              "      <td>0.032256</td>\n",
              "      <td>0.056017</td>\n",
              "      <td>-0.048003</td>\n",
              "      <td>-0.017674</td>\n",
              "      <td>0.033227</td>\n",
              "      <td>-0.025836</td>\n",
              "      <td>-0.009794</td>\n",
              "      <td>0.107878</td>\n",
              "      <td>-0.045588</td>\n",
              "      <td>-0.018997</td>\n",
              "      <td>-0.053013</td>\n",
              "      <td>-0.125225</td>\n",
              "      <td>-0.050173</td>\n",
              "      <td>0.085992</td>\n",
              "      <td>-0.243862</td>\n",
              "      <td>0.090571</td>\n",
              "      <td>0.330075</td>\n",
              "      <td>0.078079</td>\n",
              "      <td>-0.182693</td>\n",
              "      <td>...</td>\n",
              "      <td>-0.001026</td>\n",
              "      <td>-0.008607</td>\n",
              "      <td>-0.004902</td>\n",
              "      <td>0.005900</td>\n",
              "      <td>0.008167</td>\n",
              "      <td>-0.013703</td>\n",
              "      <td>-0.000115</td>\n",
              "      <td>0.002053</td>\n",
              "      <td>0.012658</td>\n",
              "      <td>0.004097</td>\n",
              "      <td>0.018366</td>\n",
              "      <td>-0.002278</td>\n",
              "      <td>-0.009842</td>\n",
              "      <td>0.003966</td>\n",
              "      <td>-0.007308</td>\n",
              "      <td>0.006488</td>\n",
              "      <td>-0.021583</td>\n",
              "      <td>0.003343</td>\n",
              "      <td>0.003939</td>\n",
              "      <td>-0.007270</td>\n",
              "      <td>0.003429</td>\n",
              "      <td>-0.004072</td>\n",
              "      <td>0.006470</td>\n",
              "      <td>0.007423</td>\n",
              "      <td>-0.008437</td>\n",
              "      <td>0.004770</td>\n",
              "      <td>0.007399</td>\n",
              "      <td>-0.006165</td>\n",
              "      <td>-0.004514</td>\n",
              "      <td>0.005003</td>\n",
              "      <td>-0.002977</td>\n",
              "      <td>-0.004988</td>\n",
              "      <td>0.001843</td>\n",
              "      <td>-0.003085</td>\n",
              "      <td>-0.005825</td>\n",
              "      <td>0.000523</td>\n",
              "      <td>0.005671</td>\n",
              "      <td>-0.007125</td>\n",
              "      <td>-0.004923</td>\n",
              "      <td>0.000338</td>\n",
              "    </tr>\n",
              "  </tbody>\n",
              "</table>\n",
              "<p>5 rows × 204 columns</p>\n",
              "</div>"
            ],
            "text/plain": [
              "                                                Text  ...   feat200\n",
              "0  Ho acquistato questa confezione di mascherine ...  ...  0.010876\n",
              "1  Attenzione, ha un ferretto nasale in plastica ...  ...  0.002939\n",
              "2  La confezione di cartone era già aperta, appen...  ...  0.001672\n",
              "3  Mascherine vendute come \"Maschera Chirurgica 3...  ...  0.002367\n",
              "4                   ARRIVATO APERTO PESSIMO PRODOTTO  ...  0.000338\n",
              "\n",
              "[5 rows x 204 columns]"
            ]
          },
          "metadata": {
            "tags": []
          },
          "execution_count": 85
        }
      ]
    },
    {
      "cell_type": "code",
      "metadata": {
        "id": "anU8cJk03TGO",
        "colab_type": "code",
        "colab": {
          "base_uri": "https://localhost:8080/",
          "height": 34
        },
        "outputId": "f18b7ca5-0f34-4b5a-a557-809fbc4cbb4b"
      },
      "source": [
        "dd = [1]*613\n",
        "dd[0]"
      ],
      "execution_count": null,
      "outputs": [
        {
          "output_type": "execute_result",
          "data": {
            "text/plain": [
              "1"
            ]
          },
          "metadata": {
            "tags": []
          },
          "execution_count": 228
        }
      ]
    },
    {
      "cell_type": "code",
      "metadata": {
        "id": "_7zG5Hzw31W1",
        "colab_type": "code",
        "colab": {
          "base_uri": "https://localhost:8080/",
          "height": 163
        },
        "outputId": "d6caff9f-b2ed-4777-a284-ae431f5952ed"
      },
      "source": [
        "[TrainData['TfIdfVectors']].shape()"
      ],
      "execution_count": null,
      "outputs": [
        {
          "output_type": "error",
          "ename": "AttributeError",
          "evalue": "ignored",
          "traceback": [
            "\u001b[0;31m---------------------------------------------------------------------------\u001b[0m",
            "\u001b[0;31mAttributeError\u001b[0m                            Traceback (most recent call last)",
            "\u001b[0;32m<ipython-input-235-6179568f5f14>\u001b[0m in \u001b[0;36m<module>\u001b[0;34m()\u001b[0m\n\u001b[0;32m----> 1\u001b[0;31m \u001b[0;34m[\u001b[0m\u001b[0mTrainData\u001b[0m\u001b[0;34m[\u001b[0m\u001b[0;34m'TfIdfVectors'\u001b[0m\u001b[0;34m]\u001b[0m\u001b[0;34m]\u001b[0m\u001b[0;34m.\u001b[0m\u001b[0mshape\u001b[0m\u001b[0;34m(\u001b[0m\u001b[0;34m)\u001b[0m\u001b[0;34m\u001b[0m\u001b[0;34m\u001b[0m\u001b[0m\n\u001b[0m",
            "\u001b[0;31mAttributeError\u001b[0m: 'list' object has no attribute 'shape'"
          ]
        }
      ]
    },
    {
      "cell_type": "code",
      "metadata": {
        "id": "pn6BtqdV30UY",
        "colab_type": "code",
        "colab": {
          "base_uri": "https://localhost:8080/",
          "height": 171
        },
        "outputId": "6116119e-8d2e-4eee-9210-b365e83b4b69"
      },
      "source": [
        "TrainData"
      ],
      "execution_count": 1,
      "outputs": [
        {
          "output_type": "error",
          "ename": "NameError",
          "evalue": "ignored",
          "traceback": [
            "\u001b[0;31m---------------------------------------------------------------------------\u001b[0m",
            "\u001b[0;31mNameError\u001b[0m                                 Traceback (most recent call last)",
            "\u001b[0;32m<ipython-input-1-56caa8a446c5>\u001b[0m in \u001b[0;36m<module>\u001b[0;34m()\u001b[0m\n\u001b[0;32m----> 1\u001b[0;31m \u001b[0mTrainData\u001b[0m\u001b[0;34m\u001b[0m\u001b[0;34m\u001b[0m\u001b[0m\n\u001b[0m",
            "\u001b[0;31mNameError\u001b[0m: name 'TrainData' is not defined"
          ]
        }
      ]
    },
    {
      "cell_type": "code",
      "metadata": {
        "id": "LJ_xa7LZ8sh7",
        "colab_type": "code",
        "colab": {
          "base_uri": "https://localhost:8080/",
          "height": 679
        },
        "outputId": "9e158a43-24f9-4f0e-9398-5d10c6acfbb0"
      },
      "source": [
        "import pandas as pd\n",
        "TrainData = pd.read_csv('/content/drive/My Drive/Topic detection/TfIdfData.csv', index_col = 0 )\n",
        "TrainData.head()"
      ],
      "execution_count": 87,
      "outputs": [
        {
          "output_type": "execute_result",
          "data": {
            "text/html": [
              "<div>\n",
              "<style scoped>\n",
              "    .dataframe tbody tr th:only-of-type {\n",
              "        vertical-align: middle;\n",
              "    }\n",
              "\n",
              "    .dataframe tbody tr th {\n",
              "        vertical-align: top;\n",
              "    }\n",
              "\n",
              "    .dataframe thead th {\n",
              "        text-align: right;\n",
              "    }\n",
              "</style>\n",
              "<table border=\"1\" class=\"dataframe\">\n",
              "  <thead>\n",
              "    <tr style=\"text-align: right;\">\n",
              "      <th></th>\n",
              "      <th>Text</th>\n",
              "      <th>Sentiment</th>\n",
              "      <th>Processed Text</th>\n",
              "      <th>TfIdfVectors</th>\n",
              "      <th>feat1</th>\n",
              "      <th>feat2</th>\n",
              "      <th>feat3</th>\n",
              "      <th>feat4</th>\n",
              "      <th>feat5</th>\n",
              "      <th>feat6</th>\n",
              "      <th>feat7</th>\n",
              "      <th>feat8</th>\n",
              "      <th>feat9</th>\n",
              "      <th>feat10</th>\n",
              "      <th>feat11</th>\n",
              "      <th>feat12</th>\n",
              "      <th>feat13</th>\n",
              "      <th>feat14</th>\n",
              "      <th>feat15</th>\n",
              "      <th>feat16</th>\n",
              "      <th>feat17</th>\n",
              "      <th>feat18</th>\n",
              "      <th>feat19</th>\n",
              "      <th>feat20</th>\n",
              "      <th>feat21</th>\n",
              "      <th>feat22</th>\n",
              "      <th>feat23</th>\n",
              "      <th>feat24</th>\n",
              "      <th>feat25</th>\n",
              "      <th>feat26</th>\n",
              "      <th>feat27</th>\n",
              "      <th>feat28</th>\n",
              "      <th>feat29</th>\n",
              "      <th>feat30</th>\n",
              "      <th>feat31</th>\n",
              "      <th>feat32</th>\n",
              "      <th>feat33</th>\n",
              "      <th>feat34</th>\n",
              "      <th>feat35</th>\n",
              "      <th>feat36</th>\n",
              "      <th>...</th>\n",
              "      <th>feat161</th>\n",
              "      <th>feat162</th>\n",
              "      <th>feat163</th>\n",
              "      <th>feat164</th>\n",
              "      <th>feat165</th>\n",
              "      <th>feat166</th>\n",
              "      <th>feat167</th>\n",
              "      <th>feat168</th>\n",
              "      <th>feat169</th>\n",
              "      <th>feat170</th>\n",
              "      <th>feat171</th>\n",
              "      <th>feat172</th>\n",
              "      <th>feat173</th>\n",
              "      <th>feat174</th>\n",
              "      <th>feat175</th>\n",
              "      <th>feat176</th>\n",
              "      <th>feat177</th>\n",
              "      <th>feat178</th>\n",
              "      <th>feat179</th>\n",
              "      <th>feat180</th>\n",
              "      <th>feat181</th>\n",
              "      <th>feat182</th>\n",
              "      <th>feat183</th>\n",
              "      <th>feat184</th>\n",
              "      <th>feat185</th>\n",
              "      <th>feat186</th>\n",
              "      <th>feat187</th>\n",
              "      <th>feat188</th>\n",
              "      <th>feat189</th>\n",
              "      <th>feat190</th>\n",
              "      <th>feat191</th>\n",
              "      <th>feat192</th>\n",
              "      <th>feat193</th>\n",
              "      <th>feat194</th>\n",
              "      <th>feat195</th>\n",
              "      <th>feat196</th>\n",
              "      <th>feat197</th>\n",
              "      <th>feat198</th>\n",
              "      <th>feat199</th>\n",
              "      <th>feat200</th>\n",
              "    </tr>\n",
              "  </thead>\n",
              "  <tbody>\n",
              "    <tr>\n",
              "      <th>0</th>\n",
              "      <td>Ho acquistato questa confezione di mascherine ...</td>\n",
              "      <td>positive</td>\n",
              "      <td>ho acquist confezion mascherin 19 99 quind 40 ...</td>\n",
              "      <td>[0.27247792065239457, 0.21972266346699976, 0.0...</td>\n",
              "      <td>0.272478</td>\n",
              "      <td>0.219723</td>\n",
              "      <td>0.024187</td>\n",
              "      <td>-0.035276</td>\n",
              "      <td>-0.060019</td>\n",
              "      <td>0.032466</td>\n",
              "      <td>-0.140034</td>\n",
              "      <td>-0.021274</td>\n",
              "      <td>0.010797</td>\n",
              "      <td>-0.139642</td>\n",
              "      <td>-0.248782</td>\n",
              "      <td>-0.112859</td>\n",
              "      <td>0.077791</td>\n",
              "      <td>-0.032370</td>\n",
              "      <td>-0.078478</td>\n",
              "      <td>0.049554</td>\n",
              "      <td>0.066917</td>\n",
              "      <td>-0.007913</td>\n",
              "      <td>-0.012080</td>\n",
              "      <td>-0.078611</td>\n",
              "      <td>0.038777</td>\n",
              "      <td>0.035575</td>\n",
              "      <td>-0.046226</td>\n",
              "      <td>0.047796</td>\n",
              "      <td>0.095787</td>\n",
              "      <td>-0.013445</td>\n",
              "      <td>0.033574</td>\n",
              "      <td>-0.046113</td>\n",
              "      <td>0.052642</td>\n",
              "      <td>0.079219</td>\n",
              "      <td>0.009382</td>\n",
              "      <td>0.105429</td>\n",
              "      <td>0.146709</td>\n",
              "      <td>0.016257</td>\n",
              "      <td>0.265021</td>\n",
              "      <td>0.183178</td>\n",
              "      <td>...</td>\n",
              "      <td>0.000712</td>\n",
              "      <td>0.003130</td>\n",
              "      <td>0.007188</td>\n",
              "      <td>-0.002206</td>\n",
              "      <td>0.016861</td>\n",
              "      <td>0.005693</td>\n",
              "      <td>0.007154</td>\n",
              "      <td>-0.008933</td>\n",
              "      <td>-0.001005</td>\n",
              "      <td>-0.001717</td>\n",
              "      <td>-0.006622</td>\n",
              "      <td>0.010369</td>\n",
              "      <td>-0.006517</td>\n",
              "      <td>0.000171</td>\n",
              "      <td>-0.007744</td>\n",
              "      <td>-0.008937</td>\n",
              "      <td>-0.002413</td>\n",
              "      <td>-0.011081</td>\n",
              "      <td>-0.007513</td>\n",
              "      <td>0.016864</td>\n",
              "      <td>-0.013261</td>\n",
              "      <td>0.015795</td>\n",
              "      <td>-0.013149</td>\n",
              "      <td>-0.005551</td>\n",
              "      <td>0.005734</td>\n",
              "      <td>0.001783</td>\n",
              "      <td>0.001591</td>\n",
              "      <td>0.003175</td>\n",
              "      <td>-0.005366</td>\n",
              "      <td>-0.001279</td>\n",
              "      <td>0.007140</td>\n",
              "      <td>0.002043</td>\n",
              "      <td>-0.014306</td>\n",
              "      <td>-0.009748</td>\n",
              "      <td>0.001553</td>\n",
              "      <td>0.003029</td>\n",
              "      <td>0.013427</td>\n",
              "      <td>-0.001351</td>\n",
              "      <td>0.001680</td>\n",
              "      <td>0.010876</td>\n",
              "    </tr>\n",
              "    <tr>\n",
              "      <th>1</th>\n",
              "      <td>Attenzione, ha un ferretto nasale in plastica ...</td>\n",
              "      <td>negative</td>\n",
              "      <td>attenzion ferrett nasal plastic permett far ad...</td>\n",
              "      <td>[0.16908623342662926, 0.09757413226524703, -0....</td>\n",
              "      <td>0.169086</td>\n",
              "      <td>0.097574</td>\n",
              "      <td>-0.005238</td>\n",
              "      <td>-0.042576</td>\n",
              "      <td>-0.009253</td>\n",
              "      <td>0.007023</td>\n",
              "      <td>-0.082983</td>\n",
              "      <td>-0.028276</td>\n",
              "      <td>0.077973</td>\n",
              "      <td>-0.068384</td>\n",
              "      <td>-0.041844</td>\n",
              "      <td>-0.048824</td>\n",
              "      <td>0.046407</td>\n",
              "      <td>-0.028404</td>\n",
              "      <td>-0.075385</td>\n",
              "      <td>0.050105</td>\n",
              "      <td>0.039076</td>\n",
              "      <td>-0.017067</td>\n",
              "      <td>0.119496</td>\n",
              "      <td>-0.014493</td>\n",
              "      <td>0.042645</td>\n",
              "      <td>0.027865</td>\n",
              "      <td>-0.005659</td>\n",
              "      <td>0.073627</td>\n",
              "      <td>0.059247</td>\n",
              "      <td>-0.073071</td>\n",
              "      <td>0.085659</td>\n",
              "      <td>-0.066784</td>\n",
              "      <td>0.108375</td>\n",
              "      <td>0.043017</td>\n",
              "      <td>-0.071770</td>\n",
              "      <td>0.073374</td>\n",
              "      <td>0.198330</td>\n",
              "      <td>-0.035712</td>\n",
              "      <td>0.394452</td>\n",
              "      <td>0.091456</td>\n",
              "      <td>...</td>\n",
              "      <td>0.008430</td>\n",
              "      <td>-0.002051</td>\n",
              "      <td>0.005653</td>\n",
              "      <td>-0.001060</td>\n",
              "      <td>-0.001239</td>\n",
              "      <td>-0.003488</td>\n",
              "      <td>-0.000415</td>\n",
              "      <td>-0.009582</td>\n",
              "      <td>0.009058</td>\n",
              "      <td>-0.001457</td>\n",
              "      <td>-0.003282</td>\n",
              "      <td>-0.006317</td>\n",
              "      <td>0.003986</td>\n",
              "      <td>-0.007342</td>\n",
              "      <td>-0.003682</td>\n",
              "      <td>-0.001634</td>\n",
              "      <td>0.004405</td>\n",
              "      <td>-0.001732</td>\n",
              "      <td>0.009430</td>\n",
              "      <td>0.000913</td>\n",
              "      <td>0.002386</td>\n",
              "      <td>-0.002332</td>\n",
              "      <td>-0.004043</td>\n",
              "      <td>0.001671</td>\n",
              "      <td>0.004705</td>\n",
              "      <td>0.012583</td>\n",
              "      <td>-0.000720</td>\n",
              "      <td>0.003781</td>\n",
              "      <td>-0.000824</td>\n",
              "      <td>-0.007811</td>\n",
              "      <td>0.002804</td>\n",
              "      <td>0.002463</td>\n",
              "      <td>-0.001740</td>\n",
              "      <td>0.002401</td>\n",
              "      <td>-0.001963</td>\n",
              "      <td>0.001424</td>\n",
              "      <td>-0.007116</td>\n",
              "      <td>0.000450</td>\n",
              "      <td>0.004899</td>\n",
              "      <td>0.002939</td>\n",
              "    </tr>\n",
              "    <tr>\n",
              "      <th>2</th>\n",
              "      <td>La confezione di cartone era già aperta, appen...</td>\n",
              "      <td>negative</td>\n",
              "      <td>la confezion carton già apert appen pres lat t...</td>\n",
              "      <td>[0.21797217894206228, 0.12299623105572668, 0.0...</td>\n",
              "      <td>0.217972</td>\n",
              "      <td>0.122996</td>\n",
              "      <td>0.065318</td>\n",
              "      <td>-0.045467</td>\n",
              "      <td>0.058404</td>\n",
              "      <td>0.044320</td>\n",
              "      <td>0.009989</td>\n",
              "      <td>0.067978</td>\n",
              "      <td>0.051968</td>\n",
              "      <td>-0.041222</td>\n",
              "      <td>-0.274352</td>\n",
              "      <td>-0.081080</td>\n",
              "      <td>0.066843</td>\n",
              "      <td>-0.117769</td>\n",
              "      <td>-0.090430</td>\n",
              "      <td>0.109259</td>\n",
              "      <td>0.094669</td>\n",
              "      <td>-0.007535</td>\n",
              "      <td>-0.113081</td>\n",
              "      <td>-0.007895</td>\n",
              "      <td>0.055765</td>\n",
              "      <td>-0.036258</td>\n",
              "      <td>-0.049051</td>\n",
              "      <td>-0.080781</td>\n",
              "      <td>0.004164</td>\n",
              "      <td>0.025648</td>\n",
              "      <td>-0.068258</td>\n",
              "      <td>0.020109</td>\n",
              "      <td>-0.114043</td>\n",
              "      <td>-0.034672</td>\n",
              "      <td>-0.062693</td>\n",
              "      <td>-0.048389</td>\n",
              "      <td>-0.086449</td>\n",
              "      <td>0.175677</td>\n",
              "      <td>-0.002588</td>\n",
              "      <td>-0.203799</td>\n",
              "      <td>...</td>\n",
              "      <td>-0.001298</td>\n",
              "      <td>0.008515</td>\n",
              "      <td>-0.013129</td>\n",
              "      <td>-0.005722</td>\n",
              "      <td>-0.000380</td>\n",
              "      <td>0.002795</td>\n",
              "      <td>0.006812</td>\n",
              "      <td>0.010063</td>\n",
              "      <td>-0.004645</td>\n",
              "      <td>0.002088</td>\n",
              "      <td>0.006688</td>\n",
              "      <td>0.011200</td>\n",
              "      <td>0.006949</td>\n",
              "      <td>0.002952</td>\n",
              "      <td>0.002058</td>\n",
              "      <td>-0.003507</td>\n",
              "      <td>0.005913</td>\n",
              "      <td>0.004957</td>\n",
              "      <td>0.003159</td>\n",
              "      <td>0.003091</td>\n",
              "      <td>-0.003575</td>\n",
              "      <td>-0.002152</td>\n",
              "      <td>-0.002908</td>\n",
              "      <td>0.003800</td>\n",
              "      <td>-0.002425</td>\n",
              "      <td>0.000170</td>\n",
              "      <td>-0.003258</td>\n",
              "      <td>0.003702</td>\n",
              "      <td>0.006239</td>\n",
              "      <td>-0.000163</td>\n",
              "      <td>0.004509</td>\n",
              "      <td>0.000061</td>\n",
              "      <td>0.003800</td>\n",
              "      <td>-0.000824</td>\n",
              "      <td>0.002099</td>\n",
              "      <td>-0.000275</td>\n",
              "      <td>-0.001592</td>\n",
              "      <td>0.004395</td>\n",
              "      <td>0.002083</td>\n",
              "      <td>0.001672</td>\n",
              "    </tr>\n",
              "    <tr>\n",
              "      <th>3</th>\n",
              "      <td>Mascherine vendute come \"Maschera Chirurgica 3...</td>\n",
              "      <td>negative</td>\n",
              "      <td>mascherin vend mascher chirurg 3p tip iir conf...</td>\n",
              "      <td>[0.07175741115385922, 0.03131215810517044, 0.0...</td>\n",
              "      <td>0.071757</td>\n",
              "      <td>0.031312</td>\n",
              "      <td>0.035936</td>\n",
              "      <td>-0.057036</td>\n",
              "      <td>0.000778</td>\n",
              "      <td>-0.014077</td>\n",
              "      <td>-0.084098</td>\n",
              "      <td>0.079488</td>\n",
              "      <td>0.059257</td>\n",
              "      <td>-0.149626</td>\n",
              "      <td>-0.212587</td>\n",
              "      <td>-0.042393</td>\n",
              "      <td>0.069109</td>\n",
              "      <td>-0.001030</td>\n",
              "      <td>-0.024891</td>\n",
              "      <td>0.020581</td>\n",
              "      <td>0.087634</td>\n",
              "      <td>0.046171</td>\n",
              "      <td>-0.027870</td>\n",
              "      <td>-0.050561</td>\n",
              "      <td>-0.033546</td>\n",
              "      <td>0.017294</td>\n",
              "      <td>0.057090</td>\n",
              "      <td>0.016539</td>\n",
              "      <td>0.036593</td>\n",
              "      <td>0.041356</td>\n",
              "      <td>-0.170997</td>\n",
              "      <td>0.033856</td>\n",
              "      <td>-0.117031</td>\n",
              "      <td>-0.043175</td>\n",
              "      <td>0.032733</td>\n",
              "      <td>-0.043034</td>\n",
              "      <td>-0.032720</td>\n",
              "      <td>-0.122345</td>\n",
              "      <td>-0.123200</td>\n",
              "      <td>-0.045622</td>\n",
              "      <td>...</td>\n",
              "      <td>-0.003952</td>\n",
              "      <td>-0.002479</td>\n",
              "      <td>0.001994</td>\n",
              "      <td>0.000033</td>\n",
              "      <td>0.000913</td>\n",
              "      <td>0.001603</td>\n",
              "      <td>0.003920</td>\n",
              "      <td>0.002515</td>\n",
              "      <td>-0.005151</td>\n",
              "      <td>-0.003730</td>\n",
              "      <td>-0.000670</td>\n",
              "      <td>0.001214</td>\n",
              "      <td>-0.000396</td>\n",
              "      <td>-0.001674</td>\n",
              "      <td>0.005860</td>\n",
              "      <td>0.002220</td>\n",
              "      <td>0.001087</td>\n",
              "      <td>0.002812</td>\n",
              "      <td>-0.013707</td>\n",
              "      <td>0.005236</td>\n",
              "      <td>0.000314</td>\n",
              "      <td>-0.007154</td>\n",
              "      <td>-0.001894</td>\n",
              "      <td>-0.000474</td>\n",
              "      <td>0.004815</td>\n",
              "      <td>-0.005157</td>\n",
              "      <td>-0.000861</td>\n",
              "      <td>0.002101</td>\n",
              "      <td>0.003857</td>\n",
              "      <td>0.004209</td>\n",
              "      <td>0.002201</td>\n",
              "      <td>-0.000673</td>\n",
              "      <td>-0.002494</td>\n",
              "      <td>0.000732</td>\n",
              "      <td>0.003137</td>\n",
              "      <td>-0.006297</td>\n",
              "      <td>-0.001338</td>\n",
              "      <td>0.000829</td>\n",
              "      <td>0.000068</td>\n",
              "      <td>0.002367</td>\n",
              "    </tr>\n",
              "    <tr>\n",
              "      <th>4</th>\n",
              "      <td>ARRIVATO APERTO PESSIMO PRODOTTO</td>\n",
              "      <td>negative</td>\n",
              "      <td>arriv apert pessim prodott</td>\n",
              "      <td>[0.024622949971823467, 0.07720488916191945, 0....</td>\n",
              "      <td>0.024623</td>\n",
              "      <td>0.077205</td>\n",
              "      <td>0.104754</td>\n",
              "      <td>-0.133077</td>\n",
              "      <td>0.261053</td>\n",
              "      <td>-0.116749</td>\n",
              "      <td>0.042607</td>\n",
              "      <td>-0.011968</td>\n",
              "      <td>-0.134939</td>\n",
              "      <td>0.107018</td>\n",
              "      <td>-0.065399</td>\n",
              "      <td>0.115100</td>\n",
              "      <td>0.007286</td>\n",
              "      <td>-0.036770</td>\n",
              "      <td>-0.028190</td>\n",
              "      <td>0.009106</td>\n",
              "      <td>0.038686</td>\n",
              "      <td>0.032256</td>\n",
              "      <td>0.056017</td>\n",
              "      <td>-0.048003</td>\n",
              "      <td>-0.017674</td>\n",
              "      <td>0.033227</td>\n",
              "      <td>-0.025836</td>\n",
              "      <td>-0.009794</td>\n",
              "      <td>0.107878</td>\n",
              "      <td>-0.045588</td>\n",
              "      <td>-0.018997</td>\n",
              "      <td>-0.053013</td>\n",
              "      <td>-0.125225</td>\n",
              "      <td>-0.050173</td>\n",
              "      <td>0.085992</td>\n",
              "      <td>-0.243862</td>\n",
              "      <td>0.090571</td>\n",
              "      <td>0.330075</td>\n",
              "      <td>0.078079</td>\n",
              "      <td>-0.182693</td>\n",
              "      <td>...</td>\n",
              "      <td>-0.001026</td>\n",
              "      <td>-0.008607</td>\n",
              "      <td>-0.004902</td>\n",
              "      <td>0.005900</td>\n",
              "      <td>0.008167</td>\n",
              "      <td>-0.013703</td>\n",
              "      <td>-0.000115</td>\n",
              "      <td>0.002053</td>\n",
              "      <td>0.012658</td>\n",
              "      <td>0.004097</td>\n",
              "      <td>0.018366</td>\n",
              "      <td>-0.002278</td>\n",
              "      <td>-0.009842</td>\n",
              "      <td>0.003966</td>\n",
              "      <td>-0.007308</td>\n",
              "      <td>0.006488</td>\n",
              "      <td>-0.021583</td>\n",
              "      <td>0.003343</td>\n",
              "      <td>0.003939</td>\n",
              "      <td>-0.007270</td>\n",
              "      <td>0.003429</td>\n",
              "      <td>-0.004072</td>\n",
              "      <td>0.006470</td>\n",
              "      <td>0.007423</td>\n",
              "      <td>-0.008437</td>\n",
              "      <td>0.004770</td>\n",
              "      <td>0.007399</td>\n",
              "      <td>-0.006165</td>\n",
              "      <td>-0.004514</td>\n",
              "      <td>0.005003</td>\n",
              "      <td>-0.002977</td>\n",
              "      <td>-0.004988</td>\n",
              "      <td>0.001843</td>\n",
              "      <td>-0.003085</td>\n",
              "      <td>-0.005825</td>\n",
              "      <td>0.000523</td>\n",
              "      <td>0.005671</td>\n",
              "      <td>-0.007125</td>\n",
              "      <td>-0.004923</td>\n",
              "      <td>0.000338</td>\n",
              "    </tr>\n",
              "  </tbody>\n",
              "</table>\n",
              "<p>5 rows × 204 columns</p>\n",
              "</div>"
            ],
            "text/plain": [
              "                                                Text  ...   feat200\n",
              "0  Ho acquistato questa confezione di mascherine ...  ...  0.010876\n",
              "1  Attenzione, ha un ferretto nasale in plastica ...  ...  0.002939\n",
              "2  La confezione di cartone era già aperta, appen...  ...  0.001672\n",
              "3  Mascherine vendute come \"Maschera Chirurgica 3...  ...  0.002367\n",
              "4                   ARRIVATO APERTO PESSIMO PRODOTTO  ...  0.000338\n",
              "\n",
              "[5 rows x 204 columns]"
            ]
          },
          "metadata": {
            "tags": []
          },
          "execution_count": 87
        }
      ]
    },
    {
      "cell_type": "code",
      "metadata": {
        "id": "KDEzNQwCUluK",
        "colab_type": "code",
        "colab": {
          "base_uri": "https://localhost:8080/",
          "height": 679
        },
        "outputId": "68234c94-be81-45c4-bd72-6babdf3ce59c"
      },
      "source": [
        "TrainData.head()"
      ],
      "execution_count": 90,
      "outputs": [
        {
          "output_type": "execute_result",
          "data": {
            "text/html": [
              "<div>\n",
              "<style scoped>\n",
              "    .dataframe tbody tr th:only-of-type {\n",
              "        vertical-align: middle;\n",
              "    }\n",
              "\n",
              "    .dataframe tbody tr th {\n",
              "        vertical-align: top;\n",
              "    }\n",
              "\n",
              "    .dataframe thead th {\n",
              "        text-align: right;\n",
              "    }\n",
              "</style>\n",
              "<table border=\"1\" class=\"dataframe\">\n",
              "  <thead>\n",
              "    <tr style=\"text-align: right;\">\n",
              "      <th></th>\n",
              "      <th>Text</th>\n",
              "      <th>Sentiment</th>\n",
              "      <th>Processed Text</th>\n",
              "      <th>TfIdfVectors</th>\n",
              "      <th>feat1</th>\n",
              "      <th>feat2</th>\n",
              "      <th>feat3</th>\n",
              "      <th>feat4</th>\n",
              "      <th>feat5</th>\n",
              "      <th>feat6</th>\n",
              "      <th>feat7</th>\n",
              "      <th>feat8</th>\n",
              "      <th>feat9</th>\n",
              "      <th>feat10</th>\n",
              "      <th>feat11</th>\n",
              "      <th>feat12</th>\n",
              "      <th>feat13</th>\n",
              "      <th>feat14</th>\n",
              "      <th>feat15</th>\n",
              "      <th>feat16</th>\n",
              "      <th>feat17</th>\n",
              "      <th>feat18</th>\n",
              "      <th>feat19</th>\n",
              "      <th>feat20</th>\n",
              "      <th>feat21</th>\n",
              "      <th>feat22</th>\n",
              "      <th>feat23</th>\n",
              "      <th>feat24</th>\n",
              "      <th>feat25</th>\n",
              "      <th>feat26</th>\n",
              "      <th>feat27</th>\n",
              "      <th>feat28</th>\n",
              "      <th>feat29</th>\n",
              "      <th>feat30</th>\n",
              "      <th>feat31</th>\n",
              "      <th>feat32</th>\n",
              "      <th>feat33</th>\n",
              "      <th>feat34</th>\n",
              "      <th>feat35</th>\n",
              "      <th>feat36</th>\n",
              "      <th>...</th>\n",
              "      <th>feat161</th>\n",
              "      <th>feat162</th>\n",
              "      <th>feat163</th>\n",
              "      <th>feat164</th>\n",
              "      <th>feat165</th>\n",
              "      <th>feat166</th>\n",
              "      <th>feat167</th>\n",
              "      <th>feat168</th>\n",
              "      <th>feat169</th>\n",
              "      <th>feat170</th>\n",
              "      <th>feat171</th>\n",
              "      <th>feat172</th>\n",
              "      <th>feat173</th>\n",
              "      <th>feat174</th>\n",
              "      <th>feat175</th>\n",
              "      <th>feat176</th>\n",
              "      <th>feat177</th>\n",
              "      <th>feat178</th>\n",
              "      <th>feat179</th>\n",
              "      <th>feat180</th>\n",
              "      <th>feat181</th>\n",
              "      <th>feat182</th>\n",
              "      <th>feat183</th>\n",
              "      <th>feat184</th>\n",
              "      <th>feat185</th>\n",
              "      <th>feat186</th>\n",
              "      <th>feat187</th>\n",
              "      <th>feat188</th>\n",
              "      <th>feat189</th>\n",
              "      <th>feat190</th>\n",
              "      <th>feat191</th>\n",
              "      <th>feat192</th>\n",
              "      <th>feat193</th>\n",
              "      <th>feat194</th>\n",
              "      <th>feat195</th>\n",
              "      <th>feat196</th>\n",
              "      <th>feat197</th>\n",
              "      <th>feat198</th>\n",
              "      <th>feat199</th>\n",
              "      <th>feat200</th>\n",
              "    </tr>\n",
              "  </thead>\n",
              "  <tbody>\n",
              "    <tr>\n",
              "      <th>0</th>\n",
              "      <td>Ho acquistato questa confezione di mascherine ...</td>\n",
              "      <td>positive</td>\n",
              "      <td>ho acquist confezion mascherin 19 99 quind 40 ...</td>\n",
              "      <td>[0.27247792065239457, 0.21972266346699976, 0.0...</td>\n",
              "      <td>0.272478</td>\n",
              "      <td>0.219723</td>\n",
              "      <td>0.024187</td>\n",
              "      <td>-0.035276</td>\n",
              "      <td>-0.060019</td>\n",
              "      <td>0.032466</td>\n",
              "      <td>-0.140034</td>\n",
              "      <td>-0.021274</td>\n",
              "      <td>0.010797</td>\n",
              "      <td>-0.139642</td>\n",
              "      <td>-0.248782</td>\n",
              "      <td>-0.112859</td>\n",
              "      <td>0.077791</td>\n",
              "      <td>-0.032370</td>\n",
              "      <td>-0.078478</td>\n",
              "      <td>0.049554</td>\n",
              "      <td>0.066917</td>\n",
              "      <td>-0.007913</td>\n",
              "      <td>-0.012080</td>\n",
              "      <td>-0.078611</td>\n",
              "      <td>0.038777</td>\n",
              "      <td>0.035575</td>\n",
              "      <td>-0.046226</td>\n",
              "      <td>0.047796</td>\n",
              "      <td>0.095787</td>\n",
              "      <td>-0.013445</td>\n",
              "      <td>0.033574</td>\n",
              "      <td>-0.046113</td>\n",
              "      <td>0.052642</td>\n",
              "      <td>0.079219</td>\n",
              "      <td>0.009382</td>\n",
              "      <td>0.105429</td>\n",
              "      <td>0.146709</td>\n",
              "      <td>0.016257</td>\n",
              "      <td>0.265021</td>\n",
              "      <td>0.183178</td>\n",
              "      <td>...</td>\n",
              "      <td>0.000712</td>\n",
              "      <td>0.003130</td>\n",
              "      <td>0.007188</td>\n",
              "      <td>-0.002206</td>\n",
              "      <td>0.016861</td>\n",
              "      <td>0.005693</td>\n",
              "      <td>0.007154</td>\n",
              "      <td>-0.008933</td>\n",
              "      <td>-0.001005</td>\n",
              "      <td>-0.001717</td>\n",
              "      <td>-0.006622</td>\n",
              "      <td>0.010369</td>\n",
              "      <td>-0.006517</td>\n",
              "      <td>0.000171</td>\n",
              "      <td>-0.007744</td>\n",
              "      <td>-0.008937</td>\n",
              "      <td>-0.002413</td>\n",
              "      <td>-0.011081</td>\n",
              "      <td>-0.007513</td>\n",
              "      <td>0.016864</td>\n",
              "      <td>-0.013261</td>\n",
              "      <td>0.015795</td>\n",
              "      <td>-0.013149</td>\n",
              "      <td>-0.005551</td>\n",
              "      <td>0.005734</td>\n",
              "      <td>0.001783</td>\n",
              "      <td>0.001591</td>\n",
              "      <td>0.003175</td>\n",
              "      <td>-0.005366</td>\n",
              "      <td>-0.001279</td>\n",
              "      <td>0.007140</td>\n",
              "      <td>0.002043</td>\n",
              "      <td>-0.014306</td>\n",
              "      <td>-0.009748</td>\n",
              "      <td>0.001553</td>\n",
              "      <td>0.003029</td>\n",
              "      <td>0.013427</td>\n",
              "      <td>-0.001351</td>\n",
              "      <td>0.001680</td>\n",
              "      <td>0.010876</td>\n",
              "    </tr>\n",
              "    <tr>\n",
              "      <th>1</th>\n",
              "      <td>Attenzione, ha un ferretto nasale in plastica ...</td>\n",
              "      <td>negative</td>\n",
              "      <td>attenzion ferrett nasal plastic permett far ad...</td>\n",
              "      <td>[0.16908623342662926, 0.09757413226524703, -0....</td>\n",
              "      <td>0.169086</td>\n",
              "      <td>0.097574</td>\n",
              "      <td>-0.005238</td>\n",
              "      <td>-0.042576</td>\n",
              "      <td>-0.009253</td>\n",
              "      <td>0.007023</td>\n",
              "      <td>-0.082983</td>\n",
              "      <td>-0.028276</td>\n",
              "      <td>0.077973</td>\n",
              "      <td>-0.068384</td>\n",
              "      <td>-0.041844</td>\n",
              "      <td>-0.048824</td>\n",
              "      <td>0.046407</td>\n",
              "      <td>-0.028404</td>\n",
              "      <td>-0.075385</td>\n",
              "      <td>0.050105</td>\n",
              "      <td>0.039076</td>\n",
              "      <td>-0.017067</td>\n",
              "      <td>0.119496</td>\n",
              "      <td>-0.014493</td>\n",
              "      <td>0.042645</td>\n",
              "      <td>0.027865</td>\n",
              "      <td>-0.005659</td>\n",
              "      <td>0.073627</td>\n",
              "      <td>0.059247</td>\n",
              "      <td>-0.073071</td>\n",
              "      <td>0.085659</td>\n",
              "      <td>-0.066784</td>\n",
              "      <td>0.108375</td>\n",
              "      <td>0.043017</td>\n",
              "      <td>-0.071770</td>\n",
              "      <td>0.073374</td>\n",
              "      <td>0.198330</td>\n",
              "      <td>-0.035712</td>\n",
              "      <td>0.394452</td>\n",
              "      <td>0.091456</td>\n",
              "      <td>...</td>\n",
              "      <td>0.008430</td>\n",
              "      <td>-0.002051</td>\n",
              "      <td>0.005653</td>\n",
              "      <td>-0.001060</td>\n",
              "      <td>-0.001239</td>\n",
              "      <td>-0.003488</td>\n",
              "      <td>-0.000415</td>\n",
              "      <td>-0.009582</td>\n",
              "      <td>0.009058</td>\n",
              "      <td>-0.001457</td>\n",
              "      <td>-0.003282</td>\n",
              "      <td>-0.006317</td>\n",
              "      <td>0.003986</td>\n",
              "      <td>-0.007342</td>\n",
              "      <td>-0.003682</td>\n",
              "      <td>-0.001634</td>\n",
              "      <td>0.004405</td>\n",
              "      <td>-0.001732</td>\n",
              "      <td>0.009430</td>\n",
              "      <td>0.000913</td>\n",
              "      <td>0.002386</td>\n",
              "      <td>-0.002332</td>\n",
              "      <td>-0.004043</td>\n",
              "      <td>0.001671</td>\n",
              "      <td>0.004705</td>\n",
              "      <td>0.012583</td>\n",
              "      <td>-0.000720</td>\n",
              "      <td>0.003781</td>\n",
              "      <td>-0.000824</td>\n",
              "      <td>-0.007811</td>\n",
              "      <td>0.002804</td>\n",
              "      <td>0.002463</td>\n",
              "      <td>-0.001740</td>\n",
              "      <td>0.002401</td>\n",
              "      <td>-0.001963</td>\n",
              "      <td>0.001424</td>\n",
              "      <td>-0.007116</td>\n",
              "      <td>0.000450</td>\n",
              "      <td>0.004899</td>\n",
              "      <td>0.002939</td>\n",
              "    </tr>\n",
              "    <tr>\n",
              "      <th>2</th>\n",
              "      <td>La confezione di cartone era già aperta, appen...</td>\n",
              "      <td>negative</td>\n",
              "      <td>la confezion carton già apert appen pres lat t...</td>\n",
              "      <td>[0.21797217894206228, 0.12299623105572668, 0.0...</td>\n",
              "      <td>0.217972</td>\n",
              "      <td>0.122996</td>\n",
              "      <td>0.065318</td>\n",
              "      <td>-0.045467</td>\n",
              "      <td>0.058404</td>\n",
              "      <td>0.044320</td>\n",
              "      <td>0.009989</td>\n",
              "      <td>0.067978</td>\n",
              "      <td>0.051968</td>\n",
              "      <td>-0.041222</td>\n",
              "      <td>-0.274352</td>\n",
              "      <td>-0.081080</td>\n",
              "      <td>0.066843</td>\n",
              "      <td>-0.117769</td>\n",
              "      <td>-0.090430</td>\n",
              "      <td>0.109259</td>\n",
              "      <td>0.094669</td>\n",
              "      <td>-0.007535</td>\n",
              "      <td>-0.113081</td>\n",
              "      <td>-0.007895</td>\n",
              "      <td>0.055765</td>\n",
              "      <td>-0.036258</td>\n",
              "      <td>-0.049051</td>\n",
              "      <td>-0.080781</td>\n",
              "      <td>0.004164</td>\n",
              "      <td>0.025648</td>\n",
              "      <td>-0.068258</td>\n",
              "      <td>0.020109</td>\n",
              "      <td>-0.114043</td>\n",
              "      <td>-0.034672</td>\n",
              "      <td>-0.062693</td>\n",
              "      <td>-0.048389</td>\n",
              "      <td>-0.086449</td>\n",
              "      <td>0.175677</td>\n",
              "      <td>-0.002588</td>\n",
              "      <td>-0.203799</td>\n",
              "      <td>...</td>\n",
              "      <td>-0.001298</td>\n",
              "      <td>0.008515</td>\n",
              "      <td>-0.013129</td>\n",
              "      <td>-0.005722</td>\n",
              "      <td>-0.000380</td>\n",
              "      <td>0.002795</td>\n",
              "      <td>0.006812</td>\n",
              "      <td>0.010063</td>\n",
              "      <td>-0.004645</td>\n",
              "      <td>0.002088</td>\n",
              "      <td>0.006688</td>\n",
              "      <td>0.011200</td>\n",
              "      <td>0.006949</td>\n",
              "      <td>0.002952</td>\n",
              "      <td>0.002058</td>\n",
              "      <td>-0.003507</td>\n",
              "      <td>0.005913</td>\n",
              "      <td>0.004957</td>\n",
              "      <td>0.003159</td>\n",
              "      <td>0.003091</td>\n",
              "      <td>-0.003575</td>\n",
              "      <td>-0.002152</td>\n",
              "      <td>-0.002908</td>\n",
              "      <td>0.003800</td>\n",
              "      <td>-0.002425</td>\n",
              "      <td>0.000170</td>\n",
              "      <td>-0.003258</td>\n",
              "      <td>0.003702</td>\n",
              "      <td>0.006239</td>\n",
              "      <td>-0.000163</td>\n",
              "      <td>0.004509</td>\n",
              "      <td>0.000061</td>\n",
              "      <td>0.003800</td>\n",
              "      <td>-0.000824</td>\n",
              "      <td>0.002099</td>\n",
              "      <td>-0.000275</td>\n",
              "      <td>-0.001592</td>\n",
              "      <td>0.004395</td>\n",
              "      <td>0.002083</td>\n",
              "      <td>0.001672</td>\n",
              "    </tr>\n",
              "    <tr>\n",
              "      <th>3</th>\n",
              "      <td>Mascherine vendute come \"Maschera Chirurgica 3...</td>\n",
              "      <td>negative</td>\n",
              "      <td>mascherin vend mascher chirurg 3p tip iir conf...</td>\n",
              "      <td>[0.07175741115385922, 0.03131215810517044, 0.0...</td>\n",
              "      <td>0.071757</td>\n",
              "      <td>0.031312</td>\n",
              "      <td>0.035936</td>\n",
              "      <td>-0.057036</td>\n",
              "      <td>0.000778</td>\n",
              "      <td>-0.014077</td>\n",
              "      <td>-0.084098</td>\n",
              "      <td>0.079488</td>\n",
              "      <td>0.059257</td>\n",
              "      <td>-0.149626</td>\n",
              "      <td>-0.212587</td>\n",
              "      <td>-0.042393</td>\n",
              "      <td>0.069109</td>\n",
              "      <td>-0.001030</td>\n",
              "      <td>-0.024891</td>\n",
              "      <td>0.020581</td>\n",
              "      <td>0.087634</td>\n",
              "      <td>0.046171</td>\n",
              "      <td>-0.027870</td>\n",
              "      <td>-0.050561</td>\n",
              "      <td>-0.033546</td>\n",
              "      <td>0.017294</td>\n",
              "      <td>0.057090</td>\n",
              "      <td>0.016539</td>\n",
              "      <td>0.036593</td>\n",
              "      <td>0.041356</td>\n",
              "      <td>-0.170997</td>\n",
              "      <td>0.033856</td>\n",
              "      <td>-0.117031</td>\n",
              "      <td>-0.043175</td>\n",
              "      <td>0.032733</td>\n",
              "      <td>-0.043034</td>\n",
              "      <td>-0.032720</td>\n",
              "      <td>-0.122345</td>\n",
              "      <td>-0.123200</td>\n",
              "      <td>-0.045622</td>\n",
              "      <td>...</td>\n",
              "      <td>-0.003952</td>\n",
              "      <td>-0.002479</td>\n",
              "      <td>0.001994</td>\n",
              "      <td>0.000033</td>\n",
              "      <td>0.000913</td>\n",
              "      <td>0.001603</td>\n",
              "      <td>0.003920</td>\n",
              "      <td>0.002515</td>\n",
              "      <td>-0.005151</td>\n",
              "      <td>-0.003730</td>\n",
              "      <td>-0.000670</td>\n",
              "      <td>0.001214</td>\n",
              "      <td>-0.000396</td>\n",
              "      <td>-0.001674</td>\n",
              "      <td>0.005860</td>\n",
              "      <td>0.002220</td>\n",
              "      <td>0.001087</td>\n",
              "      <td>0.002812</td>\n",
              "      <td>-0.013707</td>\n",
              "      <td>0.005236</td>\n",
              "      <td>0.000314</td>\n",
              "      <td>-0.007154</td>\n",
              "      <td>-0.001894</td>\n",
              "      <td>-0.000474</td>\n",
              "      <td>0.004815</td>\n",
              "      <td>-0.005157</td>\n",
              "      <td>-0.000861</td>\n",
              "      <td>0.002101</td>\n",
              "      <td>0.003857</td>\n",
              "      <td>0.004209</td>\n",
              "      <td>0.002201</td>\n",
              "      <td>-0.000673</td>\n",
              "      <td>-0.002494</td>\n",
              "      <td>0.000732</td>\n",
              "      <td>0.003137</td>\n",
              "      <td>-0.006297</td>\n",
              "      <td>-0.001338</td>\n",
              "      <td>0.000829</td>\n",
              "      <td>0.000068</td>\n",
              "      <td>0.002367</td>\n",
              "    </tr>\n",
              "    <tr>\n",
              "      <th>4</th>\n",
              "      <td>ARRIVATO APERTO PESSIMO PRODOTTO</td>\n",
              "      <td>negative</td>\n",
              "      <td>arriv apert pessim prodott</td>\n",
              "      <td>[0.024622949971823467, 0.07720488916191945, 0....</td>\n",
              "      <td>0.024623</td>\n",
              "      <td>0.077205</td>\n",
              "      <td>0.104754</td>\n",
              "      <td>-0.133077</td>\n",
              "      <td>0.261053</td>\n",
              "      <td>-0.116749</td>\n",
              "      <td>0.042607</td>\n",
              "      <td>-0.011968</td>\n",
              "      <td>-0.134939</td>\n",
              "      <td>0.107018</td>\n",
              "      <td>-0.065399</td>\n",
              "      <td>0.115100</td>\n",
              "      <td>0.007286</td>\n",
              "      <td>-0.036770</td>\n",
              "      <td>-0.028190</td>\n",
              "      <td>0.009106</td>\n",
              "      <td>0.038686</td>\n",
              "      <td>0.032256</td>\n",
              "      <td>0.056017</td>\n",
              "      <td>-0.048003</td>\n",
              "      <td>-0.017674</td>\n",
              "      <td>0.033227</td>\n",
              "      <td>-0.025836</td>\n",
              "      <td>-0.009794</td>\n",
              "      <td>0.107878</td>\n",
              "      <td>-0.045588</td>\n",
              "      <td>-0.018997</td>\n",
              "      <td>-0.053013</td>\n",
              "      <td>-0.125225</td>\n",
              "      <td>-0.050173</td>\n",
              "      <td>0.085992</td>\n",
              "      <td>-0.243862</td>\n",
              "      <td>0.090571</td>\n",
              "      <td>0.330075</td>\n",
              "      <td>0.078079</td>\n",
              "      <td>-0.182693</td>\n",
              "      <td>...</td>\n",
              "      <td>-0.001026</td>\n",
              "      <td>-0.008607</td>\n",
              "      <td>-0.004902</td>\n",
              "      <td>0.005900</td>\n",
              "      <td>0.008167</td>\n",
              "      <td>-0.013703</td>\n",
              "      <td>-0.000115</td>\n",
              "      <td>0.002053</td>\n",
              "      <td>0.012658</td>\n",
              "      <td>0.004097</td>\n",
              "      <td>0.018366</td>\n",
              "      <td>-0.002278</td>\n",
              "      <td>-0.009842</td>\n",
              "      <td>0.003966</td>\n",
              "      <td>-0.007308</td>\n",
              "      <td>0.006488</td>\n",
              "      <td>-0.021583</td>\n",
              "      <td>0.003343</td>\n",
              "      <td>0.003939</td>\n",
              "      <td>-0.007270</td>\n",
              "      <td>0.003429</td>\n",
              "      <td>-0.004072</td>\n",
              "      <td>0.006470</td>\n",
              "      <td>0.007423</td>\n",
              "      <td>-0.008437</td>\n",
              "      <td>0.004770</td>\n",
              "      <td>0.007399</td>\n",
              "      <td>-0.006165</td>\n",
              "      <td>-0.004514</td>\n",
              "      <td>0.005003</td>\n",
              "      <td>-0.002977</td>\n",
              "      <td>-0.004988</td>\n",
              "      <td>0.001843</td>\n",
              "      <td>-0.003085</td>\n",
              "      <td>-0.005825</td>\n",
              "      <td>0.000523</td>\n",
              "      <td>0.005671</td>\n",
              "      <td>-0.007125</td>\n",
              "      <td>-0.004923</td>\n",
              "      <td>0.000338</td>\n",
              "    </tr>\n",
              "  </tbody>\n",
              "</table>\n",
              "<p>5 rows × 204 columns</p>\n",
              "</div>"
            ],
            "text/plain": [
              "                                                Text  ...   feat200\n",
              "0  Ho acquistato questa confezione di mascherine ...  ...  0.010876\n",
              "1  Attenzione, ha un ferretto nasale in plastica ...  ...  0.002939\n",
              "2  La confezione di cartone era già aperta, appen...  ...  0.001672\n",
              "3  Mascherine vendute come \"Maschera Chirurgica 3...  ...  0.002367\n",
              "4                   ARRIVATO APERTO PESSIMO PRODOTTO  ...  0.000338\n",
              "\n",
              "[5 rows x 204 columns]"
            ]
          },
          "metadata": {
            "tags": []
          },
          "execution_count": 90
        }
      ]
    },
    {
      "cell_type": "markdown",
      "metadata": {
        "id": "tWVhONDE8sqq",
        "colab_type": "text"
      },
      "source": [
        "## SVM LAST STEP"
      ]
    },
    {
      "cell_type": "code",
      "metadata": {
        "id": "OL83iX8Vap8A",
        "colab_type": "code",
        "colab": {}
      },
      "source": [
        "import pandas as pd\n",
        "TrainData = pd.read_csv('/content/drive/My Drive/Topic detection/TfIdfData.csv', index_col = 0 )\n",
        "TrainData.head()"
      ],
      "execution_count": null,
      "outputs": []
    },
    {
      "cell_type": "code",
      "metadata": {
        "id": "eS8ycycUap-W",
        "colab_type": "code",
        "colab": {
          "base_uri": "https://localhost:8080/",
          "height": 74
        },
        "outputId": "49b16616-b61b-46c8-9f6c-6b5c49b98074"
      },
      "source": [
        "import numpy as np\n",
        "import pylab as pl\n",
        "import pandas as pd\n",
        "import matplotlib.pyplot as plt \n",
        "%matplotlib inline\n",
        "import seaborn as sns\n",
        "from sklearn.utils import shuffle\n",
        "from sklearn.svm import SVC\n",
        "from sklearn.metrics import confusion_matrix,classification_report\n",
        "from sklearn.model_selection import cross_val_score, GridSearchCV"
      ],
      "execution_count": 96,
      "outputs": [
        {
          "output_type": "stream",
          "text": [
            "/usr/local/lib/python3.6/dist-packages/statsmodels/tools/_testing.py:19: FutureWarning: pandas.util.testing is deprecated. Use the functions in the public API at pandas.testing instead.\n",
            "  import pandas.util.testing as tm\n"
          ],
          "name": "stderr"
        }
      ]
    },
    {
      "cell_type": "code",
      "metadata": {
        "id": "KK9hSmR3Ty3l",
        "colab_type": "code",
        "colab": {
          "base_uri": "https://localhost:8080/",
          "height": 90
        },
        "outputId": "14af195d-0eff-4b0f-ee92-ac306ab34f10"
      },
      "source": [
        "# Seperating Predictors and Outcome values from train and test sets\n",
        "X_train = TrainData.drop(['Text', 'Sentiment', 'Processed Text', 'TfIdfVectors'], axis = 1)\n",
        "Y_train_label = TrainData['Sentiment']\n",
        "#X_test = TrainData.drop(['Text', 'Sentiment', 'Processed Text', 'TfIdfVectors'], axis = 1)\n",
        "###Y_test_label = TrainData['Sentiment']\n",
        "\n",
        "# Dimension of Train and Test set \n",
        "print(\"Dimension of Train set\",X_train.shape)\n",
        "print(\"Dimension of Test set\",X_test.shape,\"\\n\")\n",
        "\n",
        "# Transforming non numerical labels into numerical labels\n",
        "from sklearn import preprocessing\n",
        "encoder = preprocessing.LabelEncoder()\n",
        "\n",
        "# encoding train labels \n",
        "encoder.fit(Y_train_label)\n",
        "Y_train = encoder.transform(Y_train_label)\n",
        "\n",
        "# encoding test labels \n",
        "#encoder.fit(Y_test_label)\n",
        "#Y_test = encoder.transform(Y_test_label)\n",
        "\n",
        "#Total Number of Continous and Categorical features in the training set\n",
        "num_cols = X_train._get_numeric_data().columns\n",
        "print(\"Number of numeric features:\",num_cols.size)\n",
        "#list(set(X_train.columns) - set(num_cols))\n",
        "\n",
        "\n",
        "names_of_predictors = list(X_train.columns.values)\n",
        "\n",
        "# Scaling the Train and Test feature set \n",
        "from sklearn.preprocessing import StandardScaler\n",
        "scaler = StandardScaler()\n",
        "X_train_scaled = scaler.fit_transform(X_train)\n",
        "#X_test_scaled = scaler.transform(X_test)"
      ],
      "execution_count": 93,
      "outputs": [
        {
          "output_type": "stream",
          "text": [
            "Dimension of Train set (613, 200)\n",
            "Dimension of Test set (613, 200) \n",
            "\n",
            "Number of numeric features: 200\n"
          ],
          "name": "stdout"
        }
      ]
    },
    {
      "cell_type": "code",
      "metadata": {
        "id": "V8offFZOcHfn",
        "colab_type": "code",
        "colab": {
          "base_uri": "https://localhost:8080/",
          "height": 35
        },
        "outputId": "b09b5fd9-57b2-46aa-bc34-693ca4d7776f"
      },
      "source": [
        "from sklearn.svm import SVC\n",
        "from sklearn.metrics import confusion_matrix,classification_report\n",
        "from sklearn.model_selection import cross_val_score, GridSearchCV, cross_validate\n",
        "\n",
        "final_model = SVC()\n",
        "final_model.fit(X_train_scaled, Y_train)\n",
        "scores = cross_val_score(final_model ,X_train_scaled, Y_train,\n",
        "                       scoring='neg_mean_squared_error', cv = 30)# 'f1-macro'\n",
        "_rmse_scores = np.sqrt(-scores)\n",
        "_rmse_scores.mean()"
      ],
      "execution_count": 123,
      "outputs": [
        {
          "output_type": "execute_result",
          "data": {
            "text/plain": [
              "0.34264450379932465"
            ]
          },
          "metadata": {
            "tags": []
          },
          "execution_count": 123
        }
      ]
    },
    {
      "cell_type": "code",
      "metadata": {
        "id": "CLxl9Qkec9HD",
        "colab_type": "code",
        "colab": {
          "base_uri": "https://localhost:8080/",
          "height": 90
        },
        "outputId": "6f6bf05e-06a9-48e0-f394-6e81b504b9ed"
      },
      "source": [
        "scores"
      ],
      "execution_count": 122,
      "outputs": [
        {
          "output_type": "execute_result",
          "data": {
            "text/plain": [
              "array([-0.12903226, -0.74193548, -0.70967742, -0.51612903, -0.35483871,\n",
              "       -0.38709677, -0.38709677, -0.        , -0.70967742, -0.77419355,\n",
              "       -0.5483871 , -0.83870968, -0.51612903, -0.        , -0.26666667,\n",
              "       -0.03333333, -0.        , -0.03333333, -0.06666667, -0.06666667])"
            ]
          },
          "metadata": {
            "tags": []
          },
          "execution_count": 122
        }
      ]
    },
    {
      "cell_type": "code",
      "metadata": {
        "id": "_oV_UTX8a4qp",
        "colab_type": "code",
        "colab": {}
      },
      "source": [
        "#Libraries to Build Ensemble Model : Random Forest Classifier \n",
        "# Create the parameter grid based on the results of random search \n",
        "params_grid = [{'kernel': ['rbf'], 'gamma': [1e-3, 1e-4],\n",
        "                     'C': [ 1000]},\n",
        "                    {'kernel': ['linear'], 'C': [ 1000]}]"
      ],
      "execution_count": 94,
      "outputs": []
    },
    {
      "cell_type": "code",
      "metadata": {
        "id": "4gk-924sa55o",
        "colab_type": "code",
        "colab": {
          "base_uri": "https://localhost:8080/",
          "height": 254
        },
        "outputId": "013c155c-e6df-4d64-cbe4-6450f69afbd5"
      },
      "source": [
        "svm_model = GridSearchCV(SVC(), params_grid, cv=5)\n",
        "svm_model.fit(X_train_scaled, Y_train)"
      ],
      "execution_count": 97,
      "outputs": [
        {
          "output_type": "execute_result",
          "data": {
            "text/plain": [
              "GridSearchCV(cv=5, error_score=nan,\n",
              "             estimator=SVC(C=1.0, break_ties=False, cache_size=200,\n",
              "                           class_weight=None, coef0=0.0,\n",
              "                           decision_function_shape='ovr', degree=3,\n",
              "                           gamma='scale', kernel='rbf', max_iter=-1,\n",
              "                           probability=False, random_state=None, shrinking=True,\n",
              "                           tol=0.001, verbose=False),\n",
              "             iid='deprecated', n_jobs=None,\n",
              "             param_grid=[{'C': [1, 10, 100, 1000], 'gamma': [0.001, 0.0001],\n",
              "                          'kernel': ['rbf']},\n",
              "                         {'C': [1, 10, 100, 1000], 'kernel': ['linear']}],\n",
              "             pre_dispatch='2*n_jobs', refit=True, return_train_score=False,\n",
              "             scoring=None, verbose=0)"
            ]
          },
          "metadata": {
            "tags": []
          },
          "execution_count": 97
        }
      ]
    },
    {
      "cell_type": "code",
      "metadata": {
        "id": "5LQL2nOEbIrP",
        "colab_type": "code",
        "colab": {}
      },
      "source": [
        "final_model = svm_model.best_estimator_\n",
        "Y_pred = final_model.predict(X_test_scaled)\n",
        "Y_pred_label = list(encoder.inverse_transform(Y_pred))"
      ],
      "execution_count": 98,
      "outputs": []
    },
    {
      "cell_type": "code",
      "metadata": {
        "id": "Im_UuQqcbV8-",
        "colab_type": "code",
        "colab": {}
      },
      "source": [
        "print(confusion_matrix(Y_test_label,Y_pred_label))\n",
        "print(\"\\n\")\n",
        "print(classification_report(Y_test_label,Y_pred_label))\n",
        "\n",
        "print(\"Training set score for SVM: %f\" % final_model.score(X_train_scaled , Y_train))\n",
        "print(\"Testing  set score for SVM: %f\" % final_model.score(X_test_scaled  , Y_test ))\n",
        "\n",
        "svm_model.score"
      ],
      "execution_count": null,
      "outputs": []
    },
    {
      "cell_type": "code",
      "metadata": {
        "id": "dViJ4440TzKv",
        "colab_type": "code",
        "colab": {}
      },
      "source": [
        ""
      ],
      "execution_count": null,
      "outputs": []
    },
    {
      "cell_type": "code",
      "metadata": {
        "id": "HFxIXHDeTzNn",
        "colab_type": "code",
        "colab": {}
      },
      "source": [
        ""
      ],
      "execution_count": null,
      "outputs": []
    },
    {
      "cell_type": "code",
      "metadata": {
        "id": "U5H3mkLHTzPh",
        "colab_type": "code",
        "colab": {}
      },
      "source": [
        ""
      ],
      "execution_count": null,
      "outputs": []
    }
  ]
}